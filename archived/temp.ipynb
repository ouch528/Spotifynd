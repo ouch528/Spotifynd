{
 "cells": [
  {
   "cell_type": "code",
   "execution_count": 1,
   "metadata": {},
   "outputs": [],
   "source": [
    "import pandas as pd"
   ]
  },
  {
   "cell_type": "code",
   "execution_count": 5,
   "metadata": {},
   "outputs": [],
   "source": [
    "diff_songs = pd.read_csv(\"/Users/ohungchan/Downloads/different_duration_tracks.csv\")\n",
    "original = pd.read_parquet(\"phase1_data_collection/raw datasets/track_raw.parquet\")"
   ]
  },
  {
   "cell_type": "code",
   "execution_count": 6,
   "metadata": {},
   "outputs": [],
   "source": [
    "# Step 1: Filter rows in df where track_uri exists in diff_songs\n",
    "filtered_df = original[original[\"track_uri\"].isin(diff_songs[\"track_uri\"])]\n",
    "\n",
    "# Step 2: Merge filtered_df with diff_songs to get the updated duration_ms\n",
    "updated_df = filtered_df.merge(diff_songs[[\"track_uri\", \"duration_ms_file2\"]], \n",
    "                               on=\"track_uri\", how=\"left\")\n",
    "\n",
    "# Step 3: Update the original df with the new duration_ms values\n",
    "original.loc[original[\"track_uri\"].isin(updated_df[\"track_uri\"]), \"duration_ms\"] = updated_df[\"duration_ms_file2\"].values\n"
   ]
  },
  {
   "cell_type": "code",
   "execution_count": null,
   "metadata": {},
   "outputs": [],
   "source": [
    "filtered_df = original[original[\"track_uri\"].isin(diff_songs[\"track_uri\"])]"
   ]
  }
 ],
 "metadata": {
  "kernelspec": {
   "display_name": "myenv",
   "language": "python",
   "name": "python3"
  },
  "language_info": {
   "codemirror_mode": {
    "name": "ipython",
    "version": 3
   },
   "file_extension": ".py",
   "mimetype": "text/x-python",
   "name": "python",
   "nbconvert_exporter": "python",
   "pygments_lexer": "ipython3",
   "version": "3.10.15"
  }
 },
 "nbformat": 4,
 "nbformat_minor": 2
}
