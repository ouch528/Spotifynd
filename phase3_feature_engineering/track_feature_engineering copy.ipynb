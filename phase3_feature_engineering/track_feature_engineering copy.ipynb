{
 "cells": [
  {
   "cell_type": "code",
   "execution_count": 2,
   "metadata": {},
   "outputs": [],
   "source": [
    "import pandas as pd\n",
    "import matplotlib.pyplot as plt\n",
    "from scipy.stats import pearsonr\n",
    "import seaborn as sns\n",
    "import ast\n",
    "import numpy as np\n",
    "import gensim.downloader as api # type: ignore\n",
    "from sklearn.metrics.pairwise import cosine_similarity\n",
    "import scipy.stats as stats\n",
    "from sklearn.preprocessing import QuantileTransformer\n",
    "import torch\n",
    "import logging\n",
    "import pickle\n",
    "import os\n",
    "from tqdm import tqdm\n",
    "from transformers import pipeline\n",
    "from sklearn.cluster import KMeans\n",
    "from sklearn.metrics import silhouette_score\n",
    "from sklearn.mixture import GaussianMixture\n",
    "from sklearn.decomposition import PCA\n",
    "from scipy.spatial.distance import cdist"
   ]
  },
  {
   "cell_type": "markdown",
   "metadata": {},
   "source": [
    "# Load Datasets"
   ]
  },
  {
   "cell_type": "code",
   "execution_count": null,
   "metadata": {},
   "outputs": [],
   "source": [
    "playlist = pd.read_parquet(\"../phase2_data_cleaning/cleaned dataset/playlist_cleaned.parquet\")\n",
    "track = pd.read_parquet(\"../phase2_data_cleaning/cleaned dataset/track_cleaned.parquet\")"
   ]
  },
  {
   "cell_type": "markdown",
   "metadata": {},
   "source": [
    "# Categorization of `duration`"
   ]
  },
  {
   "cell_type": "markdown",
   "metadata": {},
   "source": [
    "For tracks being shorter than 180 seconds (3 min), we will classify it as short. <br> <br>\n",
    "For tracks between 180 seconds (3 min) and 240 seconds (4 min), we will classify it as medium. <br> <br>\n",
    "For tracks being longer than 240 seconds (4 min), we will classify it as short."
   ]
  },
  {
   "cell_type": "code",
   "execution_count": 87,
   "metadata": {},
   "outputs": [],
   "source": [
    "track['category'] = track['duration'].apply(lambda x: 'Short' if x < 180 else 'Medium' if x <= 240 else 'Long')"
   ]
  },
  {
   "cell_type": "code",
   "execution_count": 88,
   "metadata": {},
   "outputs": [
    {
     "data": {
      "image/png": "iVBORw0KGgoAAAANSUhEUgAAAtEAAAHWCAYAAACxJNUiAAAAOnRFWHRTb2Z0d2FyZQBNYXRwbG90bGliIHZlcnNpb24zLjEwLjEsIGh0dHBzOi8vbWF0cGxvdGxpYi5vcmcvc2/+5QAAAAlwSFlzAAAPYQAAD2EBqD+naQAAPthJREFUeJzt3Qd0VFX39/ENhFAlNKkioCBFmgJSRREkCBYQfSIiRJqCgHQkgDRRFKRXUSk+ykNRQaRDsFIE6V1UEAQhKE2QGu679nnXnf9MCuTEIZkk389aYzJzz9x7ZzIjvzmz777pHMdxBAAAAECCpU/4UAAAAACKEA0AAABYIkQDAAAAlgjRAAAAgCVCNAAAAGCJEA0AAABYIkQDAAAAlgjRAAAAgCVCNAAAAGCJEA0gWQ0ePFjSpUuXJNt6+OGHzcX19ddfm21/+umnSbL9F198UYoVKyaB7Pz589KuXTspUKCAeW66desmgezQoUNmP999911JS9zHPXPmzOTeFSDNIkQD8Bv9B13/YXcvmTNnlkKFCkloaKiMHz9e/v77b79s59ixYyZ8b9u2TQJNIO9bQrz11lvm79ixY0f573//Ky1btoz3g8/NLt4fWAKV9/4GBQVJ7ty5pXLlytK1a1fZs2dPcu+ezJ49W8aOHZvcuwEgDkFx3QgA/8bQoUOlePHicvXqVTl+/LiZ8dUZzdGjR8uiRYukQoUKnrEDBgyQvn37WgfVIUOGmFndSpUqJfh+K1eulFvtRvv2/vvvy/Xr1yWQrVmzRqpXry6DBg2Kd8zTTz8tJUqU8Jm91tDdtGlTs8yVP39+SQkeffRRadWqlTiOI2fPnpXt27fLrFmzZPLkyfLOO+9Ijx49kjVE79q1K9Y3AkWLFpWLFy9KxowZk23fgLSOEA3A7x577DGpUqWK53pERIQJZ48//rg8+eSTsnfvXsmSJYtZprN/ermV/vnnH8maNasEBwdLckoJgScqKkrKli17wzH6Icj7g9Cff/5pQrTe9sILL8R7v0uXLpm/Qfr0gfUl6D333BNrv99++2154oknpGfPnlK6dGlp1KiRX1+L/5b7TQ+A5BNY/ycDkGo98sgj8vrrr8tvv/0mH3/88Q1roletWiW1a9eWnDlzSvbs2aVUqVLSr18/s0xntatWrWp+b926teereLc2VEsIypUrJ5s3b5Y6deqYwOLeN2ZNtCs6OtqM0TrgbNmymaB/5MgRnzE6s6w1zTF5r/Nm+xZXTfSFCxdMUCtSpIhkypTJPFat79VZUW+6ns6dO8vChQvN49Ox9957ryxfvjzB4bht27ZmdljDV8WKFc1sa8z68IMHD8qSJUs8+661t4nhrm/OnDnm24bChQubv8W5c+fk1KlT0qtXLylfvrz5++bIkcN88NIZ4LiCt75GNOjqfhcsWNDMdv/yyy/xblufu5deeskE9s8//zxR+58nTx6z7/oB780334xVshTzeXEfr/503ei1+MUXX0jjxo1NuZP+Le+++2554403zGvR+/76t9D3jPv3cF8/8dVE64fVBx980LyO9f3z1FNPmQ+t3tz33M8//2xekzouJCTEvGY15Cf0vQikdcxEA0gyWl+r/wBrWUX79u3jHLN7924zY62zmloWogFD/7Ffu3atWV6mTBlz+8CBA01Q0sCgatas6VnHX3/9ZULZc889Z2YYb1ZWoCFJQ8Vrr71mwqbWoNavX9/UNbsz5gmRkH2LGfY0sH/11Vcm4Gr5x4oVK6R3795y9OhRGTNmjM/477//3oTCV155RW677TZTZ96sWTM5fPiwCX3x0a/9NZDp86hBXEtt5s+fbwLUmTNnTP2v7rvWQHfv3l3uuOMOE+zV7bffLv+GBkMNsxqaL1++bH7XWmP9MPDss8+afTlx4oS899578tBDD5llGiyVBkp9LURGRpq/pe6n1tVrsNMSBw2eMel92rRpI3PnzpUFCxaYoJpYd955p9kn/fto+Newbyu+16KGXw2lWiqiPzX86utGtzNy5Egzpn///qa85Pfff/e8FnRsfFavXm22ddddd5mgrH/3CRMmSK1atWTLli2xPsD95z//Mc//8OHDzfIPPvhA8uXLZ0pYEvJeBNI8BwD8ZMaMGTp96mzatCneMSEhIc59993nuT5o0CBzH9eYMWPM9ZMnT8a7Dl2/jtHtxfTQQw+ZZVOnTo1zmV5cX331lRlbuHBh59y5c57b582bZ24fN26c57aiRYs64eHhN13njfZN76/rcS1cuNCMHTZsmM+4Z555xkmXLp3z888/e27TccHBwT63bd++3dw+YcIE50bGjh1rxn388cee265cueLUqFHDyZ49u89j1/1r3LixY0P/Vrp+/VvGfG7vuusu559//vEZf+nSJSc6OtrntoMHDzqZMmVyhg4d6rlt+vTpZh2jR4+Otc3r16977qdjRo4c6Vy9etUJCwtzsmTJ4qxYsSJB+6737dSpU7zLu3btasboc+39GtftenMfr/5MyGsx5nOiXn75ZSdr1qzm+XHp38L7NeNyH7f366xSpUpOvnz5nL/++stzm+53+vTpnVatWsV6z7Vp08ZnnU2bNnXy5Mlj9V4E0jLKOQAkKZ1Ju1GXDv3a2P26O7EH4emMmX41nVB6UJnO7LqeeeYZUzawdOlSuZV0/RkyZJBXX33V53adBdZ8t2zZMp/bdXbce/ZVZwh1dvTXX3+96Xa0VKV58+Y+9dm6XT0o8JtvvpFbJTw8PNZsvv593LponTnW2Vq3VEBnRF2fffaZ5M2bV7p06RJrvTFLgK5cuWJmthcvXmweb4MGDfyy/+7Mb2I7y8T3WvR+TnTdWleu31xoOcW+ffust/PHH3+Yb0702wXtMOL9GtEDJ+N6LXfo0MHnum5f/xY6G+6v9yKQmhGiASQpDW3egTWmsLAw8/Wz9irWr771a/B58+ZZ/SOu9bc2BxGWLFkyVkDT7hOJrQdOKK111dKFmM+Hlla4y2OWF8SUK1cuOX369E23o48x5gF98W3Hn7RcICb9W2p5gu6ThkwNylo2smPHDlO+4NK6Zw3WCTnwVEsStEREe377s7Wevl7VjV6ziXktaqmEdjPRWmT9IKSP3z240fs5SCj3b6jPV0z6d9aQrvX3N3o96WtJua8nf7wXgdSMEA0gyWhtpwYE7/Zocc3Qffvtt6a+U2uoNVjpP+Y6m+Z90NWN2NQxJ1R8J4RJ6D75g85axyXmQYiBJK6/hfai1lpgPdhODzLVOnCtc9YDJRMb0LQXuR5MN2LECHMwor9o7bU+7+6HAdvXQVyPX+vQtdZaD6TUWuMvv/zSPH63FjmpQurNXk/+eC8CqRkhGkCS0QPX3MBzIzpjWq9ePdNXWg800wP/9MArPcBL+fsMhwcOHIgVIvQAKu8DsXSWTsNPTDFncW32TXv9al/pmKUC7tf5utwfdD36GGOGM39vJ6F0trhu3bry4YcfmtlNLb3QUpWYz6+Wruzfv9/0G78Z7W2tM9Hr1q0zZR3Xrl371/upB2xqqUuNGjU8M9HubG3MfbWZzdcOHlo2oQcX6sGSevCePn533Yl5Pbl/Q32+YtK/s87264cMWzd7LwJpGSEaQJLQf3i1U4PO6LVo0SLecdr+LCb3pCXa3UG5YSCuUJsYH330kU+Q1ZCnNaba6cA70G3YsMHU3rq0/jZmKzybfdPewzqjN3HiRJ/btdRBw5P39v8N3Y6e9EY7Vrg0ZGrnBq351VnRpKQzoDFnz7VbiHYk8aadR7QMIebzE9/suwZRbUunbf905vTfzOjq61BryPXvo10yXG5Nus7QunTMtGnTrGeAvR+Dvq705C4x6espIeUdWsOv7xNtW+j92tOZdO2Gk5g+1wl5LwJpGS3uAPidHhCns18a1LR9mQZo/bpaZ8v0jIU3OkmEfr2tAUVbk+l4bTmn4ULbrmm/WjfI6EFPU6dONTOEGjSqVasWZ/1tQuiBWLpuPQBM91db3GnJiXcbPq0L1XDdsGFD0xpM63W1FCFmmzWbfdOTeeiMrIY0rb/W3s0aePRALj1DXVwt3BJD2+1pCzk96Ex7FusMuz4WbVWmjzWx9b6JpTOv+nfW51vb/+3cuVM++eQT05ot5gGf+gFHSz82btxoDnzTul4tL9A2f9oDOaYmTZrIjBkzzH211lgf98389NNP5m+poVYPqtMyCw31Wg+tM7D6N3dpyYnOeusJhDRk6mtHg7vNzLc+Zp111oMu9eBO/cCk39LE9cFAT0GuH370OdAe5PqhR183cdHWePrBS2fOtWWi2+JO66615Z2thLwXgTQtuduDAEg93PZf7kVbshUoUMB59NFHTbs471Zq8bW4i4yMdJ566imnUKFC5v76s3nz5s5PP/3kc78vvvjCKVu2rBMUFOTT6kvbit17771x7l98Le7+97//OREREaY9mLZH07Ziv/32W6z7jxo1yrTD01ZstWrVcn788cdY67zRvsVscaf+/vtvp3v37uZxZsyY0SlZsqRp1+a2cLtZK7b4Wu/FdOLECad169ZO3rx5zfNavnz5ONvw+bvF3fz582ON1xZuPXv2dAoWLGieb30u169fH+dzqa3g+vfv7xQvXtw8P/p60haAv/zyS6wWd94mT55sbu/Vq9cN99379aqt4HLmzGlaMGpru927d8d5H912/fr1zesgf/78Tr9+/ZxVq1bF2eIuvtfi2rVrnerVq5vHr3/7Pn36mLZ8Mddx/vx55/nnnzf7pcvc109cLe7U6tWrzfOp682RI4fzxBNPOHv27InzPRezdV3M9n0JfS8CaVU6/U9yB3kAAAAgJaEmGgAAALBEiAYAAAAsEaIBAAAAS4RoAAAAwBIhGgAAALBEiAYAAAAscbKVJKRnz9JT/OqJDfx92mIAAAD8e9r9Wc9iW6hQIUmfPv75ZkJ0EtIAXaRIkeTeDQAAANzEkSNHzBk640OITkLuqXX1j6KnowUAAEBgOXfunJn0dHNbfAjRScgt4dAATYgGAAAIXDcrveXAQgAAAMASIRoAAACwRIgGAAAALBGiAQAAAEuEaAAAAMASIRoAAACwRIgGAAAALBGiAQAAAEuEaAAAAMASIRoAAACwRIgGAAAALBGiAQAAAEuEaAAAAMASIRoAAACwRIgGAAAALAXZ3gGBp0HY0OTeBcDHyrkDk3sXAAC4pZiJBgAAACwRogEAAABLhGgAAADAEiEaAAAAsESIBgAAACwRogEAAABLhGgAAADAEiEaAAAAsESIBgAAACwRogEAAABLhGgAAADAEiEaAAAAsESIBgAAACwRogEAAABLhGgAAADAEiEaAAAAsESIBgAAACwRogEAAABLhGgAAADAEiEaAAAAsESIBgAAACwRogEAAABLhGgAAADAEiEaAAAAsESIBgAAACwRogEAAABLhGgAAADAEiEaAAAAsESIBgAAACwRogEAAABLhGgAAADAEiEaAAAAsESIBgAAACwRogEAAABLhGgAAADAEiEaAAAAsESIBgAAACwRogEAAICUFKK//fZbeeKJJ6RQoUKSLl06Wbhwoc9yx3Fk4MCBUrBgQcmSJYvUr19fDhw44DPm1KlT0qJFC8mRI4fkzJlT2rZtK+fPn/cZs2PHDnnwwQclc+bMUqRIERkxYkSsfZk/f76ULl3ajClfvrwsXbrUel8AAACQNiRriL5w4YJUrFhRJk2aFOdyDbvjx4+XqVOnyg8//CDZsmWT0NBQuXTpkmeMBujdu3fLqlWrZPHixSaYv/TSS57l586dkwYNGkjRokVl8+bNMnLkSBk8eLBMmzbNM2bdunXSvHlzE8C3bt0qTZo0MZddu3ZZ7QsAAADShnSOTrEGAJ2JXrBggQmvSndLZ6h79uwpvXr1MredPXtW8ufPLzNnzpTnnntO9u7dK2XLlpVNmzZJlSpVzJjly5dLo0aN5Pfffzf3nzJlivTv31+OHz8uwcHBZkzfvn3NrPe+ffvM9bCwMBPoNYS7qlevLpUqVTKhOSH7khAa6ENCQsx9debcXxqEDfXbugB/WDl3YHLvAgAAiZLQvBawNdEHDx40wVfLJlz6gKpVqybr16831/WnlnC4AVrp+PTp05vZYndMnTp1PAFa6Qzy/v375fTp054x3ttxx7jbSci+xOXy5cvmD+F9AQAAQMoXsCFaQ6vS2V5vet1dpj/z5cvnszwoKEhy587tMyaudXhvI74x3stvti9xGT58uAnb7kXrsQEAAJDyBWyITg0iIiLMVwHu5ciRI8m9SwAAAEjNIbpAgQLm54kTJ3xu1+vuMv0ZFRXls/zatWumY4f3mLjW4b2N+MZ4L7/ZvsQlU6ZMppbG+wIAAICUL2BDdPHixU1AjYyM9NymNcVa61yjRg1zXX+eOXPGdN1wrVmzRq5fv27qld0x2rHj6tWrnjHayaNUqVKSK1cuzxjv7bhj3O0kZF8AAACQdiRriNZ+ztu2bTMX9wA+/f3w4cOmW0e3bt1k2LBhsmjRItm5c6e0atXKdMlwO3iUKVNGGjZsKO3bt5eNGzfK2rVrpXPnzqZbho5Tzz//vDmoUNvXaSu8uXPnyrhx46RHjx6e/ejatavp6jFq1CjTsUNb4P34449mXSoh+wIAAIC0Iyg5N65BtW7dup7rbrANDw83reP69OljWs9p32edca5du7YJu3pCFNcnn3xiwm69evVMV45mzZqZfs4uPaBv5cqV0qlTJ6lcubLkzZvXnDTFu5d0zZo1Zfbs2TJgwADp16+flCxZ0rTAK1eunGdMQvYFAAAAaUPA9IlOC+gTjbSCPtEAgJQqxfeJBgAAAAIVIRoAAACwRIgGAAAALBGiAQAAAEuEaAAAAMASIRoAAACwRIgGAAAALBGiAQAAAEuEaAAAAMASIRoAAACwRIgGAAAALAXZ3gEAUoNKwwYn9y4AsWwbwOsSSCmYiQYAAAAsEaIBAAAAS4RoAAAAwBIhGgAAALBEiAYAAAAsEaIBAAAAS4RoAAAAwBIhGgAAALBEiAYAAAAsEaIBAAAAS4RoAAAAwBIhGgAAALBEiAYAAAAsEaIBAAAAS4RoAAAAwBIhGgAAALBEiAYAAAAsEaIBAAAAS4RoAAAAwBIhGgAAALBEiAYAAAAsEaIBAAAAS4RoAAAAwBIhGgAAALBEiAYAAAAsEaIBAAAAS4RoAAAAwBIhGgAAALBEiAYAAAAsEaIBAAAAS4RoAAAAwBIhGgAAALBEiAYAAAAsEaIBAAAAS4RoAAAAwBIhGgAAALBEiAYAAAAsEaIBAAAAS4RoAAAAwBIhGgAAALBEiAYAAAAsEaIBAACA1BSio6Oj5fXXX5fixYtLlixZ5O6775Y33nhDHMfxjNHfBw4cKAULFjRj6tevLwcOHPBZz6lTp6RFixaSI0cOyZkzp7Rt21bOnz/vM2bHjh3y4IMPSubMmaVIkSIyYsSIWPszf/58KV26tBlTvnx5Wbp06S189AAAAAhUAR2i33nnHZkyZYpMnDhR9u7da65ruJ0wYYJnjF4fP368TJ06VX744QfJli2bhIaGyqVLlzxjNEDv3r1bVq1aJYsXL5Zvv/1WXnrpJc/yc+fOSYMGDaRo0aKyefNmGTlypAwePFimTZvmGbNu3Tpp3ry5CeBbt26VJk2amMuuXbuS8BkBAABAIEjneE/rBpjHH39c8ufPLx9++KHntmbNmpkZ548//tjMQhcqVEh69uwpvXr1MsvPnj1r7jNz5kx57rnnTPguW7asbNq0SapUqWLGLF++XBo1aiS///67ub8G9f79+8vx48clODjYjOnbt68sXLhQ9u3bZ66HhYXJhQsXTAh3Va9eXSpVqmQCfEJoWA8JCTH7qLPi/tIgbKjf1gX4w8q5AyXQVRo2OLl3AYhl2wBel0ByS2heC+iZ6Jo1a0pkZKT89NNP5vr27dvl+++/l8cee8xcP3jwoAm+WsLh0gddrVo1Wb9+vbmuP7WEww3QSsenT5/ezFy7Y+rUqeMJ0Epns/fv3y+nT5/2jPHejjvG3U5cLl++bP4Q3hcAAACkfEESwHQ2WIOn1iFnyJDB1Ei/+eabpjxDaYBWOvPsTa+7y/Rnvnz5fJYHBQVJ7ty5fcZo3XXMdbjLcuXKZX7eaDtxGT58uAwZMuRfPAMAAAAIRAE9Ez1v3jz55JNPZPbs2bJlyxaZNWuWvPvuu+ZnShAREWG+CnAvR44cSe5dAgAAQGqfie7du7eZjdbaZqUdMX777TczwxseHi4FChQwt584ccJ053Dpda1VVjomKirKZ73Xrl0zHTvc++tPvY839/rNxrjL45IpUyZzAQAAQOoS0DPR//zzj6ld9qZlHdevXze/awmGhlitm3Zp+YfWOteoUcNc159nzpwxXTdca9asMevQ2ml3jHbsuHr1qmeMdvIoVaqUKeVwx3hvxx3jbgcAAABpR0CH6CeeeMLUQC9ZskQOHTokCxYskNGjR0vTpk3N8nTp0km3bt1k2LBhsmjRItm5c6e0atXKdNzQ9nOqTJky0rBhQ2nfvr1s3LhR1q5dK507dzaz2zpOPf/88+agQm1fp63w5s6dK+PGjZMePXp49qVr166mq8eoUaNMxw5tgffjjz+adQEAACBtCehyDu0HrSdbeeWVV0xJhobel19+2ZxcxdWnTx/Tek77PuuMc+3atU3Y1ROiuLSuWsNuvXr1zMy2tsnT3tLeHT1WrlwpnTp1ksqVK0vevHnNNrx7SWunEK3NHjBggPTr109KlixpWuCVK1cuCZ8RAAAABIKA7hOd2tAnGmkFfaKBxKFPNJD8UkWfaAAAACAQEaIBAAAAS4RoAAAAwBIhGgAAALBEiAYAAAAsEaIBAAAAS4RoAAAAwBIhGgAAALBEiAYAAAAsEaIBAAAAS4RoAAAAwBIhGgAAALBEiAYAAAAsEaIBAAAAS4RoAAAAwBIhGgAAALBEiAYAAAAsEaIBAAAAS4RoAAAAwBIhGgAAALBEiAYAAAAsEaIBAAAAS4RoAAAAwBIhGgAAALBEiAYAAAAsEaIBAAAAS4RoAAAAwBIhGgAAALBEiAYAAAAsEaIBAAAAS4RoAAAAwBIhGgAAALBEiAYAAAAsEaIBAAAAS4RoAAAAwBIhGgAAALBEiAYAAAAsEaIBAAAAS4RoAAAAwBIhGgAAALBEiAYAAACSIkTfdddd8tdff8W6/cyZM2YZAAAAkJolKkQfOnRIoqOjY91++fJlOXr0qD/2CwAAAAhYQTaDFy1a5Pl9xYoVEhIS4rmuoToyMlKKFSvm3z0EAAAAUnKIbtKkifmZLl06CQ8P91mWMWNGE6BHjRrl3z0EAAAAUnKIvn79uvlZvHhx2bRpk+TNm/dW7RcAAACQOkK06+DBg/7fEwAAACA1h2il9c96iYqK8sxQu6ZPn+6PfQMAAABST4geMmSIDB06VKpUqSIFCxY0NdIAAABAWpGoED116lSZOXOmtGzZ0v97BAAAAKTGPtFXrlyRmjVr+n9vAAAAgNQaotu1ayezZ8/2/94AAAAAqbWc49KlSzJt2jRZvXq1VKhQwfSI9jZ69Gh/7R8AAACQOkL0jh07pFKlSub3Xbt2+SzjIEMAAACkdokq5/jqq6/ivaxZs8avO3j06FF54YUXJE+ePJIlSxYpX768/Pjjj57ljuPIwIEDTZcQXV6/fn05cOCAzzpOnTolLVq0kBw5ckjOnDmlbdu2cv78+VgfDB588EHJnDmzFClSREaMGBFrX+bPny+lS5c2Y3Q/li5d6tfHCgAAgFQcopPK6dOnpVatWqZcZNmyZbJnzx5zWvFcuXJ5xmjYHT9+vOkY8sMPP0i2bNkkNDTUlJy4NEDv3r1bVq1aJYsXL5Zvv/1WXnrpJc/yc+fOSYMGDaRo0aKyefNmGTlypAwePNiUrLjWrVsnzZs3NwF869at5hToeok5Ew8AAIDUL52jU7mW6tate8OyDX/NRvft21fWrl0r3333XZzLddcLFSokPXv2lF69epnbzp49K/nz5zct+J577jnZu3evlC1b1pymXPtaq+XLl0ujRo3k999/N/efMmWK9O/fX44fPy7BwcGebS9cuFD27dtnroeFhcmFCxdMCHdVr17dlLVogI/L5cuXzcU7rOsst+6jzor7S4OwoX5bF+APK+cOlEBXadjg5N4FIJZtA3hdAslN81pISMhN81qiZqI1OFasWNFz0ZCqbe+2bNliyhz8ZdGiRSb4Pvvss5IvXz6577775P333/c5/bgGXy3hcOmDrlatmqxfv95c159awuEGaKXj06dPb2au3TF16tTxBGils9n79+83s+HuGO/tuGPc7cRl+PDhZn/ciwZoAAAApNEDC8eMGRPn7VoCEbPW+N/49ddfzSxxjx49pF+/fmY2+dVXXzVhNzw83ARopTPP3vS6u0x/agD3FhQUJLlz5/YZU7x48VjrcJdp+Yj+vNF24hIREWH2PeZMNAAAANJgiI6PHgD4wAMPyLvvvuuX9V2/ft3MIL/11lvmus5Eaw2ylk9oiA50mTJlMhcAAACkLn49sFBLG7Rzhb9oxw0tFfFWpkwZOXz4sPm9QIEC5ueJEyd8xuh1d5n+jIqK8ll+7do107HDe0xc6/DeRnxj3OUAAABIOxI1E/3000/HOsDvjz/+MK3nXn/9dX/tm+nMoXXJ3n766SfTRUNpCYaG2MjISE/fai2Z0Frnjh07mus1atSQM2fOmK4blStX9hz4qLPcWjvtjtEDC69eveo5cYx28ihVqpSnE4iO0e1069bNsy86Rm8HAABA2pKomWjvg+X0ovXFDz/8sOmbPGjQIL/tXPfu3WXDhg2mnOPnn382pxrXtnOdOnUyy7VDiIbaYcOGmYMQd+7cKa1atTIdN7T9nDtz3bBhQ2nfvr1s3LjRdPvo3Lmz6dyh49Tzzz9v6qy1fZ22wps7d66MGzfOp565a9eupquHttjTjh1a/60fGnRdAAAASFsSNRM9Y8YMSQpVq1aVBQsWmAP0hg4damaex44da/o+u/r06WNaz2nfZ51xrl27tgm73mUln3zyiQm79erVM105mjVrZnpLu/SDwMqVK00419nqvHnzmhO4ePeSrlmzpgnxAwYMMAc5lixZ0rTAK1euXJI8FwAAAEjhfaJdWiKhfZjVvffeaw78w7/vO2iLPtEINPSJBhKHPtFAyslriZqJ1gP1tBzi66+/Nj2Ylc4C60lY5syZI7fffnvi9xwAAABIjTXRXbp0kb///tvUD2uXC71o6zlN7trHGQAAAEjNEjUTrTXHq1evNgftubQV3aRJk6RBgwb+3D8AAAAgdcxEa3s4txWcN71NlwEAAACpWaJC9COPPGJavh07dsxz29GjR01LOu2AAQAAAKRmiQrREydONPXPxYoVk7vvvttctP2c3jZhwgT/7yUAAACQ0muiixQpIlu2bDF10XriEaX10fXr1/f3/gEAAAApeyZaT5etBxDqjLOeLfDRRx81nTr0oidG0V7R33333a3bWwAAACClhWg9W6CePjuuxtPalPrll1+W0aNH+3P/AAAAgJQdordv3y4NGzaMd7m2t9OzGAIAAACpmVWIPnHiRJyt7VxBQUFy8uRJf+wXAAAAkDpCdOHChc2ZCeOzY8cOKViwoD/2CwAAAEgdIbpRo0by+uuvy6VLl2Itu3jxogwaNEgef/xxf+4fAAAAkLJb3A0YMEA+//xzueeee6Rz585SqlQpc7u2udNTfkdHR0v//v1v1b4CAAAAKS9E58+fX9atWycdO3aUiIgIcRzH3K7t7kJDQ02Q1jEAAABAamZ9spWiRYvK0qVL5fTp0/Lzzz+bIF2yZEnJlSvXrdlDAAAAIDWcsVBpaNYTrAAAAABpjdWBhQAAAAAI0QAAAIA1QjQAAABgiRANAAAAWCJEAwAAAJYI0QAAAIAlQjQAAABgiRANAAAAWCJEAwAAAJYI0QAAAIAlQjQAAABgiRANAAAAWCJEAwAAAJYI0QAAAIAlQjQAAABgiRANAAAAWCJEAwAAAJYI0QAAAIAlQjQAAABgiRANAAAAWCJEAwAAAJYI0QAAAIAlQjQAAABgiRANAAAAWCJEAwAAAJYI0QAAAIClINs7AACAtKtLZNfk3gXAx4R64yQ5MBMNAAAAWCJEAwAAAJYI0QAAAIAlQjQAAABgiRANAAAAWCJEAwAAAJYI0QAAAIAlQjQAAABgiRANAAAApOYQ/fbbb0u6dOmkW7duntsuXboknTp1kjx58kj27NmlWbNmcuLECZ/7HT58WBo3bixZs2aVfPnySe/eveXatWs+Y77++mu5//77JVOmTFKiRAmZOXNmrO1PmjRJihUrJpkzZ5Zq1arJxo0bb+GjBQAAQKBKMSF606ZN8t5770mFChV8bu/evbt8+eWXMn/+fPnmm2/k2LFj8vTTT3uWR0dHmwB95coVWbduncyaNcsE5IEDB3rGHDx40IypW7eubNu2zYT0du3ayYoVKzxj5s6dKz169JBBgwbJli1bpGLFihIaGipRUVFJ9AwAAAAgUKSIEH3+/Hlp0aKFvP/++5IrVy7P7WfPnpUPP/xQRo8eLY888ohUrlxZZsyYYcLyhg0bzJiVK1fKnj175OOPP5ZKlSrJY489Jm+88YaZVdZgraZOnSrFixeXUaNGSZkyZaRz587yzDPPyJgxYzzb0m20b99eWrduLWXLljX30Znt6dOnJ8MzAgAAgOSUIkK0lmvoTHH9+vV9bt+8ebNcvXrV5/bSpUvLnXfeKevXrzfX9Wf58uUlf/78njE6g3zu3DnZvXu3Z0zMdesYdx0atnVb3mPSp09vrrtj4nL58mWzHe8LAAAAUr4gCXBz5swx5RNazhHT8ePHJTg4WHLmzOlzuwZmXeaO8Q7Q7nJ32Y3GaOi9ePGinD592pSFxDVm37598e778OHDZciQIdaPGQAAAIEtoGeijxw5Il27dpVPPvnEHMyX0kRERJiSE/eijwcAAAApX0CHaC2h0AP3tGtGUFCQuejBg+PHjze/60ywllqcOXPG537anaNAgQLmd/0Zs1uHe/1mY3LkyCFZsmSRvHnzSoYMGeIc464jLtrpQ9fhfQEAAEDKF9Ahul69erJz507TMcO9VKlSxRxk6P6eMWNGiYyM9Nxn//79pqVdjRo1zHX9qevw7qKxatUqE2j1AEF3jPc63DHuOrRkRA9a9B5z/fp1c90dAwAAgLQjoGuib7vtNilXrpzPbdmyZTM9od3b27Zta1rP5c6d2wTjLl26mGBbvXp1s7xBgwYmLLds2VJGjBhh6p8HDBhgDlbUmWLVoUMHmThxovTp00fatGkja9askXnz5smSJUs829VthIeHm+D+wAMPyNixY+XChQumWwcAAADSloAO0Qmhbei0U4aeZEW7YWhXjcmTJ3uWaxnG4sWLpWPHjiZcawjXMDx06FDPGG1vp4FZe06PGzdO7rjjDvnggw/MulxhYWFy8uRJ019ag7i2y1u+fHmsgw0BAACQ+qVzHMdJ7p1IK7TbR0hIiDnI0J/10Q3C/u8DARAIVs79v5MZBapKwwYn9y4AsWwbEPivyy6RXZN7FwAfE+qNk+TIawFdEw0AAAAEIkI0AAAAYIkQDQAAAFgiRAMAAACWCNEAAACAJUI0AAAAYIkQDQAAAFgiRAMAAACWCNEAAACAJUI0AAAAYIkQDQAAAFgiRAMAAACWCNEAAACAJUI0AAAAYIkQDQAAAFgiRAMAAACWCNEAAACAJUI0AAAAYIkQDQAAAFgiRAMAAACWCNEAAACAJUI0AAAAYIkQDQAAAFgiRAMAAACWCNEAAACAJUI0AAAAYIkQDQAAAFgiRAMAAACWCNEAAACAJUI0AAAAYIkQDQAAAFgiRAMAAACWCNEAAACAJUI0AAAAYIkQDQAAAFgiRAMAAACWCNEAAACAJUI0AAAAYIkQDQAAAFgiRAMAAACWCNEAAACAJUI0AAAAYIkQDQAAAFgiRAMAAACWCNEAAACAJUI0AAAAYIkQDQAAAFgiRAMAAACWCNEAAACAJUI0AAAAYIkQDQAAAFgiRAMAAACWCNEAAACAJUI0AAAAkJpC9PDhw6Vq1apy2223Sb58+aRJkyayf/9+nzGXLl2STp06SZ48eSR79uzSrFkzOXHihM+Yw4cPS+PGjSVr1qxmPb1795Zr1675jPn666/l/vvvl0yZMkmJEiVk5syZsfZn0qRJUqxYMcmcObNUq1ZNNm7ceIseOQAAAAJZQIfob775xgTkDRs2yKpVq+Tq1avSoEEDuXDhgmdM9+7d5csvv5T58+eb8ceOHZOnn37aszw6OtoE6CtXrsi6detk1qxZJiAPHDjQM+bgwYNmTN26dWXbtm3SrVs3adeunaxYscIzZu7cudKjRw8ZNGiQbNmyRSpWrCihoaESFRWVhM8IAAAAAkE6x3EcSSFOnjxpZpI1LNepU0fOnj0rt99+u8yePVueeeYZM2bfvn1SpkwZWb9+vVSvXl2WLVsmjz/+uAnX+fPnN2OmTp0qr732mllfcHCw+X3JkiWya9cuz7aee+45OXPmjCxfvtxc15lnnRWfOHGiuX79+nUpUqSIdOnSRfr27Zug/T937pyEhISY/c6RI4ffnpcGYUP9ti7AH1bO/b8PqYGq0rDByb0LQCzbBgT+67JLZNfk3gXAx4R648SfEprXAnomOiZ9MCp37tzm5+bNm83sdP369T1jSpcuLXfeeacJ0Up/li9f3hOglc4g6xO0e/duzxjvdbhj3HXoLLZuy3tM+vTpzXV3TFwuX75stuN9AQAAQMqXYkK0zvxqmUWtWrWkXLly5rbjx4+bmeScOXP6jNXArMvcMd4B2l3uLrvRGA29Fy9elD///NOUhcQ1xl1HfDXd+knGvejMNQAAAFK+FBOitTZayy3mzJkjKUVERISZPXcvR44cSe5dAgAAgB8ESQrQuXNnWbx4sXz77bdyxx13eG4vUKCAKbXQ2mXv2WjtzqHL3DExu2i43Tu8x8Ts6KHXtQ4mS5YskiFDBnOJa4y7jrhopw+9AAAAIHUJ6JloPeZRA/SCBQtkzZo1Urx4cZ/llStXlowZM0pkZKTnNm2Bpy3tatSoYa7rz507d/p00dBOHxqQy5Yt6xnjvQ53jLsOLRnRbXmP0fISve6OAQAAQNoRFOglHNp544svvjC9ot36Y60v1hli/dm2bVvTek4PNtRgrN0yNNhqZw6lLfE0LLds2VJGjBhh1jFgwACzbneWuEOHDqbrRp8+faRNmzYmsM+bN8907HDpNsLDw6VKlSrywAMPyNixY02rvdatWyfTswMAAIDkEtAhesqUKebnww8/7HP7jBkz5MUXXzS/jxkzxnTK0JOsaDcM7aoxefJkz1gtw9BSkI4dO5pwnS1bNhOGhw79v7ZwOsOtgVl7To8bN86UjHzwwQdmXa6wsDDTEk/7S2sQr1Spkml/F/NgQwAAAKR+AR2iE9LCWs8eqGcS1Et8ihYtKkuXLr3hejSob9269YZjtLRELwAAAEjbAromGgAAAAhEhGgAAADAEiEaAAAAsESIBgAAACwRogEAAABLhGgAAADAEiEaAAAAsESIBgAAACwRogEAAABLhGgAAADAEiEaAAAAsESIBgAAACwRogEAAABLhGgAAADAEiEaAAAAsESIBgAAACwRogEAAABLhGgAAADAEiEaAAAAsESIBgAAACwRogEAAABLhGgAAADAEiEaAAAAsESIBgAAACwRogEAAABLhGgAAADAEiEaAAAAsESIBgAAACwRogEAAABLhGgAAADAEiEaAAAAsESIBgAAACwRogEAAABLhGgAAADAEiEaAAAAsESIBgAAACwRogEAAABLhGgAAADAEiEaAAAAsESIBgAAACwRogEAAABLhGgAAADAEiEaAAAAsESIBgAAACwRogEAAABLhGgAAADAEiEaAAAAsESIBgAAACwRogEAAABLhGgAAADAEiEaAAAAsESIBgAAACwRogEAAABLhGgAAADAEiHa0qRJk6RYsWKSOXNmqVatmmzcuDG5dwkAAABJjBBtYe7cudKjRw8ZNGiQbNmyRSpWrCihoaESFRWV3LsGAACAJESItjB69Ghp3769tG7dWsqWLStTp06VrFmzyvTp05N71wAAAJCEgpJyYynZlStXZPPmzRIREeG5LX369FK/fn1Zv359nPe5fPmyubjOnj1rfp47d86v+3bt6iW/rg/4t/z9Gr8Voi/933sTCBQp4b1z5QLvHQQWf79v3PU5jnPDcYToBPrzzz8lOjpa8ufP73O7Xt+3b1+c9xk+fLgMGTIk1u1FihS5ZfsJBIKQBcOTexeAFCnkzbeTexeAFGeavHdL1vv3339LSEhIvMsJ0beQzlprDbXr+vXrcurUKcmTJ4+kS5cuWfcNsT916oebI0eOSI4cOZJ7d4AUg/cOkDi8dwKXzkBrgC5UqNANxxGiEyhv3rySIUMGOXHihM/ter1AgQJx3idTpkzm4i1nzpy3dD/x7+j/yPifGWCP9w6QOLx3AtONZqBdHFiYQMHBwVK5cmWJjIz0mVnW6zVq1EjWfQMAAEDSYibagpZmhIeHS5UqVeSBBx6QsWPHyoULF0y3DgAAAKQdhGgLYWFhcvLkSRk4cKAcP35cKlWqJMuXL491sCFSHi270f7fMctvANwY7x0gcXjvpHzpnJv17wAAAADgg5poAAAAwBIhGgAAALBEiAYAAAAsEaKR5n399dfm5Ddnzpwx12fOnEk/bwDAv6L/rixcuDC5dwO3ECEaAe/FF180/zPq0KFDrGWdOnUyy3SMP7uw/PTTT35bHxDo9P3TpEmT5N4NIEXRbl0dO3aUO++803TY0BOvhYaGytq1a2/5tgnogYEQjRRBT406Z84cuXjxoue2S5cuyezZs83/wPwpS5Yski9fPr+uEwCQujRr1ky2bt0qs2bNMhMvixYtkocfflj++uuvW7bNK1eu3LJ1wx4hGinC/fffb4L0559/7rlNf9cAfd999/mcRXL48OFSvHhxE4YrVqwon376qc+6li5dKvfcc49ZXrduXTl06JDP8pjlHHHN0nXr1s38z9Klv3fp0sXcnitXLtM7/P333/ecjOe2226TEiVKyLJly/z6vAC32jfffGNOLqUzbQULFpS+ffvKtWvXfF77r776qvTp00dy585tZuMGDx7ss459+/ZJ7dq1JXPmzFK2bFlZvXo1M2lI0bT877vvvpN33nnH/DtStGhR8z6JiIiQJ5980jPuzz//lKZNm0rWrFmlZMmSJmjbvr86d+5s/m3JmzevmekuVqyYWabr1feRex1JjxCNFKNNmzYyY8YMz/Xp06fHOlukBuiPPvpIpk6dKrt375bu3bvLCy+8YP5HpY4cOSJPP/20PPHEE7Jt2zZp166d+Z+WP+hshP5PbuPGjSZQ69d8zz77rNSsWVO2bNkiDRo0kJYtW8o///zjl+0Bt9rRo0elUaNGUrVqVdm+fbtMmTJFPvzwQxk2bFis1362bNnkhx9+kBEjRsjQoUNl1apVZll0dLT5EKohQpdPmzZN+vfvn0yPCPCP7Nmzm4t+ELx8+XK844YMGSL/+c9/ZMeOHea91KJFCzl16pT1+ys4ONiUiei/bZs2bTK367+Hf/zxh+c6koGebAUIZOHh4c5TTz3lREVFOZkyZXIOHTpkLpkzZ3ZOnjxplumYS5cuOVmzZnXWrVvnc/+2bds6zZs3N79HREQ4ZcuW9Vn+2muv6QmHnNOnT5vrM2bMcEJCQmJt31vXrl2dhx56yHNdf69du7bn+rVr15xs2bI5LVu29Nz2xx9/mO2sX7/eb88N4A9xvcZVv379nFKlSjnXr1/33DZp0iQne/bsTnR0dJyvfVW1alXzvlLLli1zgoKCzOvftWrVKvNeWLBgwS18VMCt9emnnzq5cuUy/xbVrFnT/Puyfft2z3J9jQ8YMMBz/fz58+Y2fU/YvL/uu+++WNvm/RMYmIlGinH77bdL48aNTbmFfgLX33Xm1/Xzzz+bWd5HH33UM0ugF52Z/uWXX8yYvXv3SrVq1XzWW6NGDb/sX4UKFTy/Z8iQQfLkySPly5f33OaeHj4qKsov2wNuNX2/6PtDvzJ21apVS86fPy+///57nK99pV9Lu6/z/fv3m1IsLfNw6dfXQGqoiT527Jgp0WjYsKHp9KSlh/pvVFzvDf22JkeOHJ73RkLfX5UrV06yxwQ7QZbjgWQv6dD6MDVp0iSfZfo/HrVkyRIpXLiwzzKtN0us9OnT6zc2PrddvXo11riMGTP6XNf/MXrf5v6PUuu2gdQkrtc+r3OkBVrnrxM3enn99ddNieCgQYM8HaP88d7Q8I3AxEw0UhT9tK9HJ2uI1QMsvOkBSxqWDx8+bA7i877oTJgqU6aMqVn2tmHDhpvOgGvdmTetpwZSO32/rF+/3udDpNZl6oGyd9xxR4LWUapUKXMswokTJzy3UcOJ1Er/HdIDym/1+0vDuR5vgORFiEaKomUS+hXYnj17zO/e9H88vXr1MgcT6oEYWsKhB/RNmDDBXFfaa/rAgQPSu3dv8zWztsjz/uotLo888oj8+OOPpixE76uzDLt27bqljxNIamfPnjUfDr0vL730kgnAeqCsdtj44osvzOu/R48e5huahNAZurvvvlvCw8PNwVUaEgYMGGCWeX+NDaQk2sZO/234+OOPzev64MGDMn/+fHNg7VNPPZWgdbzyyiuJfn9pR47IyEg5fvy4nD592k+PCrYo50CKozVl8XnjjTfMzLF26fj1119NqzqtUevXr59Zri3xPvvsMxO0NVxrbeZbb71lykTiozPe+jWdtvDS3tQ6tlWrVrJz585b8viA5KD1nN7tIlXbtm1NS0j90KntIrWFnd7mhuCE0A+72sFAv+bWLgR33XWXjBw50nTI0a/CgZRIj7fR42vGjBljJmz021H9xrN9+/aef29uRssOE/v+GjVqlAnb2kpV1xOzVSuSRjo9ujCJtgUAgJmN1r7RejCwzlIDQEpEiAYA3FILFiwwM3d6sgkNzl27djUnJfr++++Te9cAINEo5wAA3FJ///23vPbaa+agX21LWb9+ffN1NACkZMxEAwAAAJbozgEAAABYIkQDAAAAlgjRAAAAgCVCNAAAAGCJEA0AAABYIkQDQBo5I6GeZvvMmTPJvSsAkCoQogEgiWmYvdFl8ODBEiiOHz8uXbp0MafrzpQpkzm1sZ6yOzIyMsHrmDlzpuTMmfOW7icAJDVOtgIASeyPP/7w/D537lwZOHCg7N+/33Obnt3Ppa38o6OjJSgo6f93fejQIalVq5YJwCNHjpTy5cvL1atXZcWKFdKpUyfZt2+fpET6GDJmzJjcuwEghWMmGgCSWIECBTyXkJAQM/vsXtdgetttt8myZcukcuXKZvZXT4/9yy+/yFNPPSX58+c3Ibtq1aqyevVqn/VevnzZnBlQZ4v1fiVKlJAPP/wwzn34559/5LHHHjMhOb4Sj1deecXs28aNG6VZs2Zyzz33yL333is9evSQDRs2eMaNHj3aBOxs2bKZbev9zp8/7ykjad26tZw9ezbWTLvub69evaRw4cLmvtWqVTPjvb3//vtmnVmzZpWmTZuabcWc1Z4yZYrcfffdEhwcLKVKlZL//ve/Pst1mzrmySefNNsZNmyYeW7effddn3Hbtm0zY/XU5ABwM4RoAAhAffv2lbffflv27t0rFSpUMKG0UaNGpoxi69at0rBhQ1NWoafSdrVq1Ur+97//yfjx48393nvvPZ9ZbZeG5kcffVSuX78uq1atirPU4tSpU7J8+XIz46zBMybv+6RPn95sc/fu3TJr1ixZs2aN9OnTxyyrWbOmjB07VnLkyGFm4PWiwVl17txZ1q9fL3PmzJEdO3bIs88+ax7XgQMHzPK1a9dKhw4dpGvXribg6j6/+eabPvuxYMECs7xnz56ya9cuefnll01o/+qrr3zGaXDXEL5z505p27attGnTRmbMmOEzRq/XqVPHBGwAuCk97TcAIHnMmDHDCQkJ8Vz/6quvHP1f88KFC29633vvvdeZMGGC+X3//v3mfqtWrYpzrLvevXv3OhUqVHCaNWvmXL58Od51//DDD2b8559/bv2Y5s+f7+TJkyfex6h+++03J0OGDM7Ro0d9bq9Xr54TERFhfg8LC3MaN27ss7xFixY+66pZs6bTvn17nzHPPvus06hRI891fRzdunXzGaPb1e3r41RXrlxx8ubN68ycOdP68QJIm5iJBoAAVKVKFZ/rOhOtM7hlypQxs8A6w6yzze5MtM7UZsiQQR566KEbrldnc3WmVWuxtfwhPv8/eyaMlpXUq1fPlGVoKUrLli3lr7/+MiUj8dEZYa311hIRfSzu5ZtvvjGlK0rrxB944AGf+8W8rs+BlqR40+t6+42ez0KFCknjxo1l+vTp5vqXX35pykt0NhwAEoIDCwEgAMUsodAAraUXWserIThLlizyzDPPyJUrV8xyvZ4QGhw/++wz2bNnj6ljjk/JkiVNffDNDh7Ugw8ff/xx6dixoym1yJ07t6nh1pIJ3TetZY6LfijQ0L9582bz01tcJSj/VlwlKe3atTOBf8yYMaaUIywsLN79BYCYmIkGgBRA64NffPFFU9er4VcPQtQA69LbtMZZZ3JvROusw8PDzcyxBun4aBgODQ2VSZMmyYULF2Itdw9G1BCs2x01apRUr17dzCwfO3bMZ6zOeOuss7f77rvP3BYVFWU+FHhf9LEpPUhw06ZNPveLeV1n5vW5iflclS1bVm5Ga8w1XOtBh1r/rXXSAJBQhGgASAF0Zvjzzz83ZRvbt2+X559/3oRXV7FixUw41iC4cOFCOXjwoOl0MW/evFjr0tnsFi1ayCOPPHLDmWYN0Bp0tYRCZ6/1gD8tk9CDCGvUqGHGaOjVlnETJkyQX3/91XTGmDp1qs96dN905lkPivzzzz9NmYeGbd0HPRhSH5fur3YBGT58uCxZssTcT/tTL1261HTk0G3rgZLatURnyF29e/c2fag1COsYHavrcw9evBGdAdcPJhEREeb5dR8TACRIchdlA0BaFt+BhadPn/YZd/DgQadu3bpOlixZnCJFijgTJ050HnroIadr166eMRcvXnS6d+/uFCxY0AkODnZKlCjhTJ8+Pd71dunSxYzVgxLjc+zYMadTp05O0aJFzToLFy7sPPnkk2Z9rtGjR5v16L6FhoY6H330UaxtdejQwRxsqLcPGjTIczDfwIEDnWLFijkZM2Y062jatKmzY8cOz/2mTZtmtqnrbtKkiTNs2DCnQIECPvs4efJk56677jLruOeee8z2vek2FyxYEOfj++WXX8zyESNGxPscAEBc0ul/Eha3AQBIXu3btzez5999951f1qfr0dKWI0eOmB7cAJBQHFgIAAhYWnqiHUW0dllLObQP9eTJk//1erUTx8mTJ03/aO3IQYAGYIuaaABAwNI6aQ3ReuCk1lprPbZ21fi39KQ0RYsWNQdIjhgxwi/7CiBtoZwDAAAAsMRMNAAAAGCJEA0AAABYIkQDAAAAlgjRAAAAgCVCNAAAAGCJEA0AAABYIkQDAAAAlgjRAAAAgNj5fzzBjbgzILfIAAAAAElFTkSuQmCC",
      "text/plain": [
       "<Figure size 800x500 with 1 Axes>"
      ]
     },
     "metadata": {},
     "output_type": "display_data"
    }
   ],
   "source": [
    "# Count the number of tracks in each category\n",
    "category_counts = track['category'].value_counts().reset_index()\n",
    "category_counts.columns = ['category', 'Count']\n",
    "\n",
    "# Plot the bar chart\n",
    "plt.figure(figsize=(8, 5))\n",
    "sns.barplot(data=category_counts, x=\"category\", y=\"Count\", hue=\"category\", palette=\"viridis\", legend=False)\n",
    "\n",
    "# Labels and title\n",
    "plt.xlabel(\"Track Category\")\n",
    "plt.ylabel(\"Count\")\n",
    "plt.title(\"Distribution of Track Durations\")\n",
    "\n",
    "plt.show()"
   ]
  },
  {
   "cell_type": "code",
   "execution_count": 19,
   "metadata": {},
   "outputs": [],
   "source": [
    "track_encoded = pd.get_dummies(track, columns=['category'])"
   ]
  },
  {
   "cell_type": "markdown",
   "metadata": {},
   "source": [
    "# Lyrics Sentiment Analysis"
   ]
  },
  {
   "cell_type": "markdown",
   "metadata": {},
   "source": [
    "## 1. Setup Logging\n",
    "- Enables tracking of script execution and debugging.\n",
    "- Configured to display timestamps, log levels, and messages.\n",
    "- Uses INFO level to show key updates."
   ]
  },
  {
   "cell_type": "code",
   "execution_count": null,
   "metadata": {},
   "outputs": [
    {
     "name": "stderr",
     "output_type": "stream",
     "text": [
      "2025-03-20 13:31:53,970 - INFO - 🔹 Loading dataset...\n",
      "2025-03-20 13:31:54,542 - INFO - ✅ Using 175878 valid lyrics for Zero-Shot Classification.\n"
     ]
    }
   ],
   "source": [
    "logging.basicConfig(format=\"%(asctime)s - %(levelname)s - %(message)s\", level=logging.INFO)"
   ]
  },
  {
   "cell_type": "markdown",
   "metadata": {},
   "source": [
    "## 2. Load Dataset & Preprocess Lyrics\n",
    "- Applies preprocessing to clean the lyrics column before running the classification.\n",
    "- Drop rows where lyrics is NaN.\n",
    "- Remove rows where lyrics contain placeholder values (\\\"No Lyrics\\\", \\\"none\\\", \\\"None\\\") to ensure high-quality data.\n",
    "- Convert the cleaned lyrics and track IDs into lists, which makes them easier to process in subsequent classification steps"
   ]
  },
  {
   "cell_type": "code",
   "execution_count": null,
   "metadata": {},
   "outputs": [],
   "source": [
    "logging.info(\"🔹 Loading dataset...\")\n",
    "df = pd.read_parquet(\"/Users/xavierhua/Documents/GitHub/bt4222grp9/phase2_data_cleaning/cleaned dataset/track_cleaned.parquet\")\n",
    "\n",
    "# Validate if 'lyrics' column exists\n",
    "if \"lyrics\" not in df.columns:\n",
    "    raise ValueError(\"❌ The dataset must contain a 'lyrics' column.\")\n",
    "\n",
    "# Drop missing or invalid lyrics\n",
    "df = df.dropna(subset=[\"lyrics\"])\n",
    "df = df[~df[\"lyrics\"].isin([\"No Lyrics\", \"none\", \"None\"])].copy()\n",
    "\n",
    "# Convert lyrics and track IDs to lists\n",
    "lyrics_list = df[\"lyrics\"].tolist()\n",
    "track_idx_list = df[\"track_idx\"].tolist()\n",
    "logging.info(f\"✅ Using {len(df)} valid lyrics for Zero-Shot Classification.\")"
   ]
  },
  {
   "cell_type": "markdown",
   "metadata": {},
   "source": [
    "## 3. Load Zero-Shot Classification Model\n",
    "- Initializes a pre-trained zero-shot classification model to classify lyrics into predefined emotion categories.\n",
    "- Why Zero-Shot Classification? Zero-shot classification allows categorization without task-specific training, making it flexible for emotion detection.\n",
    "- The model will classify lyrics into the specified emotion categories based on context and meaning."
   ]
  },
  {
   "cell_type": "code",
   "execution_count": null,
   "metadata": {},
   "outputs": [],
   "source": [
    "logging.info(\"🔹 Loading Zero-Shot Classifier...\")\n",
    "device = 0 if torch.cuda.is_available() else -1\n",
    "model_name = \"MoritzLaurer/mDeBERTa-v3-base-mnli-xnli\"\n",
    "classifier = pipeline(\n",
    "    \"zero-shot-classification\",\n",
    "    model=model_name,\n",
    "    device=device,\n",
    "    torch_dtype=torch.float16 if torch.cuda.is_available() else torch.float32,\n",
    ")\n",
    "\n",
    "# Define emotion categories\n",
    "emotions = [\"joy\", \"calm\", \"sadness\", \"fear\", \"energizing\", \"dreamy\"]"
   ]
  },
  {
   "cell_type": "markdown",
   "metadata": {},
   "source": [
    "## 4. Checkpoint Setup\n",
    "- To avoid reprocessing from the beginning in case of interruptions, a checkpoint system is used to save progress and resume efficiently.\n",
    "- `checkpoint_path`: File to store progress.\n",
    "- `start_idx`: Tracks the last processed index.\n",
    "- `emotion_scores`: Stores emotion classification results.\n",
    "- `track_ids`: Stores processed track IDs.\n",
    "- If a checkpoint exists, it loads the last processed index and saved results to continue from where it left off."
   ]
  },
  {
   "cell_type": "code",
   "execution_count": null,
   "metadata": {},
   "outputs": [],
   "source": [
    "checkpoint_path = \"classification_checkpoint.pkl\"\n",
    "start_idx = 0\n",
    "emotion_scores = {emotion: [] for emotion in emotions}\n",
    "track_ids = []\n",
    "\n",
    "# Resume from checkpoint if exists\n",
    "if os.path.exists(checkpoint_path):\n",
    "    logging.info(\"🔄 Resuming from last checkpoint...\")\n",
    "    with open(checkpoint_path, \"rb\") as f:\n",
    "        saved_data = pickle.load(f)\n",
    "        start_idx = saved_data[\"last_processed_idx\"]\n",
    "        emotion_scores = saved_data[\"emotion_scores\"]\n",
    "        track_ids = saved_data[\"track_ids\"]\n",
    "\n",
    "logging.info(f\"🔹 Resuming from index {start_idx} / {len(lyrics_list)}\")"
   ]
  },
  {
   "cell_type": "markdown",
   "metadata": {},
   "source": [
    "## 5. Batched Zero-Shot Classification\n",
    "- Processes lyrics in batches using a zero-shot classification model to determine emotion scores efficiently.\n",
    "- Uses a defined batch size to optimize performance and prevent memory overload.\n",
    "- Stores results and periodically saves checkpoints to resume from the last processed index in case of interruptions."
   ]
  },
  {
   "cell_type": "code",
   "execution_count": null,
   "metadata": {},
   "outputs": [],
   "source": [
    "batch_size_classify = 32  # Increase batch size if possible\n",
    "logging.info(\"🔹 Running Zero-Shot Classification...\")\n",
    "\n",
    "batches_processed = 0\n",
    "for i in tqdm(range(start_idx, len(lyrics_list), batch_size_classify), desc=\"Classifying Emotions\"):\n",
    "    # Get batch data\n",
    "    batch_lyrics = lyrics_list[i:i + batch_size_classify]\n",
    "    batch_track_ids = track_idx_list[i:i + batch_size_classify]\n",
    "    \n",
    "    # Run classification\n",
    "    batch_results = classifier(batch_lyrics, candidate_labels=emotions, multi_label=True)\n",
    "    if isinstance(batch_results, dict):\n",
    "        batch_results = [batch_results]\n",
    "\n",
    "    # Store results\n",
    "    for idx, result in enumerate(batch_results):\n",
    "        track_ids.append(batch_track_ids[idx])\n",
    "        scores_dict = dict(zip(result[\"labels\"], result[\"scores\"]))\n",
    "        for emotion in emotions:\n",
    "            emotion_scores[emotion].append(scores_dict.get(emotion, 0.0))\n",
    "    \n",
    "    # Save checkpoint periodically\n",
    "    batches_processed += 1\n",
    "    if batches_processed % 2 == 0:  # Adjust frequency as needed\n",
    "        with open(checkpoint_path, \"wb\") as f:\n",
    "            pickle.dump({\n",
    "                \"last_processed_idx\": i + batch_size_classify,\n",
    "                \"emotion_scores\": emotion_scores,\n",
    "                \"track_ids\": track_ids\n",
    "            }, f)\n",
    "        logging.info(f\"💾 Checkpoint saved at index {i + batch_size_classify}\")\n",
    "\n",
    "logging.info(\"✅ Classification complete. Saving results...\")"
   ]
  },
  {
   "cell_type": "markdown",
   "metadata": {},
   "source": [
    "## 6. Save Results\n",
    "- Ensures all lists have the same length to prevent data mismatches.\n",
    "- Trims `track_ids` and `emotion_scores` to the minimum length.\n",
    "- Creates a DataFrame with track IDs and emotion scores.\n",
    "- Removes duplicate entries to maintain unique track records.\n",
    "- Saves the processed data as `full_dataset_emotion_scores.csv`.\n",
    "- Deletes the checkpoint file after successful completion.\n",
    "- Logs completion and confirms that results have been saved."
   ]
  },
  {
   "cell_type": "code",
   "execution_count": null,
   "metadata": {},
   "outputs": [],
   "source": [
    "# Ensure all lists have the same length\n",
    "min_length = min(len(track_ids), *[len(scores) for scores in emotion_scores.values()])\n",
    "track_ids = track_ids[:min_length]\n",
    "emotion_scores = {k: v[:min_length] for k, v in emotion_scores.items()}\n",
    "\n",
    "# Create and save DataFrame\n",
    "output_df = pd.DataFrame({\n",
    "    \"track_idx\": track_ids,\n",
    "    **emotion_scores\n",
    "})\n",
    "output_df = output_df.drop_duplicates(subset=[\"track_idx\"], keep=\"first\")\n",
    "output_df.to_csv(\"full_dataset_emotion_scores.csv\", index=False)\n",
    "\n",
    "# Remove checkpoint file\n",
    "if os.path.exists(checkpoint_path):\n",
    "    os.remove(checkpoint_path)\n",
    "\n",
    "logging.info(\"✅ Full dataset emotion scores saved as 'full_dataset_emotion_scores.csv'.\")\n",
    "print(\"✅ Emotion classification complete! Results saved.\")"
   ]
  },
  {
   "cell_type": "markdown",
   "metadata": {},
   "source": [
<<<<<<< Updated upstream
    "## 6. Row-wise Sum Normalization on Emotions\n",
    "- Computes the sum of emotion scores for each track (row-wise).\n",
    "- Normalizes each row by dividing emotion scores by the row sum.\n",
    "- Handles cases where the sum is zero to avoid NaN values.\n",
    "- Saves the normalized dataset as `normalized_emotion_scores.csv`."
=======
    "Normalise emotion results"
>>>>>>> Stashed changes
   ]
  },
  {
   "cell_type": "code",
   "execution_count": null,
   "metadata": {},
   "outputs": [],
   "source": [
    "# Define emotion columns\n",
    "emotion_columns = [\"joy\", \"calm\", \"sadness\", \"fear\", \"energizing\", \"dreamy\"]\n",
    "\n",
    "# Compute row-wise sum\n",
    "row_sums = output_df[emotion_columns].sum(axis=1)\n",
    "\n",
    "# Normalize each row by dividing by the row sum\n",
    "output_df[emotion_columns] = output_df[emotion_columns].div(row_sums, axis=0).fillna(0)\n",
    "\n",
    "# Save the normalized results\n",
    "output_df.to_csv(\"normalized_emotion_scores.csv\", index=False)"
   ]
  },
  {
   "cell_type": "markdown",
   "metadata": {},
   "source": [
    "# Audio Clustering Analysis"
   ]
  },
  {
   "cell_type": "markdown",
   "metadata": {},
   "source": [
    "1. Summary: Selecting Audio Features for Clustering and Data Cleaning\n",
    "\n",
    "- **Select Audio Features:**\n",
    "  - A list named `audio_features` is defined with the column names representing various audio characteristics (e.g., \"danceability\", \"energy\").\n",
    "  - These features are chosen for their ability to quantitatively distinguish between different aspects of the songs, making them suitable for clustering analysis.\n",
    "\n",
    "- **Clean the Dataset:**\n",
    "  - Rows containing missing values (`NaN`) in any of the specified audio feature columns are removed using `df.dropna(subset=audio_features)`.\n",
    "  - The shape of the cleaned DataFrame is printed, which helps in assessing how many rows were removed and ensures that the dataset used for clustering is complete.\n"
   ]
  },
  {
   "cell_type": "code",
   "execution_count": null,
   "metadata": {},
   "outputs": [],
   "source": [
    "# Ensure that your DataFrame 'df' is defined from previous analysis.\n",
    "# Select audio features for clustering\n",
    "audio_features = [\n",
    "    \"danceability\", \"energy\", \"key\", \"loudness\",\n",
    "    \"speechiness\", \"acousticness\", \"instrumentalness\",\n",
    "    \"liveness\", \"valence\", \"tempo\"\n",
    "]\n",
    "\n",
    "# Clean data: drop rows with missing audio feature values\n",
    "df = df.dropna(subset=audio_features)\n",
    "print(\"Data shape after dropping missing values:\", df.shape)"
   ]
  },
  {
   "cell_type": "markdown",
   "metadata": {},
   "source": [
    "2. Normalizing Features and Finding the Optimal Number of Clusters\n",
    "\n",
    "- **Normalize Features:**\n",
    "  - Uses `QuantileTransfomer` to standardize & normalize selected audio features from the DataFrame.\n",
    "  - Transforms the features so they have a mean of 0 and a standard deviation of 1.\n",
    "  - The resulting standardized features are stored in a new DataFrame called `df_scaled`.\n",
    "\n",
    "- **Determine Optimal Clusters (Elbow Method):**\n",
    "  - Iterates over cluster counts from 2 to 10.\n",
    "  - For each cluster count (k), it fits a K-Means model on `df_scaled` and records:\n",
    "    - **Inertia:** Sum of squared distances from each point to its cluster center.\n",
    "    - **Silhouette Score:** A measure of how distinct the clusters are.\n",
    "    \n",
    "- **Plot the Elbow Curve:**\n",
    "  - Plots the inertia values against the number of clusters.\n",
    "  - The \"elbow\" point in the plot helps visually determine the optimal number of clusters.\n",
    "\n"
   ]
  },
  {
   "cell_type": "code",
   "execution_count": null,
   "metadata": {},
   "outputs": [],
   "source": [
    "# Normalize features\n",
    "scaler = QuantileTransformer(output_distribution='normal')  # or 'uniform' depending on needs\n",
    "df_scaled = pd.DataFrame(scaler.fit_transform(df[audio_features]), columns=audio_features)\n",
    "\n",
    "# Find optimal number of clusters using the Elbow Method\n",
    "inertia = []\n",
    "sil_scores = []\n",
    "K_range = range(2, 11)  # Testing cluster sizes from 2 to 10\n",
    "for k in K_range:\n",
    "    kmeans = KMeans(n_clusters=k, random_state=42, n_init=10)\n",
    "    kmeans.fit(df_scaled)\n",
    "    inertia.append(kmeans.inertia_)\n",
    "    sil_scores.append(silhouette_score(df_scaled, kmeans.labels_))\n",
    "\n",
    "# Plot the Elbow Curve\n",
    "plt.figure(figsize=(8, 4))\n",
    "plt.plot(K_range, inertia, marker=\"o\", linestyle=\"-\", label=\"Inertia\")\n",
    "plt.xlabel(\"Number of Clusters\")\n",
    "plt.ylabel(\"Inertia\")\n",
    "plt.title(\"Elbow Method for Optimal K\")\n",
    "plt.legend()\n",
    "plt.show()"
   ]
  },
  {
   "cell_type": "markdown",
   "metadata": {},
   "source": [
    "3. K-Means Clustering and Cluster Centroid Analysis\n",
    "\n",
    "- **Setting Up Clustering:**\n",
    "  - The optimal number of clusters is defined by setting `optimal_k = 8`. This value can be adjusted if needed.\n",
    "\n",
    "- **Applying K-Means Clustering:**\n",
    "  - A K-Means model is initialized with:\n",
    "    - `n_clusters=optimal_k`: using 8 clusters.\n",
    "    - `random_state=42`: ensuring reproducible results.\n",
    "    - `n_init=10`: running the algorithm 10 times with different centroid seeds.\n",
    "  - The model is fitted on the normalized features (`df_scaled`), and the predicted cluster labels are assigned to a new column `\"cluster\"` in the DataFrame `df`.\n",
    "\n",
    "- **Analyzing Cluster Centroids:**\n",
    "  - The centroids (i.e., the average feature values for each cluster) are extracted from the fitted K-Means model.\n",
    "  - These centroids are organized into a new DataFrame `cluster_centers` with column names corresponding to the selected audio features.\n",
    "\n",
    "- **Visualizing Cluster Centroids:**\n",
    "  - A heatmap is generated using seaborn to display the centroids.\n",
    "  - The heatmap provides a visual overview of the cluster characteristics, with the x-axis representing audio features and the y-axis representing cluster numbers.\n"
   ]
  },
  {
   "cell_type": "code",
   "execution_count": null,
   "metadata": {},
   "outputs": [],
   "source": [
    "# Set the optimal number of clusters (update if needed)\n",
    "optimal_k = 8\n",
    "\n",
    "# K-means clustering\n",
    "kmeans = KMeans(n_clusters=optimal_k, random_state=42, n_init=10)\n",
    "df[\"cluster\"] = kmeans.fit_predict(df_scaled)\n",
    "\n",
    "# Analyze cluster centroids\n",
    "cluster_centers = pd.DataFrame(kmeans.cluster_centers_, columns=audio_features)\n",
    "\n",
    "# Heatmap of cluster centroids\n",
    "plt.figure(figsize=(10, 6))\n",
    "sns.heatmap(cluster_centers, cmap=\"Purples\", annot=True)\n",
    "plt.title(\"Cluster Centroids (K-means)\")\n",
    "plt.xlabel(\"Audio Features\")\n",
    "plt.ylabel(\"Cluster Number\")\n",
    "plt.show()"
   ]
  },
  {
   "cell_type": "markdown",
   "metadata": {},
   "source": [
    "4. PCA for 3D Visualization of Clusters\n",
    "\n",
    "- **Applying PCA with 3 Components:**\n",
    "  - A PCA model is initialized with 3 components using `PCA(n_components=3)`.\n",
    "  - The normalized features (`df_scaled`) are transformed into a 3-dimensional space, resulting in an array `df_pca`.\n",
    "  - The three principal components are then stored in the DataFrame `df` as new columns: `PCA1`, `PCA2`, and `PCA3`.\n",
    "\n",
    "- **3D Visualization of Clusters:**\n",
    "  - A 3D plot is created using matplotlib:\n",
    "    - A new figure is set up with a size of 10x8 inches.\n",
    "    - A 3D subplot is added to the figure using `projection=\"3d\"`.\n",
    "  - A scatter plot is generated:\n",
    "    - The x, y, and z coordinates are given by `PCA1`, `PCA2`, and `PCA3`, respectively.\n",
    "    - Points are colored based on the cluster labels stored in `df[\"cluster\"]` with the `tab10` colormap.\n",
    "    - A marker size of 50 is used for better visibility.\n",
    "  - The axes are labeled with the corresponding PCA component names, and a title is added to the plot.\n",
    "  - A legend is created from the scatter plot elements to indicate which colors correspond to which clusters.\n",
    "  - Finally, the plot is displayed using `plt.show()`.\n"
   ]
  },
  {
   "cell_type": "code",
   "execution_count": null,
   "metadata": {},
   "outputs": [],
   "source": [
    "# Use PCA with 3 components for 3D visualization\n",
    "pca = PCA(n_components=3)\n",
    "df_pca = pca.fit_transform(df_scaled)\n",
    "df[\"PCA1\"] = df_pca[:, 0]\n",
    "df[\"PCA2\"] = df_pca[:, 1]\n",
    "df[\"PCA3\"] = df_pca[:, 2]\n",
    "\n",
    "# 3D Visualization of Clusters\n",
    "fig = plt.figure(figsize=(10, 8))\n",
    "ax = fig.add_subplot(111, projection=\"3d\")\n",
    "scatter = ax.scatter(df[\"PCA1\"], df[\"PCA2\"], df[\"PCA3\"], c=df[\"cluster\"], cmap=\"tab10\", s=50)\n",
    "ax.set_xlabel(\"PCA Component 1\")\n",
    "ax.set_ylabel(\"PCA Component 2\")\n",
    "ax.set_zlabel(\"PCA Component 3\")\n",
    "ax.set_title(\"3D Clustering Visualization using PCA\")\n",
    "legend1 = ax.legend(*scatter.legend_elements(), title=\"Cluster\")\n",
    "ax.add_artist(legend1)\n",
    "plt.show()"
   ]
  },
  {
   "cell_type": "markdown",
   "metadata": {},
   "source": [
    "5. Assigning Genre Scores (Soft Clustering) and Cluster Labels\n",
    "\n",
    "- **Computing Distances and Converting to Similarity Scores:**\n",
    "  - **Step 1:**  \n",
    "    ```python\n",
    "    distances = cdist(df_scaled, kmeans.cluster_centers_, metric=\"euclidean\")\n",
    "    ```\n",
    "    - Computes the Euclidean distance between each song (from the normalized feature set `df_scaled`) and each cluster centroid from the K-Means model.\n",
    "  - **Step 2:**  \n",
    "    ```python\n",
    "    genre_scores = np.exp(-distances)  # Convert distances to similarity scores\n",
    "    ```\n",
    "    - Applies an exponential decay function (`np.exp(-distance)`) to convert distances into similarity scores.\n",
    "    - Songs that are closer to a centroid (i.e., with smaller distances) yield higher similarity values.\n",
    "    \n",
    "- **Normalizing Genre Scores:**\n",
    "  - **Step 3:**  \n",
    "    ```python\n",
    "    genre_scores = genre_scores / genre_scores.sum(axis=1, keepdims=True)  # Normalize scores\n",
    "    ```\n",
    "    - Normalizes the similarity scores for each song so that the scores across all clusters sum to 1.\n",
    "    - **Interpretation Example:**  \n",
    "      - Suppose a song has raw similarity scores `[2.5, 0.5, 0.3, 0.1, 0.05, 0.05, 0.03, 0.02]`.  \n",
    "      - After normalization, these might become approximately `[0.80, 0.10, 0.06, 0.02, 0.01, 0.01, 0.005, 0.005]`.  \n",
    "      - This means the song is most similar to the first cluster (80% similarity), with much lower similarities to the other clusters, indicating its ***strongest genre affiliation***.\n",
    "\n",
    "- **Storing Genre Scores:**\n",
    "  - **Step 4:**  \n",
    "    ```python\n",
    "    genre_scores_df = pd.DataFrame(genre_scores, columns=[f\"Genre {i}\" for i in range(optimal_k)])\n",
    "    df = pd.concat([df, genre_scores_df], axis=1)\n",
    "    ```\n",
    "    - Creates a new DataFrame `genre_scores_df` with columns named \"Genre 0\" through \"Genre 7\" (for `optimal_k = 8`).\n",
    "\n",
    "- **Assigning Descriptive Cluster Labels:**\n",
    "  - **Step 5:**  \n",
    "    ```python\n",
    "    descriptive_labels = [\n",
    "        \"Instrumental / Ambient Sounds\",    # Cluster 0\n",
    "        \"Soft Acoustic / Classical\",          # Cluster 1\n",
    "        \"Orchestral / Soundtrack\",            # Cluster 2\n",
    "        \"Mid-tempo Pop / Indie\",              # Cluster 3\n",
    "        \"Upbeat Electronic / Dance\",          # Cluster 4\n",
    "        \"Slow & Melancholic (Sad Songs)\",     # Cluster 5\n",
    "        \"Experimental / Jazz Fusion\",         # Cluster 6\n",
    "        \"Lo-Fi / Chill Vibes\"                 # Cluster 7\n",
    "    ]\n",
    "    df[\"Cluster Label\"] = df[\"cluster\"].map(lambda x: descriptive_labels[x])\n",
    "    df.to_csv(\"1000_songs_processed_music_dataset.csv\", index=False)\n",
    "    ```\n",
    "    - Maps numeric cluster labels from the K-Means output to descriptive text labels.\n",
    "    - The resulting labels help in quickly understanding the genre or style associated with each cluster.\n",
    "\n",
    "- **Final Output:**\n",
    "  - The script prints the first few rows of the updated DataFrame, displaying the original song data, cluster assignments, soft genre scores, and descriptive cluster labels.\n"
   ]
  },
  {
   "cell_type": "code",
   "execution_count": null,
   "metadata": {},
   "outputs": [],
   "source": [
    "# Assign Genre Scores (Soft clustering)\n",
    "distances = cdist(df_scaled, kmeans.cluster_centers_, metric=\"euclidean\")\n",
    "genre_scores = np.exp(-distances)  # Convert distances to similarity scores\n",
    "genre_scores = genre_scores / genre_scores.sum(axis=1, keepdims=True)  # Normalize scores\n",
    "\n",
    "# Store genre scores in a new DataFrame\n",
    "genre_scores_df = pd.DataFrame(genre_scores, columns=[f\"Genre {i}\" for i in range(optimal_k)])\n",
    "df = pd.concat([df, genre_scores_df], axis=1)\n",
    "\n",
    "# Assign descriptive labels to each cluster (adjust labels as needed)\n",
    "descriptive_labels = [\n",
    "    \"Instrumental / Ambient Sounds\",      # Cluster 0\n",
    "    \"Soft Acoustic / Classical\",          # Cluster 1\n",
    "    \"Orchestral / Soundtrack\",            # Cluster 2\n",
    "    \"Mid-tempo Pop / Indie\",              # Cluster 3\n",
    "    \"Upbeat Electronic / Dance\",          # Cluster 4\n",
    "    \"Slow & Melancholic (Sad Songs)\",     # Cluster 5\n",
    "    \"Experimental / Jazz Fusion\",         # Cluster 6\n",
    "    \"Lo-Fi / Chill Vibes\"                 # Cluster 7\n",
    "]\n",
    "\n",
    "df[\"Cluster Label\"] = df[\"cluster\"].map(lambda x: descriptive_labels[x])\n",
    "df.to_csv(\"1000_songs_processed_music_dataset.csv\", index=False)\n",
    "\n",
    "print(\"Audio clustering with 3D PCA visualization completed. Here are the first few rows:\")\n",
    "print(df.head())"
   ]
  },
  {
   "cell_type": "markdown",
   "metadata": {},
   "source": [
    "6. Displaying the Count of Songs per Cluster\n",
    "\n",
    "- **Purpose:**\n",
    "  - This section displays how many songs are assigned to each cluster based on the descriptive labels.\n",
    "\n",
    "- **Details:**\n",
    "  - `df[\"Cluster Label\"].value_counts()` is used to count and display the number of songs in each cluster.\n",
    "    - `value_counts()` returns a series where the index contains the unique cluster labels and the corresponding values indicate how many times each label appears in the DataFrame.\n",
    "  - **Interpretation:**\n",
    "    - The output provides a quick summary of the distribution of songs among the different clusters, helping to assess cluster sizes and the overall balance of the clustering result.\n"
   ]
  },
  {
   "cell_type": "code",
   "execution_count": null,
   "metadata": {},
   "outputs": [],
   "source": [
    "print(\"\\nSongs per Cluster:\")\n",
    "print(df[\"Cluster Label\"].value_counts())"
   ]
  }
 ],
 "metadata": {
  "kernelspec": {
   "display_name": "myenv",
   "language": "python",
   "name": "python3"
  },
  "language_info": {
   "codemirror_mode": {
    "name": "ipython",
    "version": 3
   },
   "file_extension": ".py",
   "mimetype": "text/x-python",
   "name": "python",
   "nbconvert_exporter": "python",
   "pygments_lexer": "ipython3",
   "version": "3.10.15"
  }
 },
 "nbformat": 4,
 "nbformat_minor": 2
}
