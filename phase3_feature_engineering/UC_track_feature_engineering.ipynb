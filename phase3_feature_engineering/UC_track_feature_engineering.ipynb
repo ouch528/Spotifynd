{
 "cells": [
  {
   "cell_type": "code",
   "execution_count": 90,
   "metadata": {},
   "outputs": [],
   "source": [
    "import pandas as pd\n",
    "import matplotlib.pyplot as plt\n",
    "from scipy.stats import pearsonr\n",
    "import seaborn as sns\n",
    "import ast\n",
    "import numpy as np\n",
    "import gensim.downloader as api\n",
    "from sklearn.metrics.pairwise import cosine_similarity\n",
    "import scipy.stats as stats\n",
    "from sklearn.preprocessing import MinMaxScaler"
   ]
  },
  {
   "cell_type": "markdown",
   "metadata": {},
   "source": [
    "# Load Datasets"
   ]
  },
  {
   "cell_type": "code",
   "execution_count": 20,
   "metadata": {},
   "outputs": [],
   "source": [
    "playlist = pd.read_parquet(\"../cleaned dataset/playlist_cleaned.parquet\")\n",
    "track = pd.read_parquet(\"../cleaned dataset/track_cleaned.parquet\")"
   ]
  },
  {
   "cell_type": "markdown",
   "metadata": {},
   "source": [
    "# Categorization of `duration`"
   ]
  },
  {
   "cell_type": "markdown",
   "metadata": {},
   "source": [
    "For tracks being shorter than 180 seconds (3 min), we will classify it as short. <br> <br>\n",
    "For tracks between 180 seconds (3 min) and 240 seconds (4 min), we will classify it as medium. <br> <br>\n",
    "For tracks being longer than 240 seconds (4 min), we will classify it as short."
   ]
  },
  {
   "cell_type": "code",
   "execution_count": 87,
   "metadata": {},
   "outputs": [],
   "source": [
    "track['category'] = track['duration'].apply(lambda x: 'Short' if x < 180 else 'Medium' if x <= 240 else 'Long')"
   ]
  },
  {
   "cell_type": "code",
   "execution_count": 88,
   "metadata": {},
   "outputs": [
    {
     "data": {
      "image/png": "[encoded data removed]",
      "text/plain": [
       "<Figure size 800x500 with 1 Axes>"
      ]
     },
     "metadata": {},
     "output_type": "display_data"
    }
   ],
   "source": [
    "# Count the number of tracks in each category\n",
    "category_counts = track['category'].value_counts().reset_index()\n",
    "category_counts.columns = ['category', 'Count']\n",
    "\n",
    "# Plot the bar chart\n",
    "plt.figure(figsize=(8, 5))\n",
    "sns.barplot(data=category_counts, x=\"category\", y=\"Count\", hue=\"category\", palette=\"viridis\", legend=False)\n",
    "\n",
    "# Labels and title\n",
    "plt.xlabel(\"Track Category\")\n",
    "plt.ylabel(\"Count\")\n",
    "plt.title(\"Distribution of Track Durations\")\n",
    "\n",
    "plt.show()"
   ]
  },
  {
   "cell_type": "code",
   "execution_count": 19,
   "metadata": {},
   "outputs": [],
   "source": [
    "track_encoded = pd.get_dummies(track, columns=['category'])"
   ]
  },
  {
   "cell_type": "markdown",
   "metadata": {},
   "source": [
    "# Sentiment Analysis"
   ]
  },
  {
   "cell_type": "code",
   "execution_count": null,
   "metadata": {},
   "outputs": [
    {
     "name": "stderr",
     "output_type": "stream",
     "text": [
      "/Users/ohungchan/Documents/GitHub/bt4222grp9/myenv/lib/python3.10/site-packages/tqdm/auto.py:21: TqdmWarning: IProgress not found. Please update jupyter and ipywidgets. See https://ipywidgets.readthedocs.io/en/stable/user_install.html\n",
      "  from .autonotebook import tqdm as notebook_tqdm\n",
      "Device set to use cpu\n",
      "Classifying Emotions: 100%|██████████| 6/6 [02:06<00:00, 21.02s/it]"
     ]
    },
    {
     "name": "stdout",
     "output_type": "stream",
     "text": [
      "✅ Emotion classification complete! Results saved.\n"
     ]
    },
    {
     "name": "stderr",
     "output_type": "stream",
     "text": [
      "\n"
     ]
    }
   ],
   "source": [
    "import torch\n",
    "import pandas as pd\n",
    "import logging\n",
    "import pickle\n",
    "import os\n",
    "import asyncio\n",
    "import nest_asyncio\n",
    "from tqdm.asyncio import tqdm\n",
    "from transformers import pipeline, AutoTokenizer\n",
    "\n",
    "# ✅ Fixes event loop issue in Jupyter Notebook\n",
    "nest_asyncio.apply()\n",
    "\n",
    "df = pd.read_parquet(\"/Users/ohungchan/Downloads/tracks_1000playlist_subsample.parquet\") # You can change the directory\n",
    "df = df[:100]\n",
    "\n",
    "if \"lyrics\" not in df.columns:\n",
    "    raise ValueError(\"❌ The dataset must contain a 'lyrics' column.\")\n",
    "\n",
    "# Drop invalid lyrics\n",
    "df = df.dropna(subset=[\"lyrics\"])\n",
    "df = df[~df[\"lyrics\"].isin([\"No Lyrics\", \"none\", \"None\"])].copy()\n",
    "\n",
    "lyrics_list = df[\"lyrics\"].tolist()\n",
    "track_idx_list = df[\"track_idx\"].tolist()\n",
    "\n",
    "logging.info(f\"✅ Using {len(df)} valid lyrics for Zero-Shot Classification.\")\n",
    "\n",
    "# -------------------------------\n",
    "# 3️⃣ Load Zero-Shot Classification Model\n",
    "# -------------------------------\n",
    "logging.info(\"🔹 Loading Zero-Shot Classifier...\")\n",
    "device = 0 if torch.cuda.is_available() else -1\n",
    "model_name = \"MoritzLaurer/mDeBERTa-v3-base-mnli-xnli\"\n",
    "\n",
    "classifier = pipeline(\n",
    "    \"zero-shot-classification\",\n",
    "    model=model_name,\n",
    "    device=device,\n",
    "    torch_dtype=torch.float16 if torch.cuda.is_available() else torch.float32,\n",
    ")\n",
    "\n",
    "tokenizer = AutoTokenizer.from_pretrained(model_name)\n",
    "\n",
    "# Define emotion categories\n",
    "emotions = [\"joy\", \"calm\", \"sadness\", \"fear\", \"energizing\", \"dreamy\"]\n",
    "\n",
    "# -------------------------------\n",
    "# 4️⃣ Tokenize Lyrics (Now Asynchronous) & Resume Progress\n",
    "# -------------------------------\n",
    "checkpoint_path = \"classification_checkpoint.pkl\"\n",
    "start_idx = 0\n",
    "emotion_scores = {emotion: [] for emotion in emotions}\n",
    "track_ids = []\n",
    "\n",
    "if os.path.exists(checkpoint_path):\n",
    "    logging.info(\"🔄 Resuming from last checkpoint...\")\n",
    "    with open(checkpoint_path, \"rb\") as f:\n",
    "        saved_data = pickle.load(f)\n",
    "        start_idx = saved_data[\"last_processed_idx\"]\n",
    "        emotion_scores = saved_data[\"emotion_scores\"]\n",
    "        track_ids = saved_data[\"track_ids\"]\n",
    "\n",
    "logging.info(f\"🔹 Resuming from batch {start_idx} / {len(lyrics_list)}\")\n",
    "\n",
    "# ✅ **Asynchronous Tokenization**\n",
    "logging.info(\"🔹 Tokenizing lyrics asynchronously for faster processing...\")\n",
    "\n",
    "async def tokenize_batch(batch_lyrics):\n",
    "    return [tokenizer.decode(tokenizer.encode(text, truncation=True, max_length=128)) for text in batch_lyrics]\n",
    "\n",
    "async def tokenize_all():\n",
    "    tasks = [tokenize_batch(lyrics_list[i:i+32]) for i in range(0, len(lyrics_list), 32)]\n",
    "    tokenized_batches = await asyncio.gather(*tasks)\n",
    "    return [text for batch in tokenized_batches for text in batch]  # Flatten the list\n",
    "\n",
    "tokenized_lyrics = asyncio.run(tokenize_all())  # ✅ Fast asynchronous tokenization\n",
    "logging.info(\"✅ Tokenization complete.\")\n",
    "\n",
    "# -------------------------------\n",
    "# 5️⃣ Perform Optimized Zero-Shot Classification with asyncio\n",
    "# -------------------------------\n",
    "batch_size = 16  # ✅ Increase batch size for faster processing\n",
    "logging.info(\"🔹 Running Zero-Shot Classification with asyncio...\")\n",
    "\n",
    "async def classify_batch(batch_lyrics):\n",
    "    \"\"\"Runs zero-shot classification on a batch asynchronously.\"\"\"\n",
    "    return classifier(batch_lyrics, candidate_labels=emotions, multi_label=True)\n",
    "\n",
    "async def process_batches():\n",
    "    global emotion_scores, track_ids\n",
    "\n",
    "    tasks = []\n",
    "    batch_results = []\n",
    "    batches_processed = 0\n",
    "\n",
    "    for i in tqdm(range(start_idx, len(tokenized_lyrics), batch_size), desc=\"Classifying Emotions\"):\n",
    "        batch_lyrics = tokenized_lyrics[i : i + batch_size]\n",
    "        batch_track_ids = track_idx_list[i : i + batch_size]\n",
    "\n",
    "        # Run classification asynchronously\n",
    "        tasks.append(classify_batch(batch_lyrics))\n",
    "\n",
    "        if len(tasks) >= 10 or i + batch_size >= len(tokenized_lyrics):  # ✅ Run in chunks of 10\n",
    "            batch_results.extend(await asyncio.gather(*tasks))\n",
    "            tasks = []  # Reset tasks after processing\n",
    "\n",
    "            # ✅ Process gathered results\n",
    "            for batch_idx, batch_result in enumerate(batch_results):\n",
    "                batch_track_ids = track_idx_list[start_idx + (batch_idx * batch_size) : start_idx + ((batch_idx + 1) * batch_size)]\n",
    "\n",
    "                # ✅ Ensure same number of track IDs & results\n",
    "                if len(batch_result) != len(batch_track_ids):\n",
    "                    logging.warning(f\"⚠️ Mismatch: {len(batch_result)} results for {len(batch_track_ids)} tracks.\")\n",
    "\n",
    "                for idx, lyric_result in enumerate(batch_result):\n",
    "                    track_ids.append(batch_track_ids[idx])\n",
    "\n",
    "                    scores_dict = dict(zip(lyric_result[\"labels\"], lyric_result[\"scores\"]))\n",
    "                    for emotion in emotions:\n",
    "                        emotion_scores[emotion].append(scores_dict.get(emotion, 0.0))\n",
    "\n",
    "            # ✅ **Save Progress Every 2 Batches**\n",
    "            batches_processed += 1\n",
    "            if batches_processed % 2 == 0:\n",
    "                with open(checkpoint_path, \"wb\") as f:\n",
    "                    pickle.dump({\n",
    "                        \"last_processed_idx\": i + batch_size,\n",
    "                        \"emotion_scores\": emotion_scores,\n",
    "                        \"track_ids\": track_ids\n",
    "                    }, f)\n",
    "                logging.info(f\"💾 Checkpoint saved at batch {i + batch_size}\")\n",
    "\n",
    "# ✅ **Run asyncio with compatibility fix**\n",
    "asyncio.run(process_batches())\n",
    "\n",
    "logging.info(\"✅ Classification complete. Saving results...\")\n",
    "\n",
    "# -------------------------------\n",
    "# 6️⃣ Save Results with Expanded Output\n",
    "# -------------------------------\n",
    "logging.info(f\"🔍 Final Check: track_ids={len(track_ids)}, emotions={len(next(iter(emotion_scores.values())))}\")\n",
    "\n",
    "# ✅ **Ensure all lists have the same length**\n",
    "min_length = min(len(track_ids), *[len(scores) for scores in emotion_scores.values()])\n",
    "track_ids = track_ids[:min_length]  # Trim track IDs\n",
    "emotion_scores = {k: v[:min_length] for k, v in emotion_scores.items()}  # Trim emotion scores\n",
    "\n",
    "# ✅ Now save DataFrame\n",
    "output_df = pd.DataFrame({\n",
    "    \"track_idx\": track_ids,\n",
    "    **emotion_scores  # Expands the dictionary into separate columns\n",
    "})\n",
    "\n",
    "# Remove duplicates from the output DataFrame\n",
    "output_df = output_df.drop_duplicates(subset=[\"track_idx\"], keep=\"first\")\n",
    "\n",
    "output_df.to_csv(\"full_dataset_emotion_scores.csv\", index=False)\n",
    "\n",
    "# Remove checkpoint after successful completion\n",
    "if os.path.exists(checkpoint_path):\n",
    "    os.remove(checkpoint_path)\n",
    "\n",
    "logging.info(\"✅ Full dataset emotion scores saved as 'full_dataset_emotion_scores.csv'.\")\n",
    "print(\"✅ Emotion classification complete! Results saved.\")"
   ]
  },
  {
   "cell_type": "code",
   "execution_count": 91,
   "metadata": {},
   "outputs": [],
   "source": [
    "emotion_columns = [\"joy\", \"calm\", \"sadness\", \"fear\", \"energizing\", \"dreamy\"]\n",
    "\n",
    "# Apply Min-Max Scaling\n",
    "scaler = MinMaxScaler()\n",
    "output_df[emotion_columns] = scaler.fit_transform(output_df[emotion_columns])\n",
    "\n",
    "# Save the normalized results\n",
    "output_df.to_csv(\"normalized_emotion_scores.csv\", index=False)"
   ]
  }
 ],
 "metadata": {
  "kernelspec": {
   "display_name": "myenv",
   "language": "python",
   "name": "python3"
  },
  "language_info": {
   "codemirror_mode": {
    "name": "ipython",
    "version": 3
   },
   "file_extension": ".py",
   "mimetype": "text/x-python",
   "name": "python",
   "nbconvert_exporter": "python",
   "pygments_lexer": "ipython3",
   "version": "3.10.15"
  }
 },
 "nbformat": 4,
 "nbformat_minor": 2
}
