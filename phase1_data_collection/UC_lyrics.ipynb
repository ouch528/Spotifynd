{
 "cells": [
  {
   "cell_type": "code",
   "execution_count": null,
   "metadata": {},
   "outputs": [],
   "source": [
    "import os\n",
    "from dotenv import load_dotenv\n",
    "import lyricsgenius\n",
    "import re\n",
    "import pandas as pd\n",
    "import asyncio\n",
    "import time\n",
    "import aiohttp\n",
    "import nest_asyncio"
   ]
  },
  {
   "cell_type": "code",
   "execution_count": null,
   "metadata": {},
   "outputs": [],
   "source": [
    "dotenv_path = \"../.env\"  \n",
    "load_dotenv(dotenv_path=dotenv_path)\n",
    "\n",
    "token = os.getenv(\"GENIUS_CLIENT_ACCESS\")\n",
    "genius = lyricsgenius.Genius(token)\n",
    "genius.verbose = False \n",
    "genius.remove_section_headers = True\n",
    "genius.timeout=10"
   ]
  },
  {
   "cell_type": "markdown",
   "metadata": {},
   "source": [
    "# Using Normal Method"
   ]
  },
  {
   "cell_type": "code",
   "execution_count": null,
   "metadata": {},
   "outputs": [],
   "source": [
    "# def getLyrics(artist, song):\n",
    "#     start_time = time.time()\n",
    "#     time.sleep(1)  \n",
    "#     try:\n",
    "#         result = genius.search_song(song, artist)\n",
    "#         if result:\n",
    "#             # Extract lyrics after the word 'Lyrics' (if present)\n",
    "#             lyrics = result.lyrics\n",
    "#             lyrics_start = lyrics.lower().find(\"lyrics\")\n",
    "#             if lyrics_start != -1:\n",
    "#                 lyrics = lyrics[lyrics_start + len(\"Lyrics\"):].strip()\n",
    "            \n",
    "#             # Print the time taken for the request\n",
    "#             elapsed_time = time.time() - start_time\n",
    "#             print(f\"Time taken for '{song}' by {artist}: {elapsed_time:.2f} seconds\")\n",
    "            \n",
    "#             return lyrics\n",
    "#         else:\n",
    "#             print(f\"Lyrics not found for {song} by {artist}\")\n",
    "#             return \"Lyrics not found\"\n",
    "#     except Exception as e:\n",
    "#         print(f\"Error fetching lyrics for {song} by {artist}: {e}\")\n",
    "#         return f\"Error: {e}\""
   ]
  },
  {
   "cell_type": "code",
   "execution_count": null,
   "metadata": {},
   "outputs": [],
   "source": [
    "# file_path = \"../spotify_tracks_50.csv\"  \n",
    "# df = pd.read_csv(file_path)\n",
    "\n",
    "# # Ensure column names match your CSV\n",
    "# if \"artist_name\" not in df.columns or \"track_name\" not in df.columns:\n",
    "#     raise ValueError(\"CSV must have 'artist' and 'song' columns!\")\n",
    "\n",
    "# # Fetch lyrics for each row\n",
    "# df[\"lyrics\"] = df.apply(lambda row: getLyrics(row[\"artist_name\"], row[\"track_name\"]), axis=1)\n",
    "# print(df.head(5))\n",
    "# df.to_csv(\"spotify_tracks_50_with_lyrics.csv\", index=False)"
   ]
  },
  {
   "cell_type": "markdown",
   "metadata": {},
   "source": [
    "# Using Async (Not working well currently)"
   ]
  },
  {
   "cell_type": "code",
   "execution_count": null,
   "metadata": {},
   "outputs": [],
   "source": [
    "file_path = \"../spotify_tracks_50.csv\"  \n",
    "df = pd.read_csv(file_path)\n",
    "\n",
    "nest_asyncio.apply()\n",
    "\n",
    "# Function to fetch lyrics asynchronously\n",
    "async def fetch_lyrics(artist, song):\n",
    "    loop = asyncio.get_running_loop()\n",
    "    await asyncio.sleep(2)  # Add delay to avoid rate limit\n",
    "\n",
    "    try:\n",
    "        result = await loop.run_in_executor(None, genius.search_song, song, artist)\n",
    "        if result:\n",
    "            lyrics = result.lyrics\n",
    "            lyrics_start = lyrics.lower().find(\"lyrics\")\n",
    "            if lyrics_start != -1:\n",
    "                lyrics = lyrics[lyrics_start + len(\"lyrics\"):].strip()\n",
    "            return lyrics\n",
    "        else:\n",
    "            return \"Lyrics not found\"\n",
    "    except Exception as e:\n",
    "        print(f\"Error fetching lyrics for {song} by {artist}: {e}\")\n",
    "        return \"Error fetching lyrics\"\n",
    "    \n",
    "# Function to process the dataset asynchronously\n",
    "async def process_dataset(df):\n",
    "    start_time = time.time()\n",
    "    tasks = [fetch_lyrics(row[\"artist_name\"], row[\"track_name\"]) for _, row in df.iterrows()]\n",
    "    lyrics_results = await asyncio.gather(*tasks)\n",
    "    elapsed_time = time.time() - start_time\n",
    "    print(f\"Time taken for {len(df)} songs: {elapsed_time:.2f} seconds\")\n",
    "\n",
    "    df[\"lyrics\"] = lyrics_results\n",
    "    return df\n",
    "\n",
    "# If running in Jupyter, use 'await' instead of 'asyncio.run()'\n",
    "loop = asyncio.get_event_loop()\n",
    "updated_df = await process_dataset(df)"
   ]
  }
 ],
 "metadata": {
  "kernelspec": {
   "display_name": "Python 3",
   "language": "python",
   "name": "python3"
  },
  "language_info": {
   "codemirror_mode": {
    "name": "ipython",
    "version": 3
   },
   "file_extension": ".py",
   "mimetype": "text/x-python",
   "name": "python",
   "nbconvert_exporter": "python",
   "pygments_lexer": "ipython3",
   "version": "3.10.11"
  }
 },
 "nbformat": 4,
 "nbformat_minor": 2
}
