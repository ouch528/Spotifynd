{
 "cells": [
  {
   "cell_type": "code",
   "execution_count": null,
   "metadata": {},
   "outputs": [],
   "source": [
    "import pandas as pd\n",
    "import os"
   ]
  },
  {
   "cell_type": "markdown",
   "metadata": {},
   "source": [
    "# Merge Tracks Dataset"
   ]
  },
  {
   "cell_type": "code",
   "execution_count": null,
   "metadata": {},
   "outputs": [],
   "source": [
    "df1 = pd.read_csv(\"tracks.csv\")\n",
    "df2 = pd.read_parquet(\"audio_features_for_all_songs.parquet\", columns=['track_uri', 'danceability', 'energy', 'key', 'loudness', 'mode', 'speechiness', 'acousticness', 'instrumentalness', 'liveness', 'valence', 'tempo', 'time_signature'])\n",
    "\n",
    "merged_df = pd.merge(df1, df2, on='track_uri', how='inner') \n",
    "\n",
    "df3 = pd.read_parquet(\"all_songs_with_or_without_lyrics.parquet\", columns=['track_uri', 'lyrics'])\n",
    "merged_df = pd.merge(merged_df, df3, on='track_uri', how='inner') \n",
    "col_to_front = 'track_idx'\n",
    "merged_df = merged_df[[col_to_front] + [col for col in merged_df.columns if col != col_to_front]]"
   ]
  },
  {
   "cell_type": "markdown",
   "metadata": {},
   "source": [
    "# Merge Playlist Dataset"
   ]
  },
  {
   "cell_type": "code",
   "execution_count": 7,
   "metadata": {},
   "outputs": [],
   "source": [
    "col_to_front = 'playlist_idx'\n",
    "playlist_df = pd.read_csv(\"playlists.csv\")\n",
    "playlist_df = playlist_df[[col_to_front] + [col for col in playlist_df.columns if col != col_to_front]]"
   ]
  }
 ],
 "metadata": {
  "kernelspec": {
   "display_name": "Python 3",
   "language": "python",
   "name": "python3"
  },
  "language_info": {
   "codemirror_mode": {
    "name": "ipython",
    "version": 3
   },
   "file_extension": ".py",
   "mimetype": "text/x-python",
   "name": "python",
   "nbconvert_exporter": "python",
   "pygments_lexer": "ipython3",
   "version": "3.10.11"
  }
 },
 "nbformat": 4,
 "nbformat_minor": 2
}
