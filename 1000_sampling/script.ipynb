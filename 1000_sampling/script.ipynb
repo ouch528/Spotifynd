{
 "cells": [
  {
   "cell_type": "code",
   "execution_count": 2,
   "metadata": {},
   "outputs": [],
   "source": [
    "import pandas as pd\n",
    "import ast"
   ]
  },
  {
   "cell_type": "markdown",
   "metadata": {},
   "source": [
    "# Load Datasets"
   ]
  },
  {
   "cell_type": "code",
   "execution_count": 7,
   "metadata": {},
   "outputs": [],
   "source": [
    "playlist = pd.read_parquet(\"../phase2_data_cleaning/cleaned dataset/playlist_cleaned.parquet\", columns=[\"playlist_idx\", \"tracks\"])\n",
    "track = pd.read_parquet(\"../phase2_data_cleaning/cleaned dataset/track_cleaned.parquet\", columns=[\"track_idx\", \"track_uri\"])"
   ]
  },
  {
   "cell_type": "markdown",
   "metadata": {},
   "source": [
    "# Select the first 1000 playlists"
   ]
  },
  {
   "cell_type": "code",
   "execution_count": 8,
   "metadata": {},
   "outputs": [],
   "source": [
    "playlist_selected = playlist.head(1000)"
   ]
  },
  {
   "cell_type": "markdown",
   "metadata": {},
   "source": [
    "# Select the unique tracks in the 1000 playlists"
   ]
  },
  {
   "cell_type": "code",
   "execution_count": 9,
   "metadata": {},
   "outputs": [
    {
     "name": "stdout",
     "output_type": "stream",
     "text": [
      "       track_idx\n",
      "0              1\n",
      "1              5\n",
      "2             15\n",
      "3             36\n",
      "4             38\n",
      "...          ...\n",
      "37437     252207\n",
      "37438     252209\n",
      "37439     252210\n",
      "37440     252213\n",
      "37441     252216\n",
      "\n",
      "[37442 rows x 1 columns]\n"
     ]
    }
   ],
   "source": [
    "# Extract unique values from the 'tracks' column\n",
    "unique_values = set()\n",
    "\n",
    "# Iterate over the rows in the 'tracks' column\n",
    "for track_str in playlist_selected[\"tracks\"]:\n",
    "    # Convert the string representation to a dictionary\n",
    "    track_dict = ast.literal_eval(track_str)\n",
    "    \n",
    "    if isinstance(track_dict, dict):  # Ensure it's a dictionary\n",
    "        # Add integer values to the set\n",
    "        unique_values.update(int(value) for value in track_dict.values())\n",
    "\n",
    "# Convert to DataFrame with 'track_idx' as integers\n",
    "unique_df = pd.DataFrame(unique_values, columns=[\"track_idx\"])\n",
    "unique_df = unique_df.sort_values(by=\"track_idx\", ascending=True).reset_index(drop=True)\n",
    "\n",
    "# Display the DataFrame\n",
    "print(unique_df)"
   ]
  },
  {
   "cell_type": "markdown",
   "metadata": {},
   "source": [
    "# Merge with the `track_uri` in the Track dataset"
   ]
  },
  {
   "cell_type": "code",
   "execution_count": 10,
   "metadata": {},
   "outputs": [
    {
     "name": "stdout",
     "output_type": "stream",
     "text": [
      "        track_idx                             track_uri\n",
      "1               1  spotify:track:000GjfnQc7ggBayDiy1sLW\n",
      "5               5  spotify:track:000xQL6tZNLJzIrtIgxqSl\n",
      "15             15  spotify:track:002opcRBgYV5jqoh72QcqA\n",
      "36             36  spotify:track:005X0FmdtkM1kiutosXLTR\n",
      "38             38  spotify:track:005drRcJJFgFHgtxSJJO0v\n",
      "...           ...                                   ...\n",
      "252207     252207  spotify:track:7zwtlwZslYsynnoDxH7lOR\n",
      "252209     252209  spotify:track:7zx34MQjW5Svvltow5EzsR\n",
      "252210     252210  spotify:track:7zx5GJLsFcKpXfvFAIioqI\n",
      "252213     252213  spotify:track:7zxRMhXxJMQCeDDg0rKAVo\n",
      "252216     252216  spotify:track:7zxhhMt0j1JV7OuFpQ2Boe\n",
      "\n",
      "[37442 rows x 2 columns]\n"
     ]
    }
   ],
   "source": [
    "# Extract the unique 'track_idx' from the unique_df\n",
    "unique_track_idx = unique_df['track_idx']\n",
    "\n",
    "# Filter the 'track' DataFrame based on whether 'track_idx' is in the unique values\n",
    "filtered_track = track[track['track_idx'].isin(unique_track_idx)]\n",
    "\n",
    "# Display the filtered DataFrame\n",
    "print(filtered_track)"
   ]
  },
  {
   "cell_type": "markdown",
   "metadata": {},
   "source": [
    "# Save files"
   ]
  },
  {
   "cell_type": "code",
   "execution_count": 11,
   "metadata": {},
   "outputs": [],
   "source": [
    "playlist_selected = playlist_selected.drop(columns=['tracks'])\n",
    "playlist_selected.to_parquet(\"datasets/1000_playlist.parquet\", index=False)\n",
    "filtered_track.to_parquet(\"datasets/1000_track.parquet\", index=False)"
   ]
  }
 ],
 "metadata": {
  "kernelspec": {
   "display_name": "myenv",
   "language": "python",
   "name": "python3"
  },
  "language_info": {
   "codemirror_mode": {
    "name": "ipython",
    "version": 3
   },
   "file_extension": ".py",
   "mimetype": "text/x-python",
   "name": "python",
   "nbconvert_exporter": "python",
   "pygments_lexer": "ipython3",
   "version": "3.10.15"
  }
 },
 "nbformat": 4,
 "nbformat_minor": 2
}
