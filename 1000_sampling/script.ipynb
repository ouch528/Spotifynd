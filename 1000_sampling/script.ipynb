{
 "cells": [
  {
   "cell_type": "code",
   "execution_count": 36,
   "metadata": {},
   "outputs": [],
   "source": [
    "import pandas as pd\n",
    "import numpy as np\n",
    "import ast"
   ]
  },
  {
   "cell_type": "markdown",
   "metadata": {},
   "source": [
    "# Load Datasets"
   ]
  },
  {
   "cell_type": "code",
   "execution_count": 65,
   "metadata": {},
   "outputs": [],
   "source": [
    "playlist = pd.read_parquet(\"../phase2_data_cleaning/cleaned dataset/playlist_cleaned.parquet\", columns=[\"playlist_idx\", \"tracks\"])\n",
    "track = pd.read_parquet(\"../phase2_data_cleaning/cleaned dataset/track_cleaned.parquet\", columns=[\"track_idx\", \"track_uri\"])"
   ]
  },
  {
   "cell_type": "markdown",
   "metadata": {},
   "source": [
    "# Select the first 1000 playlists"
   ]
  },
  {
   "cell_type": "code",
   "execution_count": 66,
   "metadata": {},
   "outputs": [],
   "source": [
    "playlist_selected = playlist.head(1000)"
   ]
  },
  {
   "cell_type": "markdown",
   "metadata": {},
   "source": [
    "# Select the unique tracks in the 1000 playlists"
   ]
  },
  {
   "cell_type": "code",
   "execution_count": 67,
   "metadata": {},
   "outputs": [
    {
     "name": "stdout",
     "output_type": "stream",
     "text": [
      "       track_idx\n",
      "0              1\n",
      "1              5\n",
      "2             15\n",
      "3             36\n",
      "4             38\n",
      "...          ...\n",
      "37437     252207\n",
      "37438     252209\n",
      "37439     252210\n",
      "37440     252213\n",
      "37441     252216\n",
      "\n",
      "[37442 rows x 1 columns]\n"
     ]
    }
   ],
   "source": [
    "# Extract unique values from the 'tracks' column\n",
    "unique_values = set()\n",
    "\n",
    "# Iterate over the rows in the 'tracks' column\n",
    "for track_str in playlist_selected[\"tracks\"]:\n",
    "    # Convert the string representation to a dictionary\n",
    "    track_dict = ast.literal_eval(track_str)\n",
    "    \n",
    "    if isinstance(track_dict, dict):  # Ensure it's a dictionary\n",
    "        # Add integer values to the set\n",
    "        unique_values.update(int(value) for value in track_dict.values())\n",
    "\n",
    "# Convert to DataFrame with 'track_idx' as integers\n",
    "unique_df = pd.DataFrame(unique_values, columns=[\"track_idx\"])\n",
    "unique_df = unique_df.sort_values(by=\"track_idx\", ascending=True).reset_index(drop=True)\n",
    "\n",
    "# Display the DataFrame\n",
    "print(unique_df)"
   ]
  },
  {
   "cell_type": "markdown",
   "metadata": {},
   "source": [
    "# Merge with the `track_uri` in the Track dataset"
   ]
  },
  {
   "cell_type": "code",
   "execution_count": 68,
   "metadata": {},
   "outputs": [
    {
     "name": "stdout",
     "output_type": "stream",
     "text": [
      "        track_idx                             track_uri\n",
      "1               1  spotify:track:000GjfnQc7ggBayDiy1sLW\n",
      "5               5  spotify:track:000xQL6tZNLJzIrtIgxqSl\n",
      "15             15  spotify:track:002opcRBgYV5jqoh72QcqA\n",
      "36             36  spotify:track:005X0FmdtkM1kiutosXLTR\n",
      "38             38  spotify:track:005drRcJJFgFHgtxSJJO0v\n",
      "...           ...                                   ...\n",
      "252207     252207  spotify:track:7zwtlwZslYsynnoDxH7lOR\n",
      "252209     252209  spotify:track:7zx34MQjW5Svvltow5EzsR\n",
      "252210     252210  spotify:track:7zx5GJLsFcKpXfvFAIioqI\n",
      "252213     252213  spotify:track:7zxRMhXxJMQCeDDg0rKAVo\n",
      "252216     252216  spotify:track:7zxhhMt0j1JV7OuFpQ2Boe\n",
      "\n",
      "[37442 rows x 2 columns]\n"
     ]
    }
   ],
   "source": [
    "# Extract the unique 'track_idx' from the unique_df\n",
    "unique_track_idx = unique_df['track_idx']\n",
    "\n",
    "# Filter the 'track' DataFrame based on whether 'track_idx' is in the unique values\n",
    "filtered_track = track[track['track_idx'].isin(unique_track_idx)]\n",
    "\n",
    "# Display the filtered DataFrame\n",
    "print(filtered_track)"
   ]
  },
  {
   "cell_type": "markdown",
   "metadata": {},
   "source": [
    "# Save files"
   ]
  },
  {
   "cell_type": "code",
   "execution_count": 69,
   "metadata": {},
   "outputs": [],
   "source": [
    "playlist_selected = playlist_selected.drop(columns=['tracks'])\n",
    "playlist_selected.to_parquet(\"datasets/1000_playlist_idx_only.parquet\", index=False)\n",
    "filtered_track.to_parquet(\"datasets/1000_track_idx_only.parquet\", index=False)"
   ]
  },
  {
   "cell_type": "markdown",
   "metadata": {},
   "source": [
    "# Create Track Table using Sample"
   ]
  },
  {
   "cell_type": "markdown",
   "metadata": {},
   "source": [
    "### Load Relevant Datasets"
   ]
  },
  {
   "cell_type": "code",
   "execution_count": 70,
   "metadata": {},
   "outputs": [],
   "source": [
    "pop_era_duration_artist_idx = pd.read_parquet(\"../phase2_data_cleaning/cleaned dataset/track_cleaned.parquet\", columns=[\"track_idx\",\"artist_idx\", \"era\", \"category\"])\n",
    "sentiment = pd.read_parquet(\"../phase3_feature_engineering/scores/sentiment_scores_1000_subsample.parquet\")\n",
    "genre = pd.read_parquet(\"../phase3_feature_engineering/scores/genre_scores.parquet\")"
   ]
  },
  {
   "cell_type": "markdown",
   "metadata": {},
   "source": [
    "### Merge `Popularity`, `Era`, `Duration` first"
   ]
  },
  {
   "cell_type": "code",
   "execution_count": 71,
   "metadata": {},
   "outputs": [
    {
     "data": {
      "application/vnd.microsoft.datawrangler.viewer.v0+json": {
       "columns": [
        {
         "name": "index",
         "rawType": "int64",
         "type": "integer"
        },
        {
         "name": "track_idx",
         "rawType": "int64",
         "type": "integer"
        },
        {
         "name": "track_uri",
         "rawType": "object",
         "type": "string"
        },
        {
         "name": "artist_idx",
         "rawType": "int64",
         "type": "integer"
        },
        {
         "name": "era",
         "rawType": "object",
         "type": "string"
        },
        {
         "name": "category",
         "rawType": "object",
         "type": "string"
        }
       ],
       "conversionMethod": "pd.DataFrame",
       "ref": "062fe791-3609-4e8d-b95d-16e9caf06461",
       "rows": [
        [
         "0",
         "1",
         "spotify:track:000GjfnQc7ggBayDiy1sLW",
         "26382",
         "2000s",
         "Short"
        ],
        [
         "1",
         "5",
         "spotify:track:000xQL6tZNLJzIrtIgxqSl",
         "38821",
         "Modern Era",
         "Medium"
        ],
        [
         "2",
         "15",
         "spotify:track:002opcRBgYV5jqoh72QcqA",
         "19124",
         "Modern Era",
         "Medium"
        ],
        [
         "3",
         "36",
         "spotify:track:005X0FmdtkM1kiutosXLTR",
         "35662",
         "Classic Era",
         "Short"
        ],
        [
         "4",
         "38",
         "spotify:track:005drRcJJFgFHgtxSJJO0v",
         "43820",
         "Modern Era",
         "Long"
        ]
       ],
       "shape": {
        "columns": 5,
        "rows": 5
       }
      },
      "text/html": [
       "<div>\n",
       "<style scoped>\n",
       "    .dataframe tbody tr th:only-of-type {\n",
       "        vertical-align: middle;\n",
       "    }\n",
       "\n",
       "    .dataframe tbody tr th {\n",
       "        vertical-align: top;\n",
       "    }\n",
       "\n",
       "    .dataframe thead th {\n",
       "        text-align: right;\n",
       "    }\n",
       "</style>\n",
       "<table border=\"1\" class=\"dataframe\">\n",
       "  <thead>\n",
       "    <tr style=\"text-align: right;\">\n",
       "      <th></th>\n",
       "      <th>track_idx</th>\n",
       "      <th>track_uri</th>\n",
       "      <th>artist_idx</th>\n",
       "      <th>era</th>\n",
       "      <th>category</th>\n",
       "    </tr>\n",
       "  </thead>\n",
       "  <tbody>\n",
       "    <tr>\n",
       "      <th>0</th>\n",
       "      <td>1</td>\n",
       "      <td>spotify:track:000GjfnQc7ggBayDiy1sLW</td>\n",
       "      <td>26382</td>\n",
       "      <td>2000s</td>\n",
       "      <td>Short</td>\n",
       "    </tr>\n",
       "    <tr>\n",
       "      <th>1</th>\n",
       "      <td>5</td>\n",
       "      <td>spotify:track:000xQL6tZNLJzIrtIgxqSl</td>\n",
       "      <td>38821</td>\n",
       "      <td>Modern Era</td>\n",
       "      <td>Medium</td>\n",
       "    </tr>\n",
       "    <tr>\n",
       "      <th>2</th>\n",
       "      <td>15</td>\n",
       "      <td>spotify:track:002opcRBgYV5jqoh72QcqA</td>\n",
       "      <td>19124</td>\n",
       "      <td>Modern Era</td>\n",
       "      <td>Medium</td>\n",
       "    </tr>\n",
       "    <tr>\n",
       "      <th>3</th>\n",
       "      <td>36</td>\n",
       "      <td>spotify:track:005X0FmdtkM1kiutosXLTR</td>\n",
       "      <td>35662</td>\n",
       "      <td>Classic Era</td>\n",
       "      <td>Short</td>\n",
       "    </tr>\n",
       "    <tr>\n",
       "      <th>4</th>\n",
       "      <td>38</td>\n",
       "      <td>spotify:track:005drRcJJFgFHgtxSJJO0v</td>\n",
       "      <td>43820</td>\n",
       "      <td>Modern Era</td>\n",
       "      <td>Long</td>\n",
       "    </tr>\n",
       "  </tbody>\n",
       "</table>\n",
       "</div>"
      ],
      "text/plain": [
       "   track_idx                             track_uri  artist_idx          era  \\\n",
       "0          1  spotify:track:000GjfnQc7ggBayDiy1sLW       26382        2000s   \n",
       "1          5  spotify:track:000xQL6tZNLJzIrtIgxqSl       38821   Modern Era   \n",
       "2         15  spotify:track:002opcRBgYV5jqoh72QcqA       19124   Modern Era   \n",
       "3         36  spotify:track:005X0FmdtkM1kiutosXLTR       35662  Classic Era   \n",
       "4         38  spotify:track:005drRcJJFgFHgtxSJJO0v       43820   Modern Era   \n",
       "\n",
       "  category  \n",
       "0    Short  \n",
       "1   Medium  \n",
       "2   Medium  \n",
       "3    Short  \n",
       "4     Long  "
      ]
     },
     "execution_count": 71,
     "metadata": {},
     "output_type": "execute_result"
    }
   ],
   "source": [
    "# Perform the merge on 'track_idx'\n",
    "track_final = pd.merge(filtered_track, pop_era_duration_artist_idx, on='track_idx', how='inner')\n",
    "\n",
    "# Display the merged DataFrame\n",
    "track_final.head()"
   ]
  },
  {
   "cell_type": "markdown",
   "metadata": {},
   "source": [
    "### Merge Sentiment Scores"
   ]
  },
  {
   "cell_type": "code",
   "execution_count": 72,
   "metadata": {},
   "outputs": [
    {
     "data": {
      "application/vnd.microsoft.datawrangler.viewer.v0+json": {
       "columns": [
        {
         "name": "index",
         "rawType": "int64",
         "type": "integer"
        },
        {
         "name": "track_idx",
         "rawType": "int64",
         "type": "integer"
        },
        {
         "name": "track_uri",
         "rawType": "object",
         "type": "string"
        },
        {
         "name": "artist_idx",
         "rawType": "int64",
         "type": "integer"
        },
        {
         "name": "era",
         "rawType": "object",
         "type": "string"
        },
        {
         "name": "category",
         "rawType": "object",
         "type": "string"
        },
        {
         "name": "joy",
         "rawType": "float64",
         "type": "float"
        },
        {
         "name": "calm",
         "rawType": "float64",
         "type": "float"
        },
        {
         "name": "sadness",
         "rawType": "float64",
         "type": "float"
        },
        {
         "name": "fear",
         "rawType": "float64",
         "type": "float"
        },
        {
         "name": "energizing",
         "rawType": "float64",
         "type": "float"
        },
        {
         "name": "dreamy",
         "rawType": "float64",
         "type": "float"
        }
       ],
       "conversionMethod": "pd.DataFrame",
       "ref": "df0b53eb-debc-4c0f-a0cd-88a4ef4d24cc",
       "rows": [
        [
         "0",
         "1",
         "spotify:track:000GjfnQc7ggBayDiy1sLW",
         "26382",
         "2000s",
         "Short",
         null,
         null,
         null,
         null,
         null,
         null
        ],
        [
         "1",
         "5",
         "spotify:track:000xQL6tZNLJzIrtIgxqSl",
         "38821",
         "Modern Era",
         "Medium",
         "0.1521130156596506",
         "0.1554185922848181",
         "0.1069748387126222",
         "0.2017603177332027",
         "0.1969683432978431",
         "0.1867648923118632"
        ],
        [
         "2",
         "15",
         "spotify:track:002opcRBgYV5jqoh72QcqA",
         "19124",
         "Modern Era",
         "Medium",
         "0.1622645629969697",
         "0.0301183106843771",
         "0.0021505599247816",
         "0.0086681682708995",
         "0.4293118781225806",
         "0.3674865200003911"
        ],
        [
         "3",
         "36",
         "spotify:track:005X0FmdtkM1kiutosXLTR",
         "35662",
         "Classic Era",
         "Short",
         "0.2935499355290792",
         "0.1153695604791841",
         "0.0011145829114113",
         "0.0026804627248875",
         "0.2952202920529593",
         "0.2920651663024783"
        ],
        [
         "4",
         "38",
         "spotify:track:005drRcJJFgFHgtxSJJO0v",
         "43820",
         "Modern Era",
         "Long",
         "0.0053094373090576",
         "0.0185781887993989",
         "0.3061130396849413",
         "0.346906616734181",
         "0.1952833042231383",
         "0.1278094132492827"
        ]
       ],
       "shape": {
        "columns": 11,
        "rows": 5
       }
      },
      "text/html": [
       "<div>\n",
       "<style scoped>\n",
       "    .dataframe tbody tr th:only-of-type {\n",
       "        vertical-align: middle;\n",
       "    }\n",
       "\n",
       "    .dataframe tbody tr th {\n",
       "        vertical-align: top;\n",
       "    }\n",
       "\n",
       "    .dataframe thead th {\n",
       "        text-align: right;\n",
       "    }\n",
       "</style>\n",
       "<table border=\"1\" class=\"dataframe\">\n",
       "  <thead>\n",
       "    <tr style=\"text-align: right;\">\n",
       "      <th></th>\n",
       "      <th>track_idx</th>\n",
       "      <th>track_uri</th>\n",
       "      <th>artist_idx</th>\n",
       "      <th>era</th>\n",
       "      <th>category</th>\n",
       "      <th>joy</th>\n",
       "      <th>calm</th>\n",
       "      <th>sadness</th>\n",
       "      <th>fear</th>\n",
       "      <th>energizing</th>\n",
       "      <th>dreamy</th>\n",
       "    </tr>\n",
       "  </thead>\n",
       "  <tbody>\n",
       "    <tr>\n",
       "      <th>0</th>\n",
       "      <td>1</td>\n",
       "      <td>spotify:track:000GjfnQc7ggBayDiy1sLW</td>\n",
       "      <td>26382</td>\n",
       "      <td>2000s</td>\n",
       "      <td>Short</td>\n",
       "      <td>NaN</td>\n",
       "      <td>NaN</td>\n",
       "      <td>NaN</td>\n",
       "      <td>NaN</td>\n",
       "      <td>NaN</td>\n",
       "      <td>NaN</td>\n",
       "    </tr>\n",
       "    <tr>\n",
       "      <th>1</th>\n",
       "      <td>5</td>\n",
       "      <td>spotify:track:000xQL6tZNLJzIrtIgxqSl</td>\n",
       "      <td>38821</td>\n",
       "      <td>Modern Era</td>\n",
       "      <td>Medium</td>\n",
       "      <td>0.152113</td>\n",
       "      <td>0.155419</td>\n",
       "      <td>0.106975</td>\n",
       "      <td>0.201760</td>\n",
       "      <td>0.196968</td>\n",
       "      <td>0.186765</td>\n",
       "    </tr>\n",
       "    <tr>\n",
       "      <th>2</th>\n",
       "      <td>15</td>\n",
       "      <td>spotify:track:002opcRBgYV5jqoh72QcqA</td>\n",
       "      <td>19124</td>\n",
       "      <td>Modern Era</td>\n",
       "      <td>Medium</td>\n",
       "      <td>0.162265</td>\n",
       "      <td>0.030118</td>\n",
       "      <td>0.002151</td>\n",
       "      <td>0.008668</td>\n",
       "      <td>0.429312</td>\n",
       "      <td>0.367487</td>\n",
       "    </tr>\n",
       "    <tr>\n",
       "      <th>3</th>\n",
       "      <td>36</td>\n",
       "      <td>spotify:track:005X0FmdtkM1kiutosXLTR</td>\n",
       "      <td>35662</td>\n",
       "      <td>Classic Era</td>\n",
       "      <td>Short</td>\n",
       "      <td>0.293550</td>\n",
       "      <td>0.115370</td>\n",
       "      <td>0.001115</td>\n",
       "      <td>0.002680</td>\n",
       "      <td>0.295220</td>\n",
       "      <td>0.292065</td>\n",
       "    </tr>\n",
       "    <tr>\n",
       "      <th>4</th>\n",
       "      <td>38</td>\n",
       "      <td>spotify:track:005drRcJJFgFHgtxSJJO0v</td>\n",
       "      <td>43820</td>\n",
       "      <td>Modern Era</td>\n",
       "      <td>Long</td>\n",
       "      <td>0.005309</td>\n",
       "      <td>0.018578</td>\n",
       "      <td>0.306113</td>\n",
       "      <td>0.346907</td>\n",
       "      <td>0.195283</td>\n",
       "      <td>0.127809</td>\n",
       "    </tr>\n",
       "  </tbody>\n",
       "</table>\n",
       "</div>"
      ],
      "text/plain": [
       "   track_idx                             track_uri  artist_idx          era  \\\n",
       "0          1  spotify:track:000GjfnQc7ggBayDiy1sLW       26382        2000s   \n",
       "1          5  spotify:track:000xQL6tZNLJzIrtIgxqSl       38821   Modern Era   \n",
       "2         15  spotify:track:002opcRBgYV5jqoh72QcqA       19124   Modern Era   \n",
       "3         36  spotify:track:005X0FmdtkM1kiutosXLTR       35662  Classic Era   \n",
       "4         38  spotify:track:005drRcJJFgFHgtxSJJO0v       43820   Modern Era   \n",
       "\n",
       "  category       joy      calm   sadness      fear  energizing    dreamy  \n",
       "0    Short       NaN       NaN       NaN       NaN         NaN       NaN  \n",
       "1   Medium  0.152113  0.155419  0.106975  0.201760    0.196968  0.186765  \n",
       "2   Medium  0.162265  0.030118  0.002151  0.008668    0.429312  0.367487  \n",
       "3    Short  0.293550  0.115370  0.001115  0.002680    0.295220  0.292065  \n",
       "4     Long  0.005309  0.018578  0.306113  0.346907    0.195283  0.127809  "
      ]
     },
     "execution_count": 72,
     "metadata": {},
     "output_type": "execute_result"
    }
   ],
   "source": [
    "track_final = pd.merge(track_final, sentiment, on='track_idx', how='left')\n",
    "track_final.head()"
   ]
  },
  {
   "cell_type": "markdown",
   "metadata": {},
   "source": [
    "### Merge Genre Scores"
   ]
  },
  {
   "cell_type": "code",
   "execution_count": 73,
   "metadata": {},
   "outputs": [
    {
     "data": {
      "application/vnd.microsoft.datawrangler.viewer.v0+json": {
       "columns": [
        {
         "name": "index",
         "rawType": "int64",
         "type": "integer"
        },
        {
         "name": "track_idx",
         "rawType": "int64",
         "type": "integer"
        },
        {
         "name": "track_uri",
         "rawType": "object",
         "type": "string"
        },
        {
         "name": "artist_idx",
         "rawType": "int64",
         "type": "integer"
        },
        {
         "name": "era",
         "rawType": "object",
         "type": "string"
        },
        {
         "name": "category",
         "rawType": "object",
         "type": "string"
        },
        {
         "name": "joy",
         "rawType": "float64",
         "type": "float"
        },
        {
         "name": "calm",
         "rawType": "float64",
         "type": "float"
        },
        {
         "name": "sadness",
         "rawType": "float64",
         "type": "float"
        },
        {
         "name": "fear",
         "rawType": "float64",
         "type": "float"
        },
        {
         "name": "energizing",
         "rawType": "float64",
         "type": "float"
        },
        {
         "name": "dreamy",
         "rawType": "float64",
         "type": "float"
        },
        {
         "name": "Instrumental / Ambient Sounds",
         "rawType": "float64",
         "type": "float"
        },
        {
         "name": "Soft Acoustic / Classical",
         "rawType": "float64",
         "type": "float"
        },
        {
         "name": "Orchestral / Soundtrack",
         "rawType": "float64",
         "type": "float"
        },
        {
         "name": "Mid-tempo Pop / Indie",
         "rawType": "float64",
         "type": "float"
        },
        {
         "name": "Upbeat Electronic / Dance",
         "rawType": "float64",
         "type": "float"
        },
        {
         "name": "Slow & Melancholic (Sad Songs)",
         "rawType": "float64",
         "type": "float"
        },
        {
         "name": "Experimental / Jazz Fusion",
         "rawType": "float64",
         "type": "float"
        },
        {
         "name": "Lo-Fi / Chill Vibes",
         "rawType": "float64",
         "type": "float"
        }
       ],
       "conversionMethod": "pd.DataFrame",
       "ref": "3eabbe84-9bf2-4c59-901d-3364b4f18827",
       "rows": [
        [
         "0",
         "1",
         "spotify:track:000GjfnQc7ggBayDiy1sLW",
         "26382",
         "2000s",
         "Short",
         null,
         null,
         null,
         null,
         null,
         null,
         "0.683466919508479",
         "0.0055966669166913",
         "0.2208513422776295",
         "0.0189377150660127",
         "0.0006123574252409",
         "0.0622928740725622",
         "0.0069243354829521",
         "0.001317789250432"
        ],
        [
         "1",
         "5",
         "spotify:track:000xQL6tZNLJzIrtIgxqSl",
         "38821",
         "Modern Era",
         "Medium",
         "0.1521130156596506",
         "0.1554185922848181",
         "0.1069748387126222",
         "0.2017603177332027",
         "0.1969683432978431",
         "0.1867648923118632",
         "0.0124069444096118",
         "0.9125389060223706",
         "0.0108377079100872",
         "0.0008778312827314",
         "0.0472469241909475",
         "0.004436085497481",
         "0.0029150603997423",
         "0.008740540287028"
        ],
        [
         "2",
         "15",
         "spotify:track:002opcRBgYV5jqoh72QcqA",
         "19124",
         "Modern Era",
         "Medium",
         "0.1622645629969697",
         "0.0301183106843771",
         "0.0021505599247816",
         "0.0086681682708995",
         "0.4293118781225806",
         "0.3674865200003911",
         "0.2254270759489954",
         "0.0174634140506237",
         "0.5791030152675418",
         "0.0102671090978035",
         "0.0020239162134327",
         "0.150952818795722",
         "0.0129926925914994",
         "0.0017699580343811"
        ],
        [
         "3",
         "36",
         "spotify:track:005X0FmdtkM1kiutosXLTR",
         "35662",
         "Classic Era",
         "Short",
         "0.2935499355290792",
         "0.1153695604791841",
         "0.0011145829114113",
         "0.0026804627248875",
         "0.2952202920529593",
         "0.2920651663024783",
         "0.0124625907501278",
         "0.9028421539866224",
         "0.0157913471766761",
         "0.00266027778233",
         "0.0224194501251198",
         "0.0114211390129106",
         "0.0022543670264425",
         "0.0301486741397703"
        ],
        [
         "4",
         "38",
         "spotify:track:005drRcJJFgFHgtxSJJO0v",
         "43820",
         "Modern Era",
         "Long",
         "0.0053094373090576",
         "0.0185781887993989",
         "0.3061130396849413",
         "0.346906616734181",
         "0.1952833042231383",
         "0.1278094132492827",
         "0.7472822482063577",
         "0.0062137321128545",
         "0.1207696830418745",
         "0.0331361424098465",
         "0.000653525510004",
         "0.0827824954337881",
         "0.007130499877801",
         "0.0020316734074734"
        ]
       ],
       "shape": {
        "columns": 19,
        "rows": 5
       }
      },
      "text/html": [
       "<div>\n",
       "<style scoped>\n",
       "    .dataframe tbody tr th:only-of-type {\n",
       "        vertical-align: middle;\n",
       "    }\n",
       "\n",
       "    .dataframe tbody tr th {\n",
       "        vertical-align: top;\n",
       "    }\n",
       "\n",
       "    .dataframe thead th {\n",
       "        text-align: right;\n",
       "    }\n",
       "</style>\n",
       "<table border=\"1\" class=\"dataframe\">\n",
       "  <thead>\n",
       "    <tr style=\"text-align: right;\">\n",
       "      <th></th>\n",
       "      <th>track_idx</th>\n",
       "      <th>track_uri</th>\n",
       "      <th>artist_idx</th>\n",
       "      <th>era</th>\n",
       "      <th>category</th>\n",
       "      <th>joy</th>\n",
       "      <th>calm</th>\n",
       "      <th>sadness</th>\n",
       "      <th>fear</th>\n",
       "      <th>energizing</th>\n",
       "      <th>dreamy</th>\n",
       "      <th>Instrumental / Ambient Sounds</th>\n",
       "      <th>Soft Acoustic / Classical</th>\n",
       "      <th>Orchestral / Soundtrack</th>\n",
       "      <th>Mid-tempo Pop / Indie</th>\n",
       "      <th>Upbeat Electronic / Dance</th>\n",
       "      <th>Slow &amp; Melancholic (Sad Songs)</th>\n",
       "      <th>Experimental / Jazz Fusion</th>\n",
       "      <th>Lo-Fi / Chill Vibes</th>\n",
       "    </tr>\n",
       "  </thead>\n",
       "  <tbody>\n",
       "    <tr>\n",
       "      <th>0</th>\n",
       "      <td>1</td>\n",
       "      <td>spotify:track:000GjfnQc7ggBayDiy1sLW</td>\n",
       "      <td>26382</td>\n",
       "      <td>2000s</td>\n",
       "      <td>Short</td>\n",
       "      <td>NaN</td>\n",
       "      <td>NaN</td>\n",
       "      <td>NaN</td>\n",
       "      <td>NaN</td>\n",
       "      <td>NaN</td>\n",
       "      <td>NaN</td>\n",
       "      <td>0.683467</td>\n",
       "      <td>0.005597</td>\n",
       "      <td>0.220851</td>\n",
       "      <td>0.018938</td>\n",
       "      <td>0.000612</td>\n",
       "      <td>0.062293</td>\n",
       "      <td>0.006924</td>\n",
       "      <td>0.001318</td>\n",
       "    </tr>\n",
       "    <tr>\n",
       "      <th>1</th>\n",
       "      <td>5</td>\n",
       "      <td>spotify:track:000xQL6tZNLJzIrtIgxqSl</td>\n",
       "      <td>38821</td>\n",
       "      <td>Modern Era</td>\n",
       "      <td>Medium</td>\n",
       "      <td>0.152113</td>\n",
       "      <td>0.155419</td>\n",
       "      <td>0.106975</td>\n",
       "      <td>0.201760</td>\n",
       "      <td>0.196968</td>\n",
       "      <td>0.186765</td>\n",
       "      <td>0.012407</td>\n",
       "      <td>0.912539</td>\n",
       "      <td>0.010838</td>\n",
       "      <td>0.000878</td>\n",
       "      <td>0.047247</td>\n",
       "      <td>0.004436</td>\n",
       "      <td>0.002915</td>\n",
       "      <td>0.008741</td>\n",
       "    </tr>\n",
       "    <tr>\n",
       "      <th>2</th>\n",
       "      <td>15</td>\n",
       "      <td>spotify:track:002opcRBgYV5jqoh72QcqA</td>\n",
       "      <td>19124</td>\n",
       "      <td>Modern Era</td>\n",
       "      <td>Medium</td>\n",
       "      <td>0.162265</td>\n",
       "      <td>0.030118</td>\n",
       "      <td>0.002151</td>\n",
       "      <td>0.008668</td>\n",
       "      <td>0.429312</td>\n",
       "      <td>0.367487</td>\n",
       "      <td>0.225427</td>\n",
       "      <td>0.017463</td>\n",
       "      <td>0.579103</td>\n",
       "      <td>0.010267</td>\n",
       "      <td>0.002024</td>\n",
       "      <td>0.150953</td>\n",
       "      <td>0.012993</td>\n",
       "      <td>0.001770</td>\n",
       "    </tr>\n",
       "    <tr>\n",
       "      <th>3</th>\n",
       "      <td>36</td>\n",
       "      <td>spotify:track:005X0FmdtkM1kiutosXLTR</td>\n",
       "      <td>35662</td>\n",
       "      <td>Classic Era</td>\n",
       "      <td>Short</td>\n",
       "      <td>0.293550</td>\n",
       "      <td>0.115370</td>\n",
       "      <td>0.001115</td>\n",
       "      <td>0.002680</td>\n",
       "      <td>0.295220</td>\n",
       "      <td>0.292065</td>\n",
       "      <td>0.012463</td>\n",
       "      <td>0.902842</td>\n",
       "      <td>0.015791</td>\n",
       "      <td>0.002660</td>\n",
       "      <td>0.022419</td>\n",
       "      <td>0.011421</td>\n",
       "      <td>0.002254</td>\n",
       "      <td>0.030149</td>\n",
       "    </tr>\n",
       "    <tr>\n",
       "      <th>4</th>\n",
       "      <td>38</td>\n",
       "      <td>spotify:track:005drRcJJFgFHgtxSJJO0v</td>\n",
       "      <td>43820</td>\n",
       "      <td>Modern Era</td>\n",
       "      <td>Long</td>\n",
       "      <td>0.005309</td>\n",
       "      <td>0.018578</td>\n",
       "      <td>0.306113</td>\n",
       "      <td>0.346907</td>\n",
       "      <td>0.195283</td>\n",
       "      <td>0.127809</td>\n",
       "      <td>0.747282</td>\n",
       "      <td>0.006214</td>\n",
       "      <td>0.120770</td>\n",
       "      <td>0.033136</td>\n",
       "      <td>0.000654</td>\n",
       "      <td>0.082782</td>\n",
       "      <td>0.007130</td>\n",
       "      <td>0.002032</td>\n",
       "    </tr>\n",
       "  </tbody>\n",
       "</table>\n",
       "</div>"
      ],
      "text/plain": [
       "   track_idx                             track_uri  artist_idx          era  \\\n",
       "0          1  spotify:track:000GjfnQc7ggBayDiy1sLW       26382        2000s   \n",
       "1          5  spotify:track:000xQL6tZNLJzIrtIgxqSl       38821   Modern Era   \n",
       "2         15  spotify:track:002opcRBgYV5jqoh72QcqA       19124   Modern Era   \n",
       "3         36  spotify:track:005X0FmdtkM1kiutosXLTR       35662  Classic Era   \n",
       "4         38  spotify:track:005drRcJJFgFHgtxSJJO0v       43820   Modern Era   \n",
       "\n",
       "  category       joy      calm   sadness      fear  energizing    dreamy  \\\n",
       "0    Short       NaN       NaN       NaN       NaN         NaN       NaN   \n",
       "1   Medium  0.152113  0.155419  0.106975  0.201760    0.196968  0.186765   \n",
       "2   Medium  0.162265  0.030118  0.002151  0.008668    0.429312  0.367487   \n",
       "3    Short  0.293550  0.115370  0.001115  0.002680    0.295220  0.292065   \n",
       "4     Long  0.005309  0.018578  0.306113  0.346907    0.195283  0.127809   \n",
       "\n",
       "   Instrumental / Ambient Sounds  Soft Acoustic / Classical  \\\n",
       "0                       0.683467                   0.005597   \n",
       "1                       0.012407                   0.912539   \n",
       "2                       0.225427                   0.017463   \n",
       "3                       0.012463                   0.902842   \n",
       "4                       0.747282                   0.006214   \n",
       "\n",
       "   Orchestral / Soundtrack  Mid-tempo Pop / Indie  Upbeat Electronic / Dance  \\\n",
       "0                 0.220851               0.018938                   0.000612   \n",
       "1                 0.010838               0.000878                   0.047247   \n",
       "2                 0.579103               0.010267                   0.002024   \n",
       "3                 0.015791               0.002660                   0.022419   \n",
       "4                 0.120770               0.033136                   0.000654   \n",
       "\n",
       "   Slow & Melancholic (Sad Songs)  Experimental / Jazz Fusion  \\\n",
       "0                        0.062293                    0.006924   \n",
       "1                        0.004436                    0.002915   \n",
       "2                        0.150953                    0.012993   \n",
       "3                        0.011421                    0.002254   \n",
       "4                        0.082782                    0.007130   \n",
       "\n",
       "   Lo-Fi / Chill Vibes  \n",
       "0             0.001318  \n",
       "1             0.008741  \n",
       "2             0.001770  \n",
       "3             0.030149  \n",
       "4             0.002032  "
      ]
     },
     "execution_count": 73,
     "metadata": {},
     "output_type": "execute_result"
    }
   ],
   "source": [
    "track_final = pd.merge(track_final, genre, on='track_uri', how='left')\n",
    "track_final.head()"
   ]
  },
  {
   "cell_type": "markdown",
   "metadata": {},
   "source": [
    "### Save File"
   ]
  },
  {
   "cell_type": "code",
   "execution_count": 74,
   "metadata": {},
   "outputs": [],
   "source": [
    "track_final.to_parquet(\"datasets/1000_track_full.parquet\", index=False)"
   ]
  },
  {
   "cell_type": "markdown",
   "metadata": {},
   "source": [
    "# Create Playlist Table using Track Table"
   ]
  },
  {
   "cell_type": "markdown",
   "metadata": {},
   "source": [
    "### Load Relevant Datasets"
   ]
  },
  {
   "cell_type": "code",
   "execution_count": 75,
   "metadata": {},
   "outputs": [],
   "source": [
    "pop_era_artist = pd.read_parquet(\"../phase3_feature_engineering/feature engineered datasets/playlist.parquet\", \n",
    "                                 columns=[\"playlist_idx\", \"track_idx_list\", \"popularity_var\", \"artist_diversity\", \n",
    "                                              \"early_years_proportion\", \"classic_era_proportion\", \"golden_era_proportion\", \"2000s_proportion\", \"modern_era_proportion\",\n",
    "                                              \"short_proportion\", \"medium_proportion\", \"long_proportion\"])"
   ]
  },
  {
   "cell_type": "markdown",
   "metadata": {},
   "source": [
    "### Filter to only the selected 1000 playlists"
   ]
  },
  {
   "cell_type": "code",
   "execution_count": 76,
   "metadata": {},
   "outputs": [
    {
     "data": {
      "application/vnd.microsoft.datawrangler.viewer.v0+json": {
       "columns": [
        {
         "name": "index",
         "rawType": "int64",
         "type": "integer"
        },
        {
         "name": "playlist_idx",
         "rawType": "int64",
         "type": "integer"
        },
        {
         "name": "track_idx_list",
         "rawType": "object",
         "type": "unknown"
        },
        {
         "name": "popularity_var",
         "rawType": "float64",
         "type": "float"
        },
        {
         "name": "artist_diversity",
         "rawType": "float64",
         "type": "float"
        },
        {
         "name": "early_years_proportion",
         "rawType": "float64",
         "type": "float"
        },
        {
         "name": "classic_era_proportion",
         "rawType": "float64",
         "type": "float"
        },
        {
         "name": "golden_era_proportion",
         "rawType": "float64",
         "type": "float"
        },
        {
         "name": "2000s_proportion",
         "rawType": "float64",
         "type": "float"
        },
        {
         "name": "modern_era_proportion",
         "rawType": "float64",
         "type": "float"
        },
        {
         "name": "short_proportion",
         "rawType": "float64",
         "type": "float"
        },
        {
         "name": "medium_proportion",
         "rawType": "float64",
         "type": "float"
        },
        {
         "name": "long_proportion",
         "rawType": "float64",
         "type": "float"
        }
       ],
       "conversionMethod": "pd.DataFrame",
       "ref": "ad9f95ed-824e-4397-9733-325004f9fa2d",
       "rows": [
        [
         "0",
         "0",
         "['55709' '5427' '52495' '157555' '235367' '126542' '8271' '136071'\n '252057' '238388' '198939' '216470' '53902' '87793']",
         "658.67",
         "2.1280852788913944",
         "0.0",
         "0.0",
         "0.0",
         "0.0",
         "1.0",
         "0.5714285714285714",
         "0.42857142857142855",
         "0.0"
        ],
        [
         "1",
         "1",
         "['3689' '207774' '194775' '135193' '218011' '37844' '83246' '82249'\n '57996' '181596' '86424' '208248' '93035' '249785' '63352' '152463'\n '137675' '247413' '151316' '134509' '102192' '234647' '6765' '202106'\n '119775' '110461' '245858' '14182' '211346' '56156' '167186' '149136'\n '218708' '242974' '165272' '9418' '221860' '229224' '39687' '177887'\n '181016' '19451']",
         "834.42",
         "5.136248672727249",
         "0.0",
         "0.0",
         "0.0",
         "0.0",
         "1.0",
         "0.09523809523809523",
         "0.7142857142857143",
         "0.19047619047619047"
        ],
        [
         "2",
         "2",
         "['160375' '131195' '164629' '147280' '193891' '170777' '95293' '62212'\n '232308' '146199' '232845' '111887' '144160' '10663' '216321' '138869'\n '63694' '72431' '108782' '175642']",
         "300.85",
         "4.321928094887363",
         "0.0",
         "0.45",
         "0.2",
         "0.2",
         "0.15",
         "0.2",
         "0.35",
         "0.45"
        ],
        [
         "3",
         "3",
         "['104436' '229428' '25968' '186871' '81592' '15947' '251172' '13422'\n '221810' '175317' '192292' '137221' '222620' '34094' '62212' '67861'\n '36197' '149177' '208864' '159447' '250210' '238716' '176401' '172831'\n '76812' '116526' '132684' '148390' '246233' '83411' '87948' '192501'\n '91718' '149355' '30636' '186690' '2924' '42820' '130535' '225769'\n '127736' '101021' '100770' '43248' '235670' '42921' '39701' '45553'\n '29471' '117402' '189533' '237699' '42986' '156208' '73950' '54114'\n '134077' '214967' '176401' '135728' '129186' '105818']",
         "776.5",
         "5.760647923290099",
         "0.0",
         "0.20967741935483872",
         "0.46774193548387094",
         "0.2903225806451613",
         "0.03225806451612903",
         "0.24193548387096775",
         "0.5161290322580645",
         "0.24193548387096775"
        ],
        [
         "4",
         "4",
         "['244173' '210510' '9349' '224202' '147251' '35498' '21260' '159614'\n '133549' '168205' '40478' '214303' '167390' '31958' '188742' '183469'\n '54700' '9617' '45437' '124021' '42020' '39413' '164410' '245523' '92357'\n '154224' '176272' '21000' '31178' '153491' '100077' '175352' '167460'\n '64332' '2021' '248895' '165416' '64948' '175558' '251879' '232817'\n '99876' '36381' '249123' '39118' '110515' '209567' '57951' '193375'\n '225008' '127644' '228661' '53431' '173444' '169365' '115656' '106366'\n '173813' '172523' '242980' '69255' '64637' '57263' '196162' '166268'\n '22122' '211269' '71335' '21853' '190702' '111268' '166527' '165497'\n '17051']",
         "365.06",
         "5.004920556037501",
         "0.0",
         "0.0",
         "0.0",
         "0.06756756756756757",
         "0.9324324324324325",
         "0.0",
         "0.32432432432432434",
         "0.6756756756756757"
        ]
       ],
       "shape": {
        "columns": 12,
        "rows": 5
       }
      },
      "text/html": [
       "<div>\n",
       "<style scoped>\n",
       "    .dataframe tbody tr th:only-of-type {\n",
       "        vertical-align: middle;\n",
       "    }\n",
       "\n",
       "    .dataframe tbody tr th {\n",
       "        vertical-align: top;\n",
       "    }\n",
       "\n",
       "    .dataframe thead th {\n",
       "        text-align: right;\n",
       "    }\n",
       "</style>\n",
       "<table border=\"1\" class=\"dataframe\">\n",
       "  <thead>\n",
       "    <tr style=\"text-align: right;\">\n",
       "      <th></th>\n",
       "      <th>playlist_idx</th>\n",
       "      <th>track_idx_list</th>\n",
       "      <th>popularity_var</th>\n",
       "      <th>artist_diversity</th>\n",
       "      <th>early_years_proportion</th>\n",
       "      <th>classic_era_proportion</th>\n",
       "      <th>golden_era_proportion</th>\n",
       "      <th>2000s_proportion</th>\n",
       "      <th>modern_era_proportion</th>\n",
       "      <th>short_proportion</th>\n",
       "      <th>medium_proportion</th>\n",
       "      <th>long_proportion</th>\n",
       "    </tr>\n",
       "  </thead>\n",
       "  <tbody>\n",
       "    <tr>\n",
       "      <th>0</th>\n",
       "      <td>0</td>\n",
       "      <td>[55709, 5427, 52495, 157555, 235367, 126542, 8...</td>\n",
       "      <td>658.67</td>\n",
       "      <td>2.128085</td>\n",
       "      <td>0.0</td>\n",
       "      <td>0.000000</td>\n",
       "      <td>0.000000</td>\n",
       "      <td>0.000000</td>\n",
       "      <td>1.000000</td>\n",
       "      <td>0.571429</td>\n",
       "      <td>0.428571</td>\n",
       "      <td>0.000000</td>\n",
       "    </tr>\n",
       "    <tr>\n",
       "      <th>1</th>\n",
       "      <td>1</td>\n",
       "      <td>[3689, 207774, 194775, 135193, 218011, 37844, ...</td>\n",
       "      <td>834.42</td>\n",
       "      <td>5.136249</td>\n",
       "      <td>0.0</td>\n",
       "      <td>0.000000</td>\n",
       "      <td>0.000000</td>\n",
       "      <td>0.000000</td>\n",
       "      <td>1.000000</td>\n",
       "      <td>0.095238</td>\n",
       "      <td>0.714286</td>\n",
       "      <td>0.190476</td>\n",
       "    </tr>\n",
       "    <tr>\n",
       "      <th>2</th>\n",
       "      <td>2</td>\n",
       "      <td>[160375, 131195, 164629, 147280, 193891, 17077...</td>\n",
       "      <td>300.85</td>\n",
       "      <td>4.321928</td>\n",
       "      <td>0.0</td>\n",
       "      <td>0.450000</td>\n",
       "      <td>0.200000</td>\n",
       "      <td>0.200000</td>\n",
       "      <td>0.150000</td>\n",
       "      <td>0.200000</td>\n",
       "      <td>0.350000</td>\n",
       "      <td>0.450000</td>\n",
       "    </tr>\n",
       "    <tr>\n",
       "      <th>3</th>\n",
       "      <td>3</td>\n",
       "      <td>[104436, 229428, 25968, 186871, 81592, 15947, ...</td>\n",
       "      <td>776.50</td>\n",
       "      <td>5.760648</td>\n",
       "      <td>0.0</td>\n",
       "      <td>0.209677</td>\n",
       "      <td>0.467742</td>\n",
       "      <td>0.290323</td>\n",
       "      <td>0.032258</td>\n",
       "      <td>0.241935</td>\n",
       "      <td>0.516129</td>\n",
       "      <td>0.241935</td>\n",
       "    </tr>\n",
       "    <tr>\n",
       "      <th>4</th>\n",
       "      <td>4</td>\n",
       "      <td>[244173, 210510, 9349, 224202, 147251, 35498, ...</td>\n",
       "      <td>365.06</td>\n",
       "      <td>5.004921</td>\n",
       "      <td>0.0</td>\n",
       "      <td>0.000000</td>\n",
       "      <td>0.000000</td>\n",
       "      <td>0.067568</td>\n",
       "      <td>0.932432</td>\n",
       "      <td>0.000000</td>\n",
       "      <td>0.324324</td>\n",
       "      <td>0.675676</td>\n",
       "    </tr>\n",
       "  </tbody>\n",
       "</table>\n",
       "</div>"
      ],
      "text/plain": [
       "   playlist_idx                                     track_idx_list  \\\n",
       "0             0  [55709, 5427, 52495, 157555, 235367, 126542, 8...   \n",
       "1             1  [3689, 207774, 194775, 135193, 218011, 37844, ...   \n",
       "2             2  [160375, 131195, 164629, 147280, 193891, 17077...   \n",
       "3             3  [104436, 229428, 25968, 186871, 81592, 15947, ...   \n",
       "4             4  [244173, 210510, 9349, 224202, 147251, 35498, ...   \n",
       "\n",
       "   popularity_var  artist_diversity  early_years_proportion  \\\n",
       "0          658.67          2.128085                     0.0   \n",
       "1          834.42          5.136249                     0.0   \n",
       "2          300.85          4.321928                     0.0   \n",
       "3          776.50          5.760648                     0.0   \n",
       "4          365.06          5.004921                     0.0   \n",
       "\n",
       "   classic_era_proportion  golden_era_proportion  2000s_proportion  \\\n",
       "0                0.000000               0.000000          0.000000   \n",
       "1                0.000000               0.000000          0.000000   \n",
       "2                0.450000               0.200000          0.200000   \n",
       "3                0.209677               0.467742          0.290323   \n",
       "4                0.000000               0.000000          0.067568   \n",
       "\n",
       "   modern_era_proportion  short_proportion  medium_proportion  long_proportion  \n",
       "0               1.000000          0.571429           0.428571         0.000000  \n",
       "1               1.000000          0.095238           0.714286         0.190476  \n",
       "2               0.150000          0.200000           0.350000         0.450000  \n",
       "3               0.032258          0.241935           0.516129         0.241935  \n",
       "4               0.932432          0.000000           0.324324         0.675676  "
      ]
     },
     "execution_count": 76,
     "metadata": {},
     "output_type": "execute_result"
    }
   ],
   "source": [
    "# Filter the track_final DataFrame based on 'playlist_idx' from playlist_selected\n",
    "playlist_final = pop_era_artist[pop_era_artist['playlist_idx'].isin(playlist_selected['playlist_idx'])]\n",
    "\n",
    "# Display the filtered DataFrame\n",
    "playlist_final.head()"
   ]
  },
  {
   "cell_type": "markdown",
   "metadata": {},
   "source": [
    "### Duration Diversity"
   ]
  },
  {
   "cell_type": "code",
   "execution_count": 77,
   "metadata": {},
   "outputs": [
    {
     "name": "stderr",
     "output_type": "stream",
     "text": [
      "/var/folders/xf/v125knts0p57cdp0hhtgh8y00000gn/T/ipykernel_69438/2070016791.py:14: SettingWithCopyWarning: \n",
      "A value is trying to be set on a copy of a slice from a DataFrame.\n",
      "Try using .loc[row_indexer,col_indexer] = value instead\n",
      "\n",
      "See the caveats in the documentation: https://pandas.pydata.org/pandas-docs/stable/user_guide/indexing.html#returning-a-view-versus-a-copy\n",
      "  playlist_final.loc[:, 'duration_var'] = playlist_final.apply(shannon_entropy, axis=1)\n"
     ]
    }
   ],
   "source": [
    "def shannon_entropy(row):\n",
    "    # Convert proportions to a NumPy array from the separate columns\n",
    "    proportions = np.array([row[\"short_proportion\"], row[\"medium_proportion\"], row[\"long_proportion\"]])\n",
    "    \n",
    "    # Mask the zero values (replace them with a small value)\n",
    "    proportions = np.where(proportions == 0, np.finfo(float).eps, proportions)\n",
    "    \n",
    "    # Calculate entropy: -sum(p(x) * log2(p(x)))\n",
    "    entropy = -np.sum(proportions * np.log2(proportions))\n",
    "        \n",
    "    return entropy\n",
    "\n",
    "# Apply the Shannon entropy function to each row\n",
    "playlist_final.loc[:, 'duration_var'] = playlist_final.apply(shannon_entropy, axis=1)\n",
    "playlist_final = playlist_final.drop(columns=['short_proportion', 'medium_proportion', 'long_proportion'])"
   ]
  },
  {
   "cell_type": "markdown",
   "metadata": {},
   "source": [
    "### Era Diversity"
   ]
  },
  {
   "cell_type": "code",
   "execution_count": 78,
   "metadata": {},
   "outputs": [],
   "source": [
    "def shannon_entropy(row):\n",
    "    # Convert proportions to a NumPy array from the separate columns\n",
    "    proportions = np.array([row[\"early_years_proportion\"], row[\"classic_era_proportion\"], row[\"golden_era_proportion\"], row[\"2000s_proportion\"], row[\"modern_era_proportion\"]])\n",
    "    \n",
    "    # Mask the zero values (replace them with a small value)\n",
    "    proportions = np.where(proportions == 0, np.finfo(float).eps, proportions)\n",
    "    \n",
    "    # Calculate entropy: -sum(p(x) * log2(p(x)))\n",
    "    entropy = -np.sum(proportions * np.log2(proportions))\n",
    "        \n",
    "    return entropy\n",
    "\n",
    "# Apply the Shannon entropy function to each row\n",
    "playlist_final.loc[:, 'era_var'] = playlist_final.apply(shannon_entropy, axis=1)\n",
    "playlist_final = playlist_final.drop(columns=[\"early_years_proportion\", \"classic_era_proportion\", \"golden_era_proportion\", \"2000s_proportion\", \"modern_era_proportion\"])"
   ]
  },
  {
   "cell_type": "markdown",
   "metadata": {},
   "source": [
    "### Sentiment Diversity "
   ]
  },
  {
   "cell_type": "code",
   "execution_count": null,
   "metadata": {},
   "outputs": [],
   "source": []
  },
  {
   "cell_type": "markdown",
   "metadata": {},
   "source": [
    "### Genre Diversity"
   ]
  },
  {
   "cell_type": "code",
   "execution_count": null,
   "metadata": {},
   "outputs": [],
   "source": []
  }
 ],
 "metadata": {
  "kernelspec": {
   "display_name": "myenv",
   "language": "python",
   "name": "python3"
  },
  "language_info": {
   "codemirror_mode": {
    "name": "ipython",
    "version": 3
   },
   "file_extension": ".py",
   "mimetype": "text/x-python",
   "name": "python",
   "nbconvert_exporter": "python",
   "pygments_lexer": "ipython3",
   "version": "3.10.15"
  }
 },
 "nbformat": 4,
 "nbformat_minor": 2
}
