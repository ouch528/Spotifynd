{
 "cells": [
  {
   "cell_type": "code",
   "execution_count": 37,
   "metadata": {},
   "outputs": [],
   "source": [
    "import pandas as pd\n",
    "import numpy as np\n",
    "import ast\n",
    "from sklearn.metrics.pairwise import cosine_similarity\n",
    "import matplotlib.pyplot as plt\n",
    "import seaborn as sns\n",
    "from scipy.stats import spearmanr, pearsonr"
   ]
  },
  {
   "cell_type": "markdown",
   "metadata": {},
   "source": [
    "# Load Datasets"
   ]
  },
  {
   "cell_type": "code",
   "execution_count": 143,
   "metadata": {},
   "outputs": [],
   "source": [
    "playlist = pd.read_parquet(\"../phase2_data_cleaning/cleaned dataset/playlist_cleaned.parquet\", columns=[\"playlist_idx\", \"tracks\"])\n",
    "playlist_recco = pd.read_parquet(\"../phase3_feature_engineering/feature engineered datasets/playlist.parquet\", columns=[\"playlist_idx\", \"name_embeddings\", \"track_idx_list\", \"popularity_mean\",\n",
    "                                                                                                                        \"early_years_proportion\", \"classic_era_proportion\", \"golden_era_proportion\",\n",
    "                                                                                                                        \"2000s_proportion\", \"modern_era_proportion\", \"short_proportion\",\n",
    "                                                                                                                        \"medium_proportion\", \"long_proportion\"])\n",
    "track = pd.read_parquet(\"../phase2_data_cleaning/cleaned dataset/track_cleaned.parquet\", columns=[\"track_idx\", \"track_uri\"])"
   ]
  },
  {
   "cell_type": "markdown",
   "metadata": {},
   "source": [
    "# Select the first 1000 playlists"
   ]
  },
  {
   "cell_type": "code",
   "execution_count": 144,
   "metadata": {},
   "outputs": [],
   "source": [
    "playlist_selected = playlist.head(1000)\n",
    "playlist_recco = playlist_recco.head(1000)"
   ]
  },
  {
   "cell_type": "markdown",
   "metadata": {},
   "source": [
    "# Select the unique tracks in the 1000 playlists"
   ]
  },
  {
   "cell_type": "code",
   "execution_count": 145,
   "metadata": {},
   "outputs": [
    {
     "name": "stdout",
     "output_type": "stream",
     "text": [
      "       track_idx\n",
      "0              1\n",
      "1              5\n",
      "2             15\n",
      "3             36\n",
      "4             38\n",
      "...          ...\n",
      "37437     252207\n",
      "37438     252209\n",
      "37439     252210\n",
      "37440     252213\n",
      "37441     252216\n",
      "\n",
      "[37442 rows x 1 columns]\n"
     ]
    }
   ],
   "source": [
    "# Extract unique values from the 'tracks' column\n",
    "unique_values = set()\n",
    "\n",
    "# Iterate over the rows in the 'tracks' column\n",
    "for track_str in playlist_selected[\"tracks\"]:\n",
    "    # Convert the string representation to a dictionary\n",
    "    track_dict = ast.literal_eval(track_str)\n",
    "    \n",
    "    if isinstance(track_dict, dict):  # Ensure it's a dictionary\n",
    "        # Add integer values to the set\n",
    "        unique_values.update(int(value) for value in track_dict.values())\n",
    "\n",
    "# Convert to DataFrame with 'track_idx' as integers\n",
    "unique_df = pd.DataFrame(unique_values, columns=[\"track_idx\"])\n",
    "unique_df = unique_df.sort_values(by=\"track_idx\", ascending=True).reset_index(drop=True)\n",
    "\n",
    "# Display the DataFrame\n",
    "print(unique_df)"
   ]
  },
  {
   "cell_type": "markdown",
   "metadata": {},
   "source": [
    "# Merge with the `track_uri` in the Track dataset"
   ]
  },
  {
   "cell_type": "code",
   "execution_count": 146,
   "metadata": {},
   "outputs": [
    {
     "name": "stdout",
     "output_type": "stream",
     "text": [
      "        track_idx                             track_uri\n",
      "1               1  spotify:track:000GjfnQc7ggBayDiy1sLW\n",
      "5               5  spotify:track:000xQL6tZNLJzIrtIgxqSl\n",
      "15             15  spotify:track:002opcRBgYV5jqoh72QcqA\n",
      "36             36  spotify:track:005X0FmdtkM1kiutosXLTR\n",
      "38             38  spotify:track:005drRcJJFgFHgtxSJJO0v\n",
      "...           ...                                   ...\n",
      "252207     252207  spotify:track:7zwtlwZslYsynnoDxH7lOR\n",
      "252209     252209  spotify:track:7zx34MQjW5Svvltow5EzsR\n",
      "252210     252210  spotify:track:7zx5GJLsFcKpXfvFAIioqI\n",
      "252213     252213  spotify:track:7zxRMhXxJMQCeDDg0rKAVo\n",
      "252216     252216  spotify:track:7zxhhMt0j1JV7OuFpQ2Boe\n",
      "\n",
      "[37442 rows x 2 columns]\n"
     ]
    }
   ],
   "source": [
    "# Extract the unique 'track_idx' from the unique_df\n",
    "unique_track_idx = unique_df['track_idx']\n",
    "\n",
    "# Filter the 'track' DataFrame based on whether 'track_idx' is in the unique values\n",
    "filtered_track = track[track['track_idx'].isin(unique_track_idx)]\n",
    "\n",
    "# Display the filtered DataFrame\n",
    "print(filtered_track)"
   ]
  },
  {
   "cell_type": "markdown",
   "metadata": {},
   "source": [
    "# Save files"
   ]
  },
  {
   "cell_type": "code",
   "execution_count": 147,
   "metadata": {},
   "outputs": [],
   "source": [
    "playlist_selected = playlist_selected.drop(columns=['tracks'])\n",
    "playlist_selected.to_parquet(\"datasets/1000_playlist_idx_only.parquet\", index=False)\n",
    "filtered_track.to_parquet(\"datasets/1000_track_idx_only.parquet\", index=False)"
   ]
  },
  {
   "cell_type": "markdown",
   "metadata": {},
   "source": [
    "# Create Track Table using Sample"
   ]
  },
  {
   "cell_type": "markdown",
   "metadata": {},
   "source": [
    "### Load Relevant Datasets"
   ]
  },
  {
   "cell_type": "code",
   "execution_count": 148,
   "metadata": {},
   "outputs": [],
   "source": [
    "pop_era_duration_artist_idx = pd.read_parquet(\"../phase2_data_cleaning/cleaned dataset/track_cleaned.parquet\", columns=[\"track_idx\",\"artist_idx\", \"album_idx\", \"era\", \"category\", \"track_popularity\"])\n",
    "sentiment = pd.read_parquet(\"../phase3_feature_engineering/scores/sentiment_scores_1000_subsample.parquet\")\n",
    "genre = pd.read_parquet(\"../phase3_feature_engineering/scores/genre_scores.parquet\")"
   ]
  },
  {
   "cell_type": "markdown",
   "metadata": {},
   "source": [
    "### Merge `Popularity`, `Era`, `Duration` first"
   ]
  },
  {
   "cell_type": "code",
   "execution_count": 149,
   "metadata": {},
   "outputs": [
    {
     "data": {
      "application/vnd.microsoft.datawrangler.viewer.v0+json": {
       "columns": [
        {
         "name": "index",
         "rawType": "int64",
         "type": "integer"
        },
        {
         "name": "track_idx",
         "rawType": "int64",
         "type": "integer"
        },
        {
         "name": "track_uri",
         "rawType": "object",
         "type": "string"
        },
        {
         "name": "artist_idx",
         "rawType": "int64",
         "type": "integer"
        },
        {
         "name": "album_idx",
         "rawType": "int64",
         "type": "integer"
        },
        {
         "name": "era",
         "rawType": "object",
         "type": "string"
        },
        {
         "name": "category",
         "rawType": "object",
         "type": "string"
        },
        {
         "name": "track_popularity",
         "rawType": "int64",
         "type": "integer"
        }
       ],
       "conversionMethod": "pd.DataFrame",
       "ref": "70914fda-3e50-45e3-9177-a0d727f4a997",
       "rows": [
        [
         "0",
         "1",
         "spotify:track:000GjfnQc7ggBayDiy1sLW",
         "26382",
         "19030",
         "2000s",
         "Short",
         "18"
        ],
        [
         "1",
         "5",
         "spotify:track:000xQL6tZNLJzIrtIgxqSl",
         "38821",
         "45744",
         "Modern Era",
         "Medium",
         "54"
        ],
        [
         "2",
         "15",
         "spotify:track:002opcRBgYV5jqoh72QcqA",
         "19124",
         "116350",
         "Modern Era",
         "Medium",
         "37"
        ],
        [
         "3",
         "36",
         "spotify:track:005X0FmdtkM1kiutosXLTR",
         "35662",
         "88581",
         "Classic Era",
         "Short",
         "6"
        ],
        [
         "4",
         "38",
         "spotify:track:005drRcJJFgFHgtxSJJO0v",
         "43820",
         "63597",
         "Modern Era",
         "Long",
         "44"
        ]
       ],
       "shape": {
        "columns": 7,
        "rows": 5
       }
      },
      "text/html": [
       "<div>\n",
       "<style scoped>\n",
       "    .dataframe tbody tr th:only-of-type {\n",
       "        vertical-align: middle;\n",
       "    }\n",
       "\n",
       "    .dataframe tbody tr th {\n",
       "        vertical-align: top;\n",
       "    }\n",
       "\n",
       "    .dataframe thead th {\n",
       "        text-align: right;\n",
       "    }\n",
       "</style>\n",
       "<table border=\"1\" class=\"dataframe\">\n",
       "  <thead>\n",
       "    <tr style=\"text-align: right;\">\n",
       "      <th></th>\n",
       "      <th>track_idx</th>\n",
       "      <th>track_uri</th>\n",
       "      <th>artist_idx</th>\n",
       "      <th>album_idx</th>\n",
       "      <th>era</th>\n",
       "      <th>category</th>\n",
       "      <th>track_popularity</th>\n",
       "    </tr>\n",
       "  </thead>\n",
       "  <tbody>\n",
       "    <tr>\n",
       "      <th>0</th>\n",
       "      <td>1</td>\n",
       "      <td>spotify:track:000GjfnQc7ggBayDiy1sLW</td>\n",
       "      <td>26382</td>\n",
       "      <td>19030</td>\n",
       "      <td>2000s</td>\n",
       "      <td>Short</td>\n",
       "      <td>18</td>\n",
       "    </tr>\n",
       "    <tr>\n",
       "      <th>1</th>\n",
       "      <td>5</td>\n",
       "      <td>spotify:track:000xQL6tZNLJzIrtIgxqSl</td>\n",
       "      <td>38821</td>\n",
       "      <td>45744</td>\n",
       "      <td>Modern Era</td>\n",
       "      <td>Medium</td>\n",
       "      <td>54</td>\n",
       "    </tr>\n",
       "    <tr>\n",
       "      <th>2</th>\n",
       "      <td>15</td>\n",
       "      <td>spotify:track:002opcRBgYV5jqoh72QcqA</td>\n",
       "      <td>19124</td>\n",
       "      <td>116350</td>\n",
       "      <td>Modern Era</td>\n",
       "      <td>Medium</td>\n",
       "      <td>37</td>\n",
       "    </tr>\n",
       "    <tr>\n",
       "      <th>3</th>\n",
       "      <td>36</td>\n",
       "      <td>spotify:track:005X0FmdtkM1kiutosXLTR</td>\n",
       "      <td>35662</td>\n",
       "      <td>88581</td>\n",
       "      <td>Classic Era</td>\n",
       "      <td>Short</td>\n",
       "      <td>6</td>\n",
       "    </tr>\n",
       "    <tr>\n",
       "      <th>4</th>\n",
       "      <td>38</td>\n",
       "      <td>spotify:track:005drRcJJFgFHgtxSJJO0v</td>\n",
       "      <td>43820</td>\n",
       "      <td>63597</td>\n",
       "      <td>Modern Era</td>\n",
       "      <td>Long</td>\n",
       "      <td>44</td>\n",
       "    </tr>\n",
       "  </tbody>\n",
       "</table>\n",
       "</div>"
      ],
      "text/plain": [
       "   track_idx                             track_uri  artist_idx  album_idx  \\\n",
       "0          1  spotify:track:000GjfnQc7ggBayDiy1sLW       26382      19030   \n",
       "1          5  spotify:track:000xQL6tZNLJzIrtIgxqSl       38821      45744   \n",
       "2         15  spotify:track:002opcRBgYV5jqoh72QcqA       19124     116350   \n",
       "3         36  spotify:track:005X0FmdtkM1kiutosXLTR       35662      88581   \n",
       "4         38  spotify:track:005drRcJJFgFHgtxSJJO0v       43820      63597   \n",
       "\n",
       "           era category  track_popularity  \n",
       "0        2000s    Short                18  \n",
       "1   Modern Era   Medium                54  \n",
       "2   Modern Era   Medium                37  \n",
       "3  Classic Era    Short                 6  \n",
       "4   Modern Era     Long                44  "
      ]
     },
     "execution_count": 149,
     "metadata": {},
     "output_type": "execute_result"
    }
   ],
   "source": [
    "# Perform the merge on 'track_idx'\n",
    "track_final = pd.merge(filtered_track, pop_era_duration_artist_idx, on='track_idx', how='inner')\n",
    "\n",
    "# Display the merged DataFrame\n",
    "track_final.head()"
   ]
  },
  {
   "cell_type": "markdown",
   "metadata": {},
   "source": [
    "### Merge Sentiment Scores"
   ]
  },
  {
   "cell_type": "code",
   "execution_count": 150,
   "metadata": {},
   "outputs": [
    {
     "data": {
      "application/vnd.microsoft.datawrangler.viewer.v0+json": {
       "columns": [
        {
         "name": "index",
         "rawType": "int64",
         "type": "integer"
        },
        {
         "name": "track_idx",
         "rawType": "int64",
         "type": "integer"
        },
        {
         "name": "track_uri",
         "rawType": "object",
         "type": "string"
        },
        {
         "name": "artist_idx",
         "rawType": "int64",
         "type": "integer"
        },
        {
         "name": "album_idx",
         "rawType": "int64",
         "type": "integer"
        },
        {
         "name": "era",
         "rawType": "object",
         "type": "string"
        },
        {
         "name": "category",
         "rawType": "object",
         "type": "string"
        },
        {
         "name": "track_popularity",
         "rawType": "int64",
         "type": "integer"
        },
        {
         "name": "joy",
         "rawType": "float64",
         "type": "float"
        },
        {
         "name": "calm",
         "rawType": "float64",
         "type": "float"
        },
        {
         "name": "sadness",
         "rawType": "float64",
         "type": "float"
        },
        {
         "name": "fear",
         "rawType": "float64",
         "type": "float"
        },
        {
         "name": "energizing",
         "rawType": "float64",
         "type": "float"
        },
        {
         "name": "dreamy",
         "rawType": "float64",
         "type": "float"
        }
       ],
       "conversionMethod": "pd.DataFrame",
       "ref": "7d663312-9a67-43a3-8ee8-8f4facb87bbb",
       "rows": [
        [
         "0",
         "1",
         "spotify:track:000GjfnQc7ggBayDiy1sLW",
         "26382",
         "19030",
         "2000s",
         "Short",
         "18",
         null,
         null,
         null,
         null,
         null,
         null
        ],
        [
         "1",
         "5",
         "spotify:track:000xQL6tZNLJzIrtIgxqSl",
         "38821",
         "45744",
         "Modern Era",
         "Medium",
         "54",
         "0.1521130156596506",
         "0.1554185922848181",
         "0.1069748387126222",
         "0.2017603177332027",
         "0.1969683432978431",
         "0.1867648923118632"
        ],
        [
         "2",
         "15",
         "spotify:track:002opcRBgYV5jqoh72QcqA",
         "19124",
         "116350",
         "Modern Era",
         "Medium",
         "37",
         "0.1622645629969697",
         "0.0301183106843771",
         "0.0021505599247816",
         "0.0086681682708995",
         "0.4293118781225806",
         "0.3674865200003911"
        ],
        [
         "3",
         "36",
         "spotify:track:005X0FmdtkM1kiutosXLTR",
         "35662",
         "88581",
         "Classic Era",
         "Short",
         "6",
         "0.2935499355290792",
         "0.1153695604791841",
         "0.0011145829114113",
         "0.0026804627248875",
         "0.2952202920529593",
         "0.2920651663024783"
        ],
        [
         "4",
         "38",
         "spotify:track:005drRcJJFgFHgtxSJJO0v",
         "43820",
         "63597",
         "Modern Era",
         "Long",
         "44",
         "0.0053094373090576",
         "0.0185781887993989",
         "0.3061130396849413",
         "0.346906616734181",
         "0.1952833042231383",
         "0.1278094132492827"
        ]
       ],
       "shape": {
        "columns": 13,
        "rows": 5
       }
      },
      "text/html": [
       "<div>\n",
       "<style scoped>\n",
       "    .dataframe tbody tr th:only-of-type {\n",
       "        vertical-align: middle;\n",
       "    }\n",
       "\n",
       "    .dataframe tbody tr th {\n",
       "        vertical-align: top;\n",
       "    }\n",
       "\n",
       "    .dataframe thead th {\n",
       "        text-align: right;\n",
       "    }\n",
       "</style>\n",
       "<table border=\"1\" class=\"dataframe\">\n",
       "  <thead>\n",
       "    <tr style=\"text-align: right;\">\n",
       "      <th></th>\n",
       "      <th>track_idx</th>\n",
       "      <th>track_uri</th>\n",
       "      <th>artist_idx</th>\n",
       "      <th>album_idx</th>\n",
       "      <th>era</th>\n",
       "      <th>category</th>\n",
       "      <th>track_popularity</th>\n",
       "      <th>joy</th>\n",
       "      <th>calm</th>\n",
       "      <th>sadness</th>\n",
       "      <th>fear</th>\n",
       "      <th>energizing</th>\n",
       "      <th>dreamy</th>\n",
       "    </tr>\n",
       "  </thead>\n",
       "  <tbody>\n",
       "    <tr>\n",
       "      <th>0</th>\n",
       "      <td>1</td>\n",
       "      <td>spotify:track:000GjfnQc7ggBayDiy1sLW</td>\n",
       "      <td>26382</td>\n",
       "      <td>19030</td>\n",
       "      <td>2000s</td>\n",
       "      <td>Short</td>\n",
       "      <td>18</td>\n",
       "      <td>NaN</td>\n",
       "      <td>NaN</td>\n",
       "      <td>NaN</td>\n",
       "      <td>NaN</td>\n",
       "      <td>NaN</td>\n",
       "      <td>NaN</td>\n",
       "    </tr>\n",
       "    <tr>\n",
       "      <th>1</th>\n",
       "      <td>5</td>\n",
       "      <td>spotify:track:000xQL6tZNLJzIrtIgxqSl</td>\n",
       "      <td>38821</td>\n",
       "      <td>45744</td>\n",
       "      <td>Modern Era</td>\n",
       "      <td>Medium</td>\n",
       "      <td>54</td>\n",
       "      <td>0.152113</td>\n",
       "      <td>0.155419</td>\n",
       "      <td>0.106975</td>\n",
       "      <td>0.201760</td>\n",
       "      <td>0.196968</td>\n",
       "      <td>0.186765</td>\n",
       "    </tr>\n",
       "    <tr>\n",
       "      <th>2</th>\n",
       "      <td>15</td>\n",
       "      <td>spotify:track:002opcRBgYV5jqoh72QcqA</td>\n",
       "      <td>19124</td>\n",
       "      <td>116350</td>\n",
       "      <td>Modern Era</td>\n",
       "      <td>Medium</td>\n",
       "      <td>37</td>\n",
       "      <td>0.162265</td>\n",
       "      <td>0.030118</td>\n",
       "      <td>0.002151</td>\n",
       "      <td>0.008668</td>\n",
       "      <td>0.429312</td>\n",
       "      <td>0.367487</td>\n",
       "    </tr>\n",
       "    <tr>\n",
       "      <th>3</th>\n",
       "      <td>36</td>\n",
       "      <td>spotify:track:005X0FmdtkM1kiutosXLTR</td>\n",
       "      <td>35662</td>\n",
       "      <td>88581</td>\n",
       "      <td>Classic Era</td>\n",
       "      <td>Short</td>\n",
       "      <td>6</td>\n",
       "      <td>0.293550</td>\n",
       "      <td>0.115370</td>\n",
       "      <td>0.001115</td>\n",
       "      <td>0.002680</td>\n",
       "      <td>0.295220</td>\n",
       "      <td>0.292065</td>\n",
       "    </tr>\n",
       "    <tr>\n",
       "      <th>4</th>\n",
       "      <td>38</td>\n",
       "      <td>spotify:track:005drRcJJFgFHgtxSJJO0v</td>\n",
       "      <td>43820</td>\n",
       "      <td>63597</td>\n",
       "      <td>Modern Era</td>\n",
       "      <td>Long</td>\n",
       "      <td>44</td>\n",
       "      <td>0.005309</td>\n",
       "      <td>0.018578</td>\n",
       "      <td>0.306113</td>\n",
       "      <td>0.346907</td>\n",
       "      <td>0.195283</td>\n",
       "      <td>0.127809</td>\n",
       "    </tr>\n",
       "  </tbody>\n",
       "</table>\n",
       "</div>"
      ],
      "text/plain": [
       "   track_idx                             track_uri  artist_idx  album_idx  \\\n",
       "0          1  spotify:track:000GjfnQc7ggBayDiy1sLW       26382      19030   \n",
       "1          5  spotify:track:000xQL6tZNLJzIrtIgxqSl       38821      45744   \n",
       "2         15  spotify:track:002opcRBgYV5jqoh72QcqA       19124     116350   \n",
       "3         36  spotify:track:005X0FmdtkM1kiutosXLTR       35662      88581   \n",
       "4         38  spotify:track:005drRcJJFgFHgtxSJJO0v       43820      63597   \n",
       "\n",
       "           era category  track_popularity       joy      calm   sadness  \\\n",
       "0        2000s    Short                18       NaN       NaN       NaN   \n",
       "1   Modern Era   Medium                54  0.152113  0.155419  0.106975   \n",
       "2   Modern Era   Medium                37  0.162265  0.030118  0.002151   \n",
       "3  Classic Era    Short                 6  0.293550  0.115370  0.001115   \n",
       "4   Modern Era     Long                44  0.005309  0.018578  0.306113   \n",
       "\n",
       "       fear  energizing    dreamy  \n",
       "0       NaN         NaN       NaN  \n",
       "1  0.201760    0.196968  0.186765  \n",
       "2  0.008668    0.429312  0.367487  \n",
       "3  0.002680    0.295220  0.292065  \n",
       "4  0.346907    0.195283  0.127809  "
      ]
     },
     "execution_count": 150,
     "metadata": {},
     "output_type": "execute_result"
    }
   ],
   "source": [
    "track_final = pd.merge(track_final, sentiment, on='track_idx', how='left')\n",
    "track_final.head()"
   ]
  },
  {
   "cell_type": "markdown",
   "metadata": {},
   "source": [
    "### Merge Genre Scores"
   ]
  },
  {
   "cell_type": "code",
   "execution_count": 151,
   "metadata": {},
   "outputs": [
    {
     "data": {
      "application/vnd.microsoft.datawrangler.viewer.v0+json": {
       "columns": [
        {
         "name": "index",
         "rawType": "int64",
         "type": "integer"
        },
        {
         "name": "track_idx",
         "rawType": "int64",
         "type": "integer"
        },
        {
         "name": "track_uri",
         "rawType": "object",
         "type": "string"
        },
        {
         "name": "artist_idx",
         "rawType": "int64",
         "type": "integer"
        },
        {
         "name": "album_idx",
         "rawType": "int64",
         "type": "integer"
        },
        {
         "name": "era",
         "rawType": "object",
         "type": "string"
        },
        {
         "name": "category",
         "rawType": "object",
         "type": "string"
        },
        {
         "name": "track_popularity",
         "rawType": "int64",
         "type": "integer"
        },
        {
         "name": "joy",
         "rawType": "float64",
         "type": "float"
        },
        {
         "name": "calm",
         "rawType": "float64",
         "type": "float"
        },
        {
         "name": "sadness",
         "rawType": "float64",
         "type": "float"
        },
        {
         "name": "fear",
         "rawType": "float64",
         "type": "float"
        },
        {
         "name": "energizing",
         "rawType": "float64",
         "type": "float"
        },
        {
         "name": "dreamy",
         "rawType": "float64",
         "type": "float"
        },
        {
         "name": "Instrumental / Ambient Sounds",
         "rawType": "float64",
         "type": "float"
        },
        {
         "name": "Soft Acoustic / Classical",
         "rawType": "float64",
         "type": "float"
        },
        {
         "name": "Orchestral / Soundtrack",
         "rawType": "float64",
         "type": "float"
        },
        {
         "name": "Mid-tempo Pop / Indie",
         "rawType": "float64",
         "type": "float"
        },
        {
         "name": "Upbeat Electronic / Dance",
         "rawType": "float64",
         "type": "float"
        },
        {
         "name": "Slow & Melancholic (Sad Songs)",
         "rawType": "float64",
         "type": "float"
        },
        {
         "name": "Experimental / Jazz Fusion",
         "rawType": "float64",
         "type": "float"
        },
        {
         "name": "Lo-Fi / Chill Vibes",
         "rawType": "float64",
         "type": "float"
        }
       ],
       "conversionMethod": "pd.DataFrame",
       "ref": "cadfcd02-1f59-4362-b001-32d77a46d575",
       "rows": [
        [
         "0",
         "1",
         "spotify:track:000GjfnQc7ggBayDiy1sLW",
         "26382",
         "19030",
         "2000s",
         "Short",
         "18",
         null,
         null,
         null,
         null,
         null,
         null,
         "0.683466919508479",
         "0.0055966669166913",
         "0.2208513422776295",
         "0.0189377150660127",
         "0.0006123574252409",
         "0.0622928740725622",
         "0.0069243354829521",
         "0.001317789250432"
        ],
        [
         "1",
         "5",
         "spotify:track:000xQL6tZNLJzIrtIgxqSl",
         "38821",
         "45744",
         "Modern Era",
         "Medium",
         "54",
         "0.1521130156596506",
         "0.1554185922848181",
         "0.1069748387126222",
         "0.2017603177332027",
         "0.1969683432978431",
         "0.1867648923118632",
         "0.0124069444096118",
         "0.9125389060223706",
         "0.0108377079100872",
         "0.0008778312827314",
         "0.0472469241909475",
         "0.004436085497481",
         "0.0029150603997423",
         "0.008740540287028"
        ],
        [
         "2",
         "15",
         "spotify:track:002opcRBgYV5jqoh72QcqA",
         "19124",
         "116350",
         "Modern Era",
         "Medium",
         "37",
         "0.1622645629969697",
         "0.0301183106843771",
         "0.0021505599247816",
         "0.0086681682708995",
         "0.4293118781225806",
         "0.3674865200003911",
         "0.2254270759489954",
         "0.0174634140506237",
         "0.5791030152675418",
         "0.0102671090978035",
         "0.0020239162134327",
         "0.150952818795722",
         "0.0129926925914994",
         "0.0017699580343811"
        ],
        [
         "3",
         "36",
         "spotify:track:005X0FmdtkM1kiutosXLTR",
         "35662",
         "88581",
         "Classic Era",
         "Short",
         "6",
         "0.2935499355290792",
         "0.1153695604791841",
         "0.0011145829114113",
         "0.0026804627248875",
         "0.2952202920529593",
         "0.2920651663024783",
         "0.0124625907501278",
         "0.9028421539866224",
         "0.0157913471766761",
         "0.00266027778233",
         "0.0224194501251198",
         "0.0114211390129106",
         "0.0022543670264425",
         "0.0301486741397703"
        ],
        [
         "4",
         "38",
         "spotify:track:005drRcJJFgFHgtxSJJO0v",
         "43820",
         "63597",
         "Modern Era",
         "Long",
         "44",
         "0.0053094373090576",
         "0.0185781887993989",
         "0.3061130396849413",
         "0.346906616734181",
         "0.1952833042231383",
         "0.1278094132492827",
         "0.7472822482063577",
         "0.0062137321128545",
         "0.1207696830418745",
         "0.0331361424098465",
         "0.000653525510004",
         "0.0827824954337881",
         "0.007130499877801",
         "0.0020316734074734"
        ]
       ],
       "shape": {
        "columns": 21,
        "rows": 5
       }
      },
      "text/html": [
       "<div>\n",
       "<style scoped>\n",
       "    .dataframe tbody tr th:only-of-type {\n",
       "        vertical-align: middle;\n",
       "    }\n",
       "\n",
       "    .dataframe tbody tr th {\n",
       "        vertical-align: top;\n",
       "    }\n",
       "\n",
       "    .dataframe thead th {\n",
       "        text-align: right;\n",
       "    }\n",
       "</style>\n",
       "<table border=\"1\" class=\"dataframe\">\n",
       "  <thead>\n",
       "    <tr style=\"text-align: right;\">\n",
       "      <th></th>\n",
       "      <th>track_idx</th>\n",
       "      <th>track_uri</th>\n",
       "      <th>artist_idx</th>\n",
       "      <th>album_idx</th>\n",
       "      <th>era</th>\n",
       "      <th>category</th>\n",
       "      <th>track_popularity</th>\n",
       "      <th>joy</th>\n",
       "      <th>calm</th>\n",
       "      <th>sadness</th>\n",
       "      <th>...</th>\n",
       "      <th>energizing</th>\n",
       "      <th>dreamy</th>\n",
       "      <th>Instrumental / Ambient Sounds</th>\n",
       "      <th>Soft Acoustic / Classical</th>\n",
       "      <th>Orchestral / Soundtrack</th>\n",
       "      <th>Mid-tempo Pop / Indie</th>\n",
       "      <th>Upbeat Electronic / Dance</th>\n",
       "      <th>Slow &amp; Melancholic (Sad Songs)</th>\n",
       "      <th>Experimental / Jazz Fusion</th>\n",
       "      <th>Lo-Fi / Chill Vibes</th>\n",
       "    </tr>\n",
       "  </thead>\n",
       "  <tbody>\n",
       "    <tr>\n",
       "      <th>0</th>\n",
       "      <td>1</td>\n",
       "      <td>spotify:track:000GjfnQc7ggBayDiy1sLW</td>\n",
       "      <td>26382</td>\n",
       "      <td>19030</td>\n",
       "      <td>2000s</td>\n",
       "      <td>Short</td>\n",
       "      <td>18</td>\n",
       "      <td>NaN</td>\n",
       "      <td>NaN</td>\n",
       "      <td>NaN</td>\n",
       "      <td>...</td>\n",
       "      <td>NaN</td>\n",
       "      <td>NaN</td>\n",
       "      <td>0.683467</td>\n",
       "      <td>0.005597</td>\n",
       "      <td>0.220851</td>\n",
       "      <td>0.018938</td>\n",
       "      <td>0.000612</td>\n",
       "      <td>0.062293</td>\n",
       "      <td>0.006924</td>\n",
       "      <td>0.001318</td>\n",
       "    </tr>\n",
       "    <tr>\n",
       "      <th>1</th>\n",
       "      <td>5</td>\n",
       "      <td>spotify:track:000xQL6tZNLJzIrtIgxqSl</td>\n",
       "      <td>38821</td>\n",
       "      <td>45744</td>\n",
       "      <td>Modern Era</td>\n",
       "      <td>Medium</td>\n",
       "      <td>54</td>\n",
       "      <td>0.152113</td>\n",
       "      <td>0.155419</td>\n",
       "      <td>0.106975</td>\n",
       "      <td>...</td>\n",
       "      <td>0.196968</td>\n",
       "      <td>0.186765</td>\n",
       "      <td>0.012407</td>\n",
       "      <td>0.912539</td>\n",
       "      <td>0.010838</td>\n",
       "      <td>0.000878</td>\n",
       "      <td>0.047247</td>\n",
       "      <td>0.004436</td>\n",
       "      <td>0.002915</td>\n",
       "      <td>0.008741</td>\n",
       "    </tr>\n",
       "    <tr>\n",
       "      <th>2</th>\n",
       "      <td>15</td>\n",
       "      <td>spotify:track:002opcRBgYV5jqoh72QcqA</td>\n",
       "      <td>19124</td>\n",
       "      <td>116350</td>\n",
       "      <td>Modern Era</td>\n",
       "      <td>Medium</td>\n",
       "      <td>37</td>\n",
       "      <td>0.162265</td>\n",
       "      <td>0.030118</td>\n",
       "      <td>0.002151</td>\n",
       "      <td>...</td>\n",
       "      <td>0.429312</td>\n",
       "      <td>0.367487</td>\n",
       "      <td>0.225427</td>\n",
       "      <td>0.017463</td>\n",
       "      <td>0.579103</td>\n",
       "      <td>0.010267</td>\n",
       "      <td>0.002024</td>\n",
       "      <td>0.150953</td>\n",
       "      <td>0.012993</td>\n",
       "      <td>0.001770</td>\n",
       "    </tr>\n",
       "    <tr>\n",
       "      <th>3</th>\n",
       "      <td>36</td>\n",
       "      <td>spotify:track:005X0FmdtkM1kiutosXLTR</td>\n",
       "      <td>35662</td>\n",
       "      <td>88581</td>\n",
       "      <td>Classic Era</td>\n",
       "      <td>Short</td>\n",
       "      <td>6</td>\n",
       "      <td>0.293550</td>\n",
       "      <td>0.115370</td>\n",
       "      <td>0.001115</td>\n",
       "      <td>...</td>\n",
       "      <td>0.295220</td>\n",
       "      <td>0.292065</td>\n",
       "      <td>0.012463</td>\n",
       "      <td>0.902842</td>\n",
       "      <td>0.015791</td>\n",
       "      <td>0.002660</td>\n",
       "      <td>0.022419</td>\n",
       "      <td>0.011421</td>\n",
       "      <td>0.002254</td>\n",
       "      <td>0.030149</td>\n",
       "    </tr>\n",
       "    <tr>\n",
       "      <th>4</th>\n",
       "      <td>38</td>\n",
       "      <td>spotify:track:005drRcJJFgFHgtxSJJO0v</td>\n",
       "      <td>43820</td>\n",
       "      <td>63597</td>\n",
       "      <td>Modern Era</td>\n",
       "      <td>Long</td>\n",
       "      <td>44</td>\n",
       "      <td>0.005309</td>\n",
       "      <td>0.018578</td>\n",
       "      <td>0.306113</td>\n",
       "      <td>...</td>\n",
       "      <td>0.195283</td>\n",
       "      <td>0.127809</td>\n",
       "      <td>0.747282</td>\n",
       "      <td>0.006214</td>\n",
       "      <td>0.120770</td>\n",
       "      <td>0.033136</td>\n",
       "      <td>0.000654</td>\n",
       "      <td>0.082782</td>\n",
       "      <td>0.007130</td>\n",
       "      <td>0.002032</td>\n",
       "    </tr>\n",
       "  </tbody>\n",
       "</table>\n",
       "<p>5 rows × 21 columns</p>\n",
       "</div>"
      ],
      "text/plain": [
       "   track_idx                             track_uri  artist_idx  album_idx  \\\n",
       "0          1  spotify:track:000GjfnQc7ggBayDiy1sLW       26382      19030   \n",
       "1          5  spotify:track:000xQL6tZNLJzIrtIgxqSl       38821      45744   \n",
       "2         15  spotify:track:002opcRBgYV5jqoh72QcqA       19124     116350   \n",
       "3         36  spotify:track:005X0FmdtkM1kiutosXLTR       35662      88581   \n",
       "4         38  spotify:track:005drRcJJFgFHgtxSJJO0v       43820      63597   \n",
       "\n",
       "           era category  track_popularity       joy      calm   sadness  ...  \\\n",
       "0        2000s    Short                18       NaN       NaN       NaN  ...   \n",
       "1   Modern Era   Medium                54  0.152113  0.155419  0.106975  ...   \n",
       "2   Modern Era   Medium                37  0.162265  0.030118  0.002151  ...   \n",
       "3  Classic Era    Short                 6  0.293550  0.115370  0.001115  ...   \n",
       "4   Modern Era     Long                44  0.005309  0.018578  0.306113  ...   \n",
       "\n",
       "   energizing    dreamy  Instrumental / Ambient Sounds  \\\n",
       "0         NaN       NaN                       0.683467   \n",
       "1    0.196968  0.186765                       0.012407   \n",
       "2    0.429312  0.367487                       0.225427   \n",
       "3    0.295220  0.292065                       0.012463   \n",
       "4    0.195283  0.127809                       0.747282   \n",
       "\n",
       "   Soft Acoustic / Classical  Orchestral / Soundtrack  Mid-tempo Pop / Indie  \\\n",
       "0                   0.005597                 0.220851               0.018938   \n",
       "1                   0.912539                 0.010838               0.000878   \n",
       "2                   0.017463                 0.579103               0.010267   \n",
       "3                   0.902842                 0.015791               0.002660   \n",
       "4                   0.006214                 0.120770               0.033136   \n",
       "\n",
       "   Upbeat Electronic / Dance  Slow & Melancholic (Sad Songs)  \\\n",
       "0                   0.000612                        0.062293   \n",
       "1                   0.047247                        0.004436   \n",
       "2                   0.002024                        0.150953   \n",
       "3                   0.022419                        0.011421   \n",
       "4                   0.000654                        0.082782   \n",
       "\n",
       "   Experimental / Jazz Fusion  Lo-Fi / Chill Vibes  \n",
       "0                    0.006924             0.001318  \n",
       "1                    0.002915             0.008741  \n",
       "2                    0.012993             0.001770  \n",
       "3                    0.002254             0.030149  \n",
       "4                    0.007130             0.002032  \n",
       "\n",
       "[5 rows x 21 columns]"
      ]
     },
     "execution_count": 151,
     "metadata": {},
     "output_type": "execute_result"
    }
   ],
   "source": [
    "track_final = pd.merge(track_final, genre, on='track_uri', how='left')\n",
    "track_final.head()"
   ]
  },
  {
   "cell_type": "markdown",
   "metadata": {},
   "source": [
    "### Save File"
   ]
  },
  {
   "cell_type": "code",
   "execution_count": 152,
   "metadata": {},
   "outputs": [],
   "source": [
    "track_final.to_parquet(\"datasets/1000_track_full.parquet\", index=False)"
   ]
  },
  {
   "cell_type": "markdown",
   "metadata": {},
   "source": [
    "# Create Playlist Table using Track Table"
   ]
  },
  {
   "cell_type": "markdown",
   "metadata": {},
   "source": [
    "### Load Relevant Datasets"
   ]
  },
  {
   "cell_type": "code",
   "execution_count": 153,
   "metadata": {},
   "outputs": [],
   "source": [
    "pop_era_artist = pd.read_parquet(\"../phase3_feature_engineering/feature engineered datasets/playlist.parquet\", \n",
    "                                 columns=[\"playlist_idx\", \"track_idx_list\", \"popularity_var\", \"artist_diversity\", \n",
    "                                              \"early_years_proportion\", \"classic_era_proportion\", \"golden_era_proportion\", \"2000s_proportion\", \"modern_era_proportion\",\n",
    "                                              \"short_proportion\", \"medium_proportion\", \"long_proportion\"])"
   ]
  },
  {
   "cell_type": "markdown",
   "metadata": {},
   "source": [
    "### Filter to only the selected 1000 playlists"
   ]
  },
  {
   "cell_type": "code",
   "execution_count": 154,
   "metadata": {},
   "outputs": [
    {
     "data": {
      "application/vnd.microsoft.datawrangler.viewer.v0+json": {
       "columns": [
        {
         "name": "index",
         "rawType": "int64",
         "type": "integer"
        },
        {
         "name": "playlist_idx",
         "rawType": "int64",
         "type": "integer"
        },
        {
         "name": "track_idx_list",
         "rawType": "object",
         "type": "unknown"
        },
        {
         "name": "popularity_var",
         "rawType": "float64",
         "type": "float"
        },
        {
         "name": "artist_diversity",
         "rawType": "float64",
         "type": "float"
        },
        {
         "name": "early_years_proportion",
         "rawType": "float64",
         "type": "float"
        },
        {
         "name": "classic_era_proportion",
         "rawType": "float64",
         "type": "float"
        },
        {
         "name": "golden_era_proportion",
         "rawType": "float64",
         "type": "float"
        },
        {
         "name": "2000s_proportion",
         "rawType": "float64",
         "type": "float"
        },
        {
         "name": "modern_era_proportion",
         "rawType": "float64",
         "type": "float"
        },
        {
         "name": "short_proportion",
         "rawType": "float64",
         "type": "float"
        },
        {
         "name": "medium_proportion",
         "rawType": "float64",
         "type": "float"
        },
        {
         "name": "long_proportion",
         "rawType": "float64",
         "type": "float"
        }
       ],
       "conversionMethod": "pd.DataFrame",
       "ref": "4e5ff09d-fc5c-4a1c-82fe-193c96aa45f9",
       "rows": [
        [
         "0",
         "0",
         "['55709' '5427' '52495' '157555' '235367' '126542' '8271' '136071'\n '252057' '238388' '198939' '216470' '53902' '87793']",
         "658.67",
         "2.1280852788913944",
         "0.0",
         "0.0",
         "0.0",
         "0.0",
         "1.0",
         "0.5714285714285714",
         "0.42857142857142855",
         "0.0"
        ],
        [
         "1",
         "1",
         "['3689' '207774' '194775' '135193' '218011' '37844' '83246' '82249'\n '57996' '181596' '86424' '208248' '93035' '249785' '63352' '152463'\n '137675' '247413' '151316' '134509' '102192' '234647' '6765' '202106'\n '119775' '110461' '245858' '14182' '211346' '56156' '167186' '149136'\n '218708' '242974' '165272' '9418' '221860' '229224' '39687' '177887'\n '181016' '19451']",
         "834.42",
         "5.136248672727249",
         "0.0",
         "0.0",
         "0.0",
         "0.0",
         "1.0",
         "0.09523809523809523",
         "0.7142857142857143",
         "0.19047619047619047"
        ],
        [
         "2",
         "2",
         "['160375' '131195' '164629' '147280' '193891' '170777' '95293' '62212'\n '232308' '146199' '232845' '111887' '144160' '10663' '216321' '138869'\n '63694' '72431' '108782' '175642']",
         "300.85",
         "4.321928094887363",
         "0.0",
         "0.45",
         "0.2",
         "0.2",
         "0.15",
         "0.2",
         "0.35",
         "0.45"
        ],
        [
         "3",
         "3",
         "['104436' '229428' '25968' '186871' '81592' '15947' '251172' '13422'\n '221810' '175317' '192292' '137221' '222620' '34094' '62212' '67861'\n '36197' '149177' '208864' '159447' '250210' '238716' '176401' '172831'\n '76812' '116526' '132684' '148390' '246233' '83411' '87948' '192501'\n '91718' '149355' '30636' '186690' '2924' '42820' '130535' '225769'\n '127736' '101021' '100770' '43248' '235670' '42921' '39701' '45553'\n '29471' '117402' '189533' '237699' '42986' '156208' '73950' '54114'\n '134077' '214967' '176401' '135728' '129186' '105818']",
         "776.5",
         "5.760647923290099",
         "0.0",
         "0.20967741935483872",
         "0.46774193548387094",
         "0.2903225806451613",
         "0.03225806451612903",
         "0.24193548387096775",
         "0.5161290322580645",
         "0.24193548387096775"
        ],
        [
         "4",
         "4",
         "['244173' '210510' '9349' '224202' '147251' '35498' '21260' '159614'\n '133549' '168205' '40478' '214303' '167390' '31958' '188742' '183469'\n '54700' '9617' '45437' '124021' '42020' '39413' '164410' '245523' '92357'\n '154224' '176272' '21000' '31178' '153491' '100077' '175352' '167460'\n '64332' '2021' '248895' '165416' '64948' '175558' '251879' '232817'\n '99876' '36381' '249123' '39118' '110515' '209567' '57951' '193375'\n '225008' '127644' '228661' '53431' '173444' '169365' '115656' '106366'\n '173813' '172523' '242980' '69255' '64637' '57263' '196162' '166268'\n '22122' '211269' '71335' '21853' '190702' '111268' '166527' '165497'\n '17051']",
         "365.06",
         "5.004920556037501",
         "0.0",
         "0.0",
         "0.0",
         "0.06756756756756757",
         "0.9324324324324325",
         "0.0",
         "0.32432432432432434",
         "0.6756756756756757"
        ]
       ],
       "shape": {
        "columns": 12,
        "rows": 5
       }
      },
      "text/html": [
       "<div>\n",
       "<style scoped>\n",
       "    .dataframe tbody tr th:only-of-type {\n",
       "        vertical-align: middle;\n",
       "    }\n",
       "\n",
       "    .dataframe tbody tr th {\n",
       "        vertical-align: top;\n",
       "    }\n",
       "\n",
       "    .dataframe thead th {\n",
       "        text-align: right;\n",
       "    }\n",
       "</style>\n",
       "<table border=\"1\" class=\"dataframe\">\n",
       "  <thead>\n",
       "    <tr style=\"text-align: right;\">\n",
       "      <th></th>\n",
       "      <th>playlist_idx</th>\n",
       "      <th>track_idx_list</th>\n",
       "      <th>popularity_var</th>\n",
       "      <th>artist_diversity</th>\n",
       "      <th>early_years_proportion</th>\n",
       "      <th>classic_era_proportion</th>\n",
       "      <th>golden_era_proportion</th>\n",
       "      <th>2000s_proportion</th>\n",
       "      <th>modern_era_proportion</th>\n",
       "      <th>short_proportion</th>\n",
       "      <th>medium_proportion</th>\n",
       "      <th>long_proportion</th>\n",
       "    </tr>\n",
       "  </thead>\n",
       "  <tbody>\n",
       "    <tr>\n",
       "      <th>0</th>\n",
       "      <td>0</td>\n",
       "      <td>[55709, 5427, 52495, 157555, 235367, 126542, 8...</td>\n",
       "      <td>658.67</td>\n",
       "      <td>2.128085</td>\n",
       "      <td>0.0</td>\n",
       "      <td>0.000000</td>\n",
       "      <td>0.000000</td>\n",
       "      <td>0.000000</td>\n",
       "      <td>1.000000</td>\n",
       "      <td>0.571429</td>\n",
       "      <td>0.428571</td>\n",
       "      <td>0.000000</td>\n",
       "    </tr>\n",
       "    <tr>\n",
       "      <th>1</th>\n",
       "      <td>1</td>\n",
       "      <td>[3689, 207774, 194775, 135193, 218011, 37844, ...</td>\n",
       "      <td>834.42</td>\n",
       "      <td>5.136249</td>\n",
       "      <td>0.0</td>\n",
       "      <td>0.000000</td>\n",
       "      <td>0.000000</td>\n",
       "      <td>0.000000</td>\n",
       "      <td>1.000000</td>\n",
       "      <td>0.095238</td>\n",
       "      <td>0.714286</td>\n",
       "      <td>0.190476</td>\n",
       "    </tr>\n",
       "    <tr>\n",
       "      <th>2</th>\n",
       "      <td>2</td>\n",
       "      <td>[160375, 131195, 164629, 147280, 193891, 17077...</td>\n",
       "      <td>300.85</td>\n",
       "      <td>4.321928</td>\n",
       "      <td>0.0</td>\n",
       "      <td>0.450000</td>\n",
       "      <td>0.200000</td>\n",
       "      <td>0.200000</td>\n",
       "      <td>0.150000</td>\n",
       "      <td>0.200000</td>\n",
       "      <td>0.350000</td>\n",
       "      <td>0.450000</td>\n",
       "    </tr>\n",
       "    <tr>\n",
       "      <th>3</th>\n",
       "      <td>3</td>\n",
       "      <td>[104436, 229428, 25968, 186871, 81592, 15947, ...</td>\n",
       "      <td>776.50</td>\n",
       "      <td>5.760648</td>\n",
       "      <td>0.0</td>\n",
       "      <td>0.209677</td>\n",
       "      <td>0.467742</td>\n",
       "      <td>0.290323</td>\n",
       "      <td>0.032258</td>\n",
       "      <td>0.241935</td>\n",
       "      <td>0.516129</td>\n",
       "      <td>0.241935</td>\n",
       "    </tr>\n",
       "    <tr>\n",
       "      <th>4</th>\n",
       "      <td>4</td>\n",
       "      <td>[244173, 210510, 9349, 224202, 147251, 35498, ...</td>\n",
       "      <td>365.06</td>\n",
       "      <td>5.004921</td>\n",
       "      <td>0.0</td>\n",
       "      <td>0.000000</td>\n",
       "      <td>0.000000</td>\n",
       "      <td>0.067568</td>\n",
       "      <td>0.932432</td>\n",
       "      <td>0.000000</td>\n",
       "      <td>0.324324</td>\n",
       "      <td>0.675676</td>\n",
       "    </tr>\n",
       "  </tbody>\n",
       "</table>\n",
       "</div>"
      ],
      "text/plain": [
       "   playlist_idx                                     track_idx_list  \\\n",
       "0             0  [55709, 5427, 52495, 157555, 235367, 126542, 8...   \n",
       "1             1  [3689, 207774, 194775, 135193, 218011, 37844, ...   \n",
       "2             2  [160375, 131195, 164629, 147280, 193891, 17077...   \n",
       "3             3  [104436, 229428, 25968, 186871, 81592, 15947, ...   \n",
       "4             4  [244173, 210510, 9349, 224202, 147251, 35498, ...   \n",
       "\n",
       "   popularity_var  artist_diversity  early_years_proportion  \\\n",
       "0          658.67          2.128085                     0.0   \n",
       "1          834.42          5.136249                     0.0   \n",
       "2          300.85          4.321928                     0.0   \n",
       "3          776.50          5.760648                     0.0   \n",
       "4          365.06          5.004921                     0.0   \n",
       "\n",
       "   classic_era_proportion  golden_era_proportion  2000s_proportion  \\\n",
       "0                0.000000               0.000000          0.000000   \n",
       "1                0.000000               0.000000          0.000000   \n",
       "2                0.450000               0.200000          0.200000   \n",
       "3                0.209677               0.467742          0.290323   \n",
       "4                0.000000               0.000000          0.067568   \n",
       "\n",
       "   modern_era_proportion  short_proportion  medium_proportion  long_proportion  \n",
       "0               1.000000          0.571429           0.428571         0.000000  \n",
       "1               1.000000          0.095238           0.714286         0.190476  \n",
       "2               0.150000          0.200000           0.350000         0.450000  \n",
       "3               0.032258          0.241935           0.516129         0.241935  \n",
       "4               0.932432          0.000000           0.324324         0.675676  "
      ]
     },
     "execution_count": 154,
     "metadata": {},
     "output_type": "execute_result"
    }
   ],
   "source": [
    "# Filter the track_final DataFrame based on 'playlist_idx' from playlist_selected\n",
    "playlist_final = pop_era_artist[pop_era_artist['playlist_idx'].isin(playlist_selected['playlist_idx'])]\n",
    "\n",
    "# Display the filtered DataFrame\n",
    "playlist_final.head()"
   ]
  },
  {
   "cell_type": "markdown",
   "metadata": {},
   "source": [
    "### Duration Diversity"
   ]
  },
  {
   "cell_type": "code",
   "execution_count": 155,
   "metadata": {},
   "outputs": [
    {
     "name": "stderr",
     "output_type": "stream",
     "text": [
      "/var/folders/xf/v125knts0p57cdp0hhtgh8y00000gn/T/ipykernel_92141/2070016791.py:14: SettingWithCopyWarning: \n",
      "A value is trying to be set on a copy of a slice from a DataFrame.\n",
      "Try using .loc[row_indexer,col_indexer] = value instead\n",
      "\n",
      "See the caveats in the documentation: https://pandas.pydata.org/pandas-docs/stable/user_guide/indexing.html#returning-a-view-versus-a-copy\n",
      "  playlist_final.loc[:, 'duration_var'] = playlist_final.apply(shannon_entropy, axis=1)\n"
     ]
    }
   ],
   "source": [
    "def shannon_entropy(row):\n",
    "    # Convert proportions to a NumPy array from the separate columns\n",
    "    proportions = np.array([row[\"short_proportion\"], row[\"medium_proportion\"], row[\"long_proportion\"]])\n",
    "    \n",
    "    # Mask the zero values (replace them with a small value)\n",
    "    proportions = np.where(proportions == 0, np.finfo(float).eps, proportions)\n",
    "    \n",
    "    # Calculate entropy: -sum(p(x) * log2(p(x)))\n",
    "    entropy = -np.sum(proportions * np.log2(proportions))\n",
    "        \n",
    "    return entropy\n",
    "\n",
    "# Apply the Shannon entropy function to each row\n",
    "playlist_final.loc[:, 'duration_var'] = playlist_final.apply(shannon_entropy, axis=1)\n",
    "playlist_final = playlist_final.drop(columns=['short_proportion', 'medium_proportion', 'long_proportion'])"
   ]
  },
  {
   "cell_type": "markdown",
   "metadata": {},
   "source": [
    "### Era Diversity"
   ]
  },
  {
   "cell_type": "code",
   "execution_count": 156,
   "metadata": {},
   "outputs": [],
   "source": [
    "def shannon_entropy(row):\n",
    "    # Convert proportions to a NumPy array from the separate columns\n",
    "    proportions = np.array([row[\"early_years_proportion\"], row[\"classic_era_proportion\"], row[\"golden_era_proportion\"], row[\"2000s_proportion\"], row[\"modern_era_proportion\"]])\n",
    "    \n",
    "    # Mask the zero values (replace them with a small value)\n",
    "    proportions = np.where(proportions == 0, np.finfo(float).eps, proportions)\n",
    "    \n",
    "    # Calculate entropy: -sum(p(x) * log2(p(x)))\n",
    "    entropy = -np.sum(proportions * np.log2(proportions))\n",
    "        \n",
    "    return entropy\n",
    "\n",
    "# Apply the Shannon entropy function to each row\n",
    "playlist_final.loc[:, 'era_var'] = playlist_final.apply(shannon_entropy, axis=1)\n",
    "playlist_final = playlist_final.drop(columns=[\"early_years_proportion\", \"classic_era_proportion\", \"golden_era_proportion\", \"2000s_proportion\", \"modern_era_proportion\"])"
   ]
  },
  {
   "cell_type": "markdown",
   "metadata": {},
   "source": [
    "### Genre Diversity"
   ]
  },
  {
   "cell_type": "code",
   "execution_count": 157,
   "metadata": {},
   "outputs": [
    {
     "data": {
      "application/vnd.microsoft.datawrangler.viewer.v0+json": {
       "columns": [
        {
         "name": "index",
         "rawType": "int64",
         "type": "integer"
        },
        {
         "name": "track_idx",
         "rawType": "int64",
         "type": "integer"
        },
        {
         "name": "Instrumental / Ambient Sounds",
         "rawType": "float64",
         "type": "float"
        },
        {
         "name": "Soft Acoustic / Classical",
         "rawType": "float64",
         "type": "float"
        },
        {
         "name": "Orchestral / Soundtrack",
         "rawType": "float64",
         "type": "float"
        },
        {
         "name": "Mid-tempo Pop / Indie",
         "rawType": "float64",
         "type": "float"
        },
        {
         "name": "Upbeat Electronic / Dance",
         "rawType": "float64",
         "type": "float"
        },
        {
         "name": "Slow & Melancholic (Sad Songs)",
         "rawType": "float64",
         "type": "float"
        },
        {
         "name": "Experimental / Jazz Fusion",
         "rawType": "float64",
         "type": "float"
        },
        {
         "name": "Lo-Fi / Chill Vibes",
         "rawType": "float64",
         "type": "float"
        }
       ],
       "conversionMethod": "pd.DataFrame",
       "ref": "4f175e5c-e6a7-4f2d-a490-18538c2f5a33",
       "rows": [
        [
         "0",
         "1",
         "0.683466919508479",
         "0.0055966669166913",
         "0.2208513422776295",
         "0.0189377150660127",
         "0.0006123574252409",
         "0.0622928740725622",
         "0.0069243354829521",
         "0.001317789250432"
        ],
        [
         "1",
         "5",
         "0.0124069444096118",
         "0.9125389060223706",
         "0.0108377079100872",
         "0.0008778312827314",
         "0.0472469241909475",
         "0.004436085497481",
         "0.0029150603997423",
         "0.008740540287028"
        ],
        [
         "2",
         "15",
         "0.2254270759489954",
         "0.0174634140506237",
         "0.5791030152675418",
         "0.0102671090978035",
         "0.0020239162134327",
         "0.150952818795722",
         "0.0129926925914994",
         "0.0017699580343811"
        ],
        [
         "3",
         "36",
         "0.0124625907501278",
         "0.9028421539866224",
         "0.0157913471766761",
         "0.00266027778233",
         "0.0224194501251198",
         "0.0114211390129106",
         "0.0022543670264425",
         "0.0301486741397703"
        ],
        [
         "4",
         "38",
         "0.7472822482063577",
         "0.0062137321128545",
         "0.1207696830418745",
         "0.0331361424098465",
         "0.000653525510004",
         "0.0827824954337881",
         "0.007130499877801",
         "0.0020316734074734"
        ]
       ],
       "shape": {
        "columns": 9,
        "rows": 5
       }
      },
      "text/html": [
       "<div>\n",
       "<style scoped>\n",
       "    .dataframe tbody tr th:only-of-type {\n",
       "        vertical-align: middle;\n",
       "    }\n",
       "\n",
       "    .dataframe tbody tr th {\n",
       "        vertical-align: top;\n",
       "    }\n",
       "\n",
       "    .dataframe thead th {\n",
       "        text-align: right;\n",
       "    }\n",
       "</style>\n",
       "<table border=\"1\" class=\"dataframe\">\n",
       "  <thead>\n",
       "    <tr style=\"text-align: right;\">\n",
       "      <th></th>\n",
       "      <th>track_idx</th>\n",
       "      <th>Instrumental / Ambient Sounds</th>\n",
       "      <th>Soft Acoustic / Classical</th>\n",
       "      <th>Orchestral / Soundtrack</th>\n",
       "      <th>Mid-tempo Pop / Indie</th>\n",
       "      <th>Upbeat Electronic / Dance</th>\n",
       "      <th>Slow &amp; Melancholic (Sad Songs)</th>\n",
       "      <th>Experimental / Jazz Fusion</th>\n",
       "      <th>Lo-Fi / Chill Vibes</th>\n",
       "    </tr>\n",
       "  </thead>\n",
       "  <tbody>\n",
       "    <tr>\n",
       "      <th>0</th>\n",
       "      <td>1</td>\n",
       "      <td>0.683467</td>\n",
       "      <td>0.005597</td>\n",
       "      <td>0.220851</td>\n",
       "      <td>0.018938</td>\n",
       "      <td>0.000612</td>\n",
       "      <td>0.062293</td>\n",
       "      <td>0.006924</td>\n",
       "      <td>0.001318</td>\n",
       "    </tr>\n",
       "    <tr>\n",
       "      <th>1</th>\n",
       "      <td>5</td>\n",
       "      <td>0.012407</td>\n",
       "      <td>0.912539</td>\n",
       "      <td>0.010838</td>\n",
       "      <td>0.000878</td>\n",
       "      <td>0.047247</td>\n",
       "      <td>0.004436</td>\n",
       "      <td>0.002915</td>\n",
       "      <td>0.008741</td>\n",
       "    </tr>\n",
       "    <tr>\n",
       "      <th>2</th>\n",
       "      <td>15</td>\n",
       "      <td>0.225427</td>\n",
       "      <td>0.017463</td>\n",
       "      <td>0.579103</td>\n",
       "      <td>0.010267</td>\n",
       "      <td>0.002024</td>\n",
       "      <td>0.150953</td>\n",
       "      <td>0.012993</td>\n",
       "      <td>0.001770</td>\n",
       "    </tr>\n",
       "    <tr>\n",
       "      <th>3</th>\n",
       "      <td>36</td>\n",
       "      <td>0.012463</td>\n",
       "      <td>0.902842</td>\n",
       "      <td>0.015791</td>\n",
       "      <td>0.002660</td>\n",
       "      <td>0.022419</td>\n",
       "      <td>0.011421</td>\n",
       "      <td>0.002254</td>\n",
       "      <td>0.030149</td>\n",
       "    </tr>\n",
       "    <tr>\n",
       "      <th>4</th>\n",
       "      <td>38</td>\n",
       "      <td>0.747282</td>\n",
       "      <td>0.006214</td>\n",
       "      <td>0.120770</td>\n",
       "      <td>0.033136</td>\n",
       "      <td>0.000654</td>\n",
       "      <td>0.082782</td>\n",
       "      <td>0.007130</td>\n",
       "      <td>0.002032</td>\n",
       "    </tr>\n",
       "  </tbody>\n",
       "</table>\n",
       "</div>"
      ],
      "text/plain": [
       "   track_idx  Instrumental / Ambient Sounds  Soft Acoustic / Classical  \\\n",
       "0          1                       0.683467                   0.005597   \n",
       "1          5                       0.012407                   0.912539   \n",
       "2         15                       0.225427                   0.017463   \n",
       "3         36                       0.012463                   0.902842   \n",
       "4         38                       0.747282                   0.006214   \n",
       "\n",
       "   Orchestral / Soundtrack  Mid-tempo Pop / Indie  Upbeat Electronic / Dance  \\\n",
       "0                 0.220851               0.018938                   0.000612   \n",
       "1                 0.010838               0.000878                   0.047247   \n",
       "2                 0.579103               0.010267                   0.002024   \n",
       "3                 0.015791               0.002660                   0.022419   \n",
       "4                 0.120770               0.033136                   0.000654   \n",
       "\n",
       "   Slow & Melancholic (Sad Songs)  Experimental / Jazz Fusion  \\\n",
       "0                        0.062293                    0.006924   \n",
       "1                        0.004436                    0.002915   \n",
       "2                        0.150953                    0.012993   \n",
       "3                        0.011421                    0.002254   \n",
       "4                        0.082782                    0.007130   \n",
       "\n",
       "   Lo-Fi / Chill Vibes  \n",
       "0             0.001318  \n",
       "1             0.008741  \n",
       "2             0.001770  \n",
       "3             0.030149  \n",
       "4             0.002032  "
      ]
     },
     "execution_count": 157,
     "metadata": {},
     "output_type": "execute_result"
    }
   ],
   "source": [
    "track_audio = track_final[['track_idx', \"Instrumental / Ambient Sounds\", \"Soft Acoustic / Classical\", \"Orchestral / Soundtrack\",\"Mid-tempo Pop / Indie\",\"Upbeat Electronic / Dance\",\n",
    "                           \"Slow & Melancholic (Sad Songs)\", \"Experimental / Jazz Fusion\", \"Lo-Fi / Chill Vibes\"]]\n",
    "track_audio.head()"
   ]
  },
  {
   "cell_type": "markdown",
   "metadata": {},
   "source": [
    "Impute Missing Values (NOT NEEDED FOR THE FINAL VERSION)"
   ]
  },
  {
   "cell_type": "code",
   "execution_count": 158,
   "metadata": {},
   "outputs": [],
   "source": [
    "# Define the DataFrame (assuming track_audio is already loaded)\n",
    "columns_to_impute = [\n",
    "    \"Instrumental / Ambient Sounds\", \"Soft Acoustic / Classical\", \"Orchestral / Soundtrack\",\n",
    "    \"Mid-tempo Pop / Indie\", \"Upbeat Electronic / Dance\", \"Slow & Melancholic (Sad Songs)\",\n",
    "    \"Experimental / Jazz Fusion\", \"Lo-Fi / Chill Vibes\"\n",
    "]\n",
    "\n",
    "# Impute missing values with the median for each column\n",
    "track_audio.loc[:, columns_to_impute] = track_audio[columns_to_impute].fillna(track_audio[columns_to_impute].median())\n",
    "\n",
    "# Normalize so that each row sums to 1\n",
    "row_sums = track_audio[columns_to_impute].sum(axis=1)\n",
    "\n",
    "# Avoid division by zero, normalize, then replace NaNs with 0 (if a row was entirely 0)\n",
    "track_audio.loc[:, columns_to_impute] = track_audio[columns_to_impute].div(row_sums, axis=0).fillna(0)"
   ]
  },
  {
   "cell_type": "markdown",
   "metadata": {},
   "source": [
    "Temporary"
   ]
  },
  {
   "cell_type": "code",
   "execution_count": 159,
   "metadata": {},
   "outputs": [],
   "source": [
    "track_final = track_final.drop(columns=columns_to_impute)\n",
    "track_final = pd.merge(track_final, track_audio, on='track_idx', how='inner')"
   ]
  },
  {
   "cell_type": "markdown",
   "metadata": {},
   "source": [
    "**Version 1: Find Cosine Similarity to the Centroid Vector**\n",
    "\n",
    "\n",
    "Higher score means higher diversity <br><br>\n",
    "Lower score means lower divesity"
   ]
  },
  {
   "cell_type": "code",
   "execution_count": 160,
   "metadata": {},
   "outputs": [
    {
     "name": "stdout",
     "output_type": "stream",
     "text": [
      "   playlist_idx  avg_diversity_score\n",
      "0             0             0.355083\n",
      "1             1             0.448292\n",
      "2             2             0.383259\n",
      "3             3             0.420412\n",
      "4             4             0.456590\n"
     ]
    }
   ],
   "source": [
    "# Define the feature categories (for consistency with your approach)\n",
    "FEATURE_COLUMNS = [\n",
    "    \"Instrumental / Ambient Sounds\", \"Soft Acoustic / Classical\", \"Orchestral / Soundtrack\",\n",
    "    \"Mid-tempo Pop / Indie\", \"Upbeat Electronic / Dance\", \"Slow & Melancholic (Sad Songs)\",\n",
    "    \"Experimental / Jazz Fusion\", \"Lo-Fi / Chill Vibes\"\n",
    "]\n",
    "\n",
    "# Prepare result storage\n",
    "results = []\n",
    "\n",
    "# Assuming track_audio is a DataFrame with track_idx and audio feature columns\n",
    "# Convert track_audio DataFrame to dictionary mapping track_idx to audio features\n",
    "track_audio_dict = {str(track_audio['track_idx'].iloc[i]): track_audio.iloc[i, 1:].values for i in range(len(track_audio))}\n",
    "\n",
    "# Store centroids in a separate list for playlist_recco\n",
    "playlist_centroids = []\n",
    "\n",
    "# Iterate through each playlist in playlist_final\n",
    "for _, row in playlist_final.iterrows():\n",
    "    playlist_idx = row['playlist_idx']\n",
    "\n",
    "    # Ensure track_idx_list is a list of track ids\n",
    "    if isinstance(row['track_idx_list'], (list, np.ndarray)):\n",
    "        track_ids = [str(idx).strip() for idx in row['track_idx_list']]\n",
    "    else:\n",
    "        print(f\"Skipping Playlist {playlist_idx}: track_idx_list format not recognized.\")\n",
    "        continue\n",
    "\n",
    "    # Convert track_idx to integer and filter None values\n",
    "    track_ids_int = [int(idx) for idx in track_ids]\n",
    "    \n",
    "    # Extract audio feature vectors for tracks in the playlist (skip None values)\n",
    "    playlist_vectors = np.array([track_audio_dict.get(str(idx)) for idx in track_ids_int if track_audio_dict.get(str(idx)) is not None])\n",
    "\n",
    "    # Skip if no valid vectors found\n",
    "    if playlist_vectors.size == 0:\n",
    "        print(f\"Skipping Playlist {playlist_idx} (No valid vectors found)\")\n",
    "        continue  \n",
    "\n",
    "    # Compute the centroid (mean vector across audio feature space)\n",
    "    centroid = np.mean(playlist_vectors, axis=0)\n",
    "\n",
    "    # Store the centroid for playlist_recco\n",
    "    playlist_centroids.append({\n",
    "        'playlist_idx': playlist_idx,\n",
    "        'genre_centroid': centroid\n",
    "    })\n",
    "\n",
    "    # Handle single-track playlists (assign perfect dissimilarity)\n",
    "    if len(playlist_vectors) == 1:\n",
    "        cos_similarities = np.array([1.0])  # Cosine similarity with itself is 1\n",
    "    else:\n",
    "        cos_similarities = cosine_similarity(playlist_vectors, centroid.reshape(1, -1)).flatten()\n",
    "\n",
    "    # Store results (store 1 - similarity score for diversity interpretation)\n",
    "    for i, track_id in enumerate(track_ids_int):\n",
    "        results.append({\n",
    "            'playlist_idx': playlist_idx,\n",
    "            'track_idx': track_id,\n",
    "            'diversity_score': float(1 - cos_similarities[i]),  # 1 - cosine similarity for diversity\n",
    "        })\n",
    "\n",
    "# Convert results to a DataFrame\n",
    "results_df = pd.DataFrame(results)\n",
    "\n",
    "# Rename columns to lowercase with underscores instead of spaces\n",
    "results_df.columns = [col.replace(' ', '_').lower() for col in results_df.columns]\n",
    "\n",
    "# Group by playlist_idx and calculate the average diversity_score\n",
    "playlist_genre_avg_similarity = results_df.groupby('playlist_idx')['diversity_score'].mean().reset_index()\n",
    "\n",
    "# Rename the column to indicate it's the average diversity score\n",
    "playlist_genre_avg_similarity.columns = ['playlist_idx', 'avg_diversity_score']\n",
    "\n",
    "# Output the result\n",
    "print(playlist_genre_avg_similarity.head())\n",
    "\n",
    "playlist_centroids_df = pd.DataFrame(playlist_centroids)\n",
    "playlist_recco = pd.merge(playlist_recco, playlist_centroids_df, on='playlist_idx', how='left')"
   ]
  },
  {
   "cell_type": "markdown",
   "metadata": {},
   "source": [
    "**Version 2: Find Euclidean Distance to the Centroid Vector**\n",
    "\n",
    "Higher score means higher diversity <br><br>\n",
    "Lower score means lower divesity"
   ]
  },
  {
   "cell_type": "code",
   "execution_count": 161,
   "metadata": {},
   "outputs": [
    {
     "name": "stdout",
     "output_type": "stream",
     "text": [
      "   playlist_idx  avg_diversity_score\n",
      "0             0             0.578384\n",
      "1             1             0.653367\n",
      "2             2             0.598667\n",
      "3             3             0.618326\n",
      "4             4             0.656274\n"
     ]
    }
   ],
   "source": [
    "# Define the feature categories (for consistency with your approach)\n",
    "FEATURE_COLUMNS = [\n",
    "    \"Instrumental / Ambient Sounds\", \"Soft Acoustic / Classical\", \"Orchestral / Soundtrack\",\n",
    "    \"Mid-tempo Pop / Indie\", \"Upbeat Electronic / Dance\", \"Slow & Melancholic (Sad Songs)\",\n",
    "    \"Experimental / Jazz Fusion\", \"Lo-Fi / Chill Vibes\"\n",
    "]\n",
    "\n",
    "# Prepare result storage\n",
    "results = []\n",
    "\n",
    "# Assuming track_audio is a DataFrame with track_idx and audio feature columns\n",
    "# Convert track_audio DataFrame to dictionary mapping track_idx to audio features\n",
    "track_audio_dict = {str(track_audio['track_idx'].iloc[i]): track_audio.iloc[i, 1:].values for i in range(len(track_audio))}\n",
    "\n",
    "# Iterate through each playlist in playlist_final\n",
    "for _, row in playlist_final.iterrows():\n",
    "    playlist_idx = row['playlist_idx']\n",
    "\n",
    "    # Ensure track_idx_list is a list of track ids\n",
    "    if isinstance(row['track_idx_list'], (list, np.ndarray)):\n",
    "        track_ids = [str(idx).strip() for idx in row['track_idx_list']]\n",
    "    else:\n",
    "        print(f\"Skipping Playlist {playlist_idx}: track_idx_list format not recognized.\")\n",
    "        continue\n",
    "\n",
    "    # Convert track_idx to integer and filter None values\n",
    "    track_ids_int = [int(idx) for idx in track_ids]\n",
    "    \n",
    "    # Extract audio feature vectors for tracks in the playlist (skip None values)\n",
    "    playlist_vectors = np.array([track_audio_dict.get(str(idx)) for idx in track_ids_int if track_audio_dict.get(str(idx)) is not None])\n",
    "\n",
    "    # Skip if no valid vectors found\n",
    "    if playlist_vectors.size == 0:\n",
    "        print(f\"Skipping Playlist {playlist_idx} (No valid vectors found)\")\n",
    "        continue  \n",
    "\n",
    "    # Compute the centroid (mean vector across audio feature space)\n",
    "    centroid = np.mean(playlist_vectors, axis=0)\n",
    "\n",
    "    # Calculate Euclidean distance from each track vector to the centroid\n",
    "    for i, track_id in enumerate(track_ids_int):\n",
    "        vector = playlist_vectors[i]\n",
    "        distance = np.linalg.norm(vector - centroid)  # Euclidean distance\n",
    "\n",
    "        results.append({\n",
    "            'playlist_idx': playlist_idx,\n",
    "            'track_idx': track_id,\n",
    "            'diversity_score': float(distance),  # Higher distance → more diverse\n",
    "        })\n",
    "\n",
    "# Convert results to a DataFrame\n",
    "results_df = pd.DataFrame(results)\n",
    "\n",
    "# Rename columns to lowercase with underscores instead of spaces\n",
    "results_df.columns = [col.replace(' ', '_').lower() for col in results_df.columns]\n",
    "\n",
    "# Group by playlist_idx and calculate the average diversity_score\n",
    "playlist_genre_avg_distance = results_df.groupby('playlist_idx')['diversity_score'].mean().reset_index()\n",
    "\n",
    "# Rename the column to indicate it's the average diversity score\n",
    "playlist_genre_avg_distance.columns = ['playlist_idx', 'avg_diversity_score']\n",
    "\n",
    "# Output the result\n",
    "print(playlist_genre_avg_distance.head())"
   ]
  },
  {
   "cell_type": "markdown",
   "metadata": {},
   "source": [
    "Compare whether there is a significant difference in the 2 versions"
   ]
  },
  {
   "cell_type": "code",
   "execution_count": 162,
   "metadata": {},
   "outputs": [
    {
     "name": "stdout",
     "output_type": "stream",
     "text": [
      "Spearman Correlation: 0.9168 (p-value: 0.0000)\n",
      "Pearson Correlation: 0.9168 (p-value: 0.0000)\n"
     ]
    },
    {
     "data": {
      "image/png": "[encoded data removed]",
      "text/plain": [
       "<Figure size 800x600 with 1 Axes>"
      ]
     },
     "metadata": {},
     "output_type": "display_data"
    }
   ],
   "source": [
    "# Merge the two DataFrames on 'playlist_idx'\n",
    "comparison_df = playlist_genre_avg_similarity.merge(\n",
    "    playlist_genre_avg_distance, on='playlist_idx', suffixes=('_cosine', '_euclidean')\n",
    ")\n",
    "\n",
    "# Sort by both metrics to compare rankings\n",
    "comparison_df = comparison_df.sort_values(by='avg_diversity_score_cosine', ascending=False)\n",
    "\n",
    "# Assign ranks based on both metrics\n",
    "comparison_df['rank_cosine'] = comparison_df['avg_diversity_score_cosine'].rank(ascending=False)\n",
    "comparison_df['rank_euclidean'] = comparison_df['avg_diversity_score_euclidean'].rank(ascending=False)\n",
    "\n",
    "# Compute Spearman correlation (for ranked data)\n",
    "spearman_corr, spearman_pval = spearmanr(comparison_df['rank_cosine'], comparison_df['rank_euclidean'])\n",
    "\n",
    "# Compute Pearson correlation (for linear relationship)\n",
    "pearson_corr, pearson_pval = pearsonr(comparison_df['rank_cosine'], comparison_df['rank_euclidean'])\n",
    "\n",
    "# Print correlation results\n",
    "print(f\"Spearman Correlation: {spearman_corr:.4f} (p-value: {spearman_pval:.4f})\")\n",
    "print(f\"Pearson Correlation: {pearson_corr:.4f} (p-value: {pearson_pval:.4f})\")\n",
    "\n",
    "# Scatter plot\n",
    "plt.figure(figsize=(8, 6))\n",
    "sns.scatterplot(x=comparison_df['rank_cosine'], y=comparison_df['rank_euclidean'], alpha=0.7)\n",
    "\n",
    "# Plot identity line (y = x) for reference\n",
    "plt.plot([comparison_df['rank_cosine'].min(), comparison_df['rank_cosine'].max()], \n",
    "         [comparison_df['rank_cosine'].min(), comparison_df['rank_cosine'].max()], \n",
    "         linestyle='dashed', color='red', label='y = x')\n",
    "\n",
    "# Labels and title\n",
    "plt.xlabel('Rank (Cosine Similarity)')\n",
    "plt.ylabel('Rank (Euclidean Distance)')\n",
    "plt.title(f\"Rank Comparison Scatterplot\\n(Spearman: {spearman_corr:.4f}, Pearson: {pearson_corr:.4f})\")\n",
    "plt.legend()\n",
    "plt.grid(True)\n",
    "plt.show()"
   ]
  },
  {
   "cell_type": "markdown",
   "metadata": {},
   "source": [
    "This shows that it is fine to use either version 1 or version 2."
   ]
  },
  {
   "cell_type": "markdown",
   "metadata": {},
   "source": [
    "### Sentiment Diversity "
   ]
  },
  {
   "cell_type": "code",
   "execution_count": 163,
   "metadata": {},
   "outputs": [
    {
     "data": {
      "application/vnd.microsoft.datawrangler.viewer.v0+json": {
       "columns": [
        {
         "name": "index",
         "rawType": "int64",
         "type": "integer"
        },
        {
         "name": "track_idx",
         "rawType": "int64",
         "type": "integer"
        },
        {
         "name": "album_idx",
         "rawType": "int64",
         "type": "integer"
        },
        {
         "name": "artist_idx",
         "rawType": "int64",
         "type": "integer"
        },
        {
         "name": "joy",
         "rawType": "float64",
         "type": "float"
        },
        {
         "name": "calm",
         "rawType": "float64",
         "type": "float"
        },
        {
         "name": "sadness",
         "rawType": "float64",
         "type": "float"
        },
        {
         "name": "fear",
         "rawType": "float64",
         "type": "float"
        },
        {
         "name": "energizing",
         "rawType": "float64",
         "type": "float"
        },
        {
         "name": "dreamy",
         "rawType": "float64",
         "type": "float"
        }
       ],
       "conversionMethod": "pd.DataFrame",
       "ref": "0e251a33-ca7f-436c-9afa-d4267afd82eb",
       "rows": [
        [
         "0",
         "1",
         "19030",
         "26382",
         null,
         null,
         null,
         null,
         null,
         null
        ],
        [
         "1",
         "5",
         "45744",
         "38821",
         "0.1521130156596506",
         "0.1554185922848181",
         "0.1069748387126222",
         "0.2017603177332027",
         "0.1969683432978431",
         "0.1867648923118632"
        ],
        [
         "2",
         "15",
         "116350",
         "19124",
         "0.1622645629969697",
         "0.0301183106843771",
         "0.0021505599247816",
         "0.0086681682708995",
         "0.4293118781225806",
         "0.3674865200003911"
        ],
        [
         "3",
         "36",
         "88581",
         "35662",
         "0.2935499355290792",
         "0.1153695604791841",
         "0.0011145829114113",
         "0.0026804627248875",
         "0.2952202920529593",
         "0.2920651663024783"
        ],
        [
         "4",
         "38",
         "63597",
         "43820",
         "0.0053094373090576",
         "0.0185781887993989",
         "0.3061130396849413",
         "0.346906616734181",
         "0.1952833042231383",
         "0.1278094132492827"
        ]
       ],
       "shape": {
        "columns": 9,
        "rows": 5
       }
      },
      "text/html": [
       "<div>\n",
       "<style scoped>\n",
       "    .dataframe tbody tr th:only-of-type {\n",
       "        vertical-align: middle;\n",
       "    }\n",
       "\n",
       "    .dataframe tbody tr th {\n",
       "        vertical-align: top;\n",
       "    }\n",
       "\n",
       "    .dataframe thead th {\n",
       "        text-align: right;\n",
       "    }\n",
       "</style>\n",
       "<table border=\"1\" class=\"dataframe\">\n",
       "  <thead>\n",
       "    <tr style=\"text-align: right;\">\n",
       "      <th></th>\n",
       "      <th>track_idx</th>\n",
       "      <th>album_idx</th>\n",
       "      <th>artist_idx</th>\n",
       "      <th>joy</th>\n",
       "      <th>calm</th>\n",
       "      <th>sadness</th>\n",
       "      <th>fear</th>\n",
       "      <th>energizing</th>\n",
       "      <th>dreamy</th>\n",
       "    </tr>\n",
       "  </thead>\n",
       "  <tbody>\n",
       "    <tr>\n",
       "      <th>0</th>\n",
       "      <td>1</td>\n",
       "      <td>19030</td>\n",
       "      <td>26382</td>\n",
       "      <td>NaN</td>\n",
       "      <td>NaN</td>\n",
       "      <td>NaN</td>\n",
       "      <td>NaN</td>\n",
       "      <td>NaN</td>\n",
       "      <td>NaN</td>\n",
       "    </tr>\n",
       "    <tr>\n",
       "      <th>1</th>\n",
       "      <td>5</td>\n",
       "      <td>45744</td>\n",
       "      <td>38821</td>\n",
       "      <td>0.152113</td>\n",
       "      <td>0.155419</td>\n",
       "      <td>0.106975</td>\n",
       "      <td>0.201760</td>\n",
       "      <td>0.196968</td>\n",
       "      <td>0.186765</td>\n",
       "    </tr>\n",
       "    <tr>\n",
       "      <th>2</th>\n",
       "      <td>15</td>\n",
       "      <td>116350</td>\n",
       "      <td>19124</td>\n",
       "      <td>0.162265</td>\n",
       "      <td>0.030118</td>\n",
       "      <td>0.002151</td>\n",
       "      <td>0.008668</td>\n",
       "      <td>0.429312</td>\n",
       "      <td>0.367487</td>\n",
       "    </tr>\n",
       "    <tr>\n",
       "      <th>3</th>\n",
       "      <td>36</td>\n",
       "      <td>88581</td>\n",
       "      <td>35662</td>\n",
       "      <td>0.293550</td>\n",
       "      <td>0.115370</td>\n",
       "      <td>0.001115</td>\n",
       "      <td>0.002680</td>\n",
       "      <td>0.295220</td>\n",
       "      <td>0.292065</td>\n",
       "    </tr>\n",
       "    <tr>\n",
       "      <th>4</th>\n",
       "      <td>38</td>\n",
       "      <td>63597</td>\n",
       "      <td>43820</td>\n",
       "      <td>0.005309</td>\n",
       "      <td>0.018578</td>\n",
       "      <td>0.306113</td>\n",
       "      <td>0.346907</td>\n",
       "      <td>0.195283</td>\n",
       "      <td>0.127809</td>\n",
       "    </tr>\n",
       "  </tbody>\n",
       "</table>\n",
       "</div>"
      ],
      "text/plain": [
       "   track_idx  album_idx  artist_idx       joy      calm   sadness      fear  \\\n",
       "0          1      19030       26382       NaN       NaN       NaN       NaN   \n",
       "1          5      45744       38821  0.152113  0.155419  0.106975  0.201760   \n",
       "2         15     116350       19124  0.162265  0.030118  0.002151  0.008668   \n",
       "3         36      88581       35662  0.293550  0.115370  0.001115  0.002680   \n",
       "4         38      63597       43820  0.005309  0.018578  0.306113  0.346907   \n",
       "\n",
       "   energizing    dreamy  \n",
       "0         NaN       NaN  \n",
       "1    0.196968  0.186765  \n",
       "2    0.429312  0.367487  \n",
       "3    0.295220  0.292065  \n",
       "4    0.195283  0.127809  "
      ]
     },
     "execution_count": 163,
     "metadata": {},
     "output_type": "execute_result"
    }
   ],
   "source": [
    "track_sentiment = track_final[['track_idx', 'album_idx', 'artist_idx', \"joy\", \"calm\", \"sadness\", \"fear\", \"energizing\", \"dreamy\"]]\n",
    "track_sentiment.head()"
   ]
  },
  {
   "cell_type": "markdown",
   "metadata": {},
   "source": [
    "Impute Missing Data (NEEDED FOR FINAL ONE)"
   ]
  },
  {
   "cell_type": "code",
   "execution_count": 164,
   "metadata": {},
   "outputs": [
    {
     "name": "stdout",
     "output_type": "stream",
     "text": [
      "Imputed 939 rows using the album mean.\n",
      "Imputed 1517 rows using the artist mean.\n",
      "Imputed 3724 rows using the global mean.\n",
      "Remaining missing rows: 0\n"
     ]
    }
   ],
   "source": [
    "# Define columns to impute\n",
    "sentiment_columns = [\"joy\", \"calm\", \"sadness\", \"fear\", \"energizing\", \"dreamy\"]\n",
    "\n",
    "# Step 1: Impute missing values using the mean of the same album\n",
    "before_imputation_album = track_sentiment[sentiment_columns].isna().sum().sum()\n",
    "track_sentiment.loc[:, sentiment_columns] = track_sentiment.groupby(\"album_idx\")[sentiment_columns].transform(lambda x: x.fillna(x.mean()))\n",
    "after_imputation_album = track_sentiment[sentiment_columns].isna().sum().sum()\n",
    "imputed_album = before_imputation_album - after_imputation_album\n",
    "print(f\"Imputed {int(imputed_album / 6)} rows using the album mean.\")\n",
    "\n",
    "# Step 2: Impute missing values using the mean of the same artist (if still missing)\n",
    "before_imputation_artist = track_sentiment[sentiment_columns].isna().sum().sum()\n",
    "track_sentiment.loc[:, sentiment_columns] = track_sentiment.groupby(\"artist_idx\")[sentiment_columns].transform(lambda x: x.fillna(x.mean()))\n",
    "after_imputation_artist = track_sentiment[sentiment_columns].isna().sum().sum()\n",
    "imputed_artist = before_imputation_artist - after_imputation_artist\n",
    "print(f\"Imputed {int(imputed_artist / 6)} rows using the artist mean.\")\n",
    "\n",
    "# Step 3: Impute remaining missing values using the global mean\n",
    "before_imputation_global = track_sentiment[sentiment_columns].isna().sum().sum()\n",
    "track_sentiment.loc[:, sentiment_columns] = track_sentiment[sentiment_columns].fillna(track_sentiment[sentiment_columns].mean())\n",
    "after_imputation_global = track_sentiment[sentiment_columns].isna().sum().sum()\n",
    "imputed_global = before_imputation_global - after_imputation_global\n",
    "print(f\"Imputed {int(imputed_global / 6)} rows using the global mean.\")\n",
    "\n",
    "# Verify if any missing values remain\n",
    "remaining_missing = track_sentiment[sentiment_columns].isna().sum().sum()\n",
    "print(f\"Remaining missing rows: {remaining_missing}\")\n",
    "\n",
    "# Normalize the rows so that the sum of each row equals 1\n",
    "track_sentiment.loc[:, sentiment_columns] = track_sentiment[sentiment_columns].div(track_sentiment[sentiment_columns].sum(axis=1), axis=0)\n",
    "\n",
    "track_sentiment = track_sentiment.drop(columns=['artist_idx', 'album_idx'])"
   ]
  },
  {
   "cell_type": "markdown",
   "metadata": {},
   "source": [
    "Temporary"
   ]
  },
  {
   "cell_type": "code",
   "execution_count": 165,
   "metadata": {},
   "outputs": [],
   "source": [
    "track_final = track_final.drop(columns=sentiment_columns)\n",
    "track_final = pd.merge(track_final, track_sentiment, on='track_idx', how='inner')\n",
    "track_final = track_final.drop(columns=['track_uri'])"
   ]
  },
  {
   "cell_type": "markdown",
   "metadata": {},
   "source": [
    "**Version 1: Find Cosine Similarity to the Centroid Vector**\n",
    "\n",
    "\n",
    "Higher score means higher diversity <br><br>\n",
    "Lower score means lower divesity"
   ]
  },
  {
   "cell_type": "code",
   "execution_count": 166,
   "metadata": {},
   "outputs": [
    {
     "name": "stdout",
     "output_type": "stream",
     "text": [
      "   playlist_idx  avg_diversity_score\n",
      "0             0             0.023825\n",
      "1             1             0.044908\n",
      "2             2             0.060603\n",
      "3             3             0.091026\n",
      "4             4             0.077807\n"
     ]
    }
   ],
   "source": [
    "# Define the sentiment columns\n",
    "SENTIMENT_COLUMNS = [\"joy\", \"calm\", \"sadness\", \"fear\", \"energizing\", \"dreamy\"]\n",
    "\n",
    "# Prepare result storage\n",
    "results = []\n",
    "\n",
    "# Assuming track_sentiment is a DataFrame with track_idx and sentiment feature columns\n",
    "# Convert track_sentiment DataFrame to dictionary mapping track_idx to sentiment features\n",
    "track_sentiment_dict = {str(track_sentiment['track_idx'].iloc[i]): track_sentiment.iloc[i, 1:].values for i in range(len(track_sentiment))}\n",
    "\n",
    "# Store centroids in a separate list for playlist_recco\n",
    "playlist_sentiment_centroids = []\n",
    "\n",
    "# Iterate through each playlist in playlist_final\n",
    "for _, row in playlist_final.iterrows():\n",
    "    playlist_idx = row['playlist_idx']\n",
    "\n",
    "    # Ensure track_idx_list is a list of track ids\n",
    "    if isinstance(row['track_idx_list'], (list, np.ndarray)):\n",
    "        track_ids = [str(idx).strip() for idx in row['track_idx_list']]\n",
    "    else:\n",
    "        print(f\"Skipping Playlist {playlist_idx}: track_idx_list format not recognized.\")\n",
    "        continue\n",
    "\n",
    "    # Convert track_idx to integer and filter None values\n",
    "    track_ids_int = [int(idx) for idx in track_ids]\n",
    "    \n",
    "    # Extract sentiment feature vectors for tracks in the playlist (skip None values)\n",
    "    playlist_vectors = np.array([track_sentiment_dict.get(str(idx)) for idx in track_ids_int if track_sentiment_dict.get(str(idx)) is not None])\n",
    "\n",
    "    # Skip if no valid vectors found\n",
    "    if playlist_vectors.size == 0:\n",
    "        print(f\"Skipping Playlist {playlist_idx} (No valid vectors found)\")\n",
    "        continue  \n",
    "\n",
    "    # Compute the centroid (mean vector across sentiment feature space)\n",
    "    centroid = np.mean(playlist_vectors, axis=0)\n",
    "\n",
    "    # Store the centroid for playlist_recco\n",
    "    playlist_sentiment_centroids.append({\n",
    "        'playlist_idx': playlist_idx,\n",
    "        'sentiment_centroid': centroid\n",
    "    })\n",
    "\n",
    "    # Handle single-track playlists (assign perfect dissimilarity)\n",
    "    if len(playlist_vectors) == 1:\n",
    "        cos_similarities = np.array([1.0])  # Cosine similarity with itself is 1\n",
    "    else:\n",
    "        cos_similarities = cosine_similarity(playlist_vectors, centroid.reshape(1, -1)).flatten()\n",
    "\n",
    "    # Store results (store 1 - similarity score for diversity interpretation)\n",
    "    for i, track_id in enumerate(track_ids_int):\n",
    "        results.append({\n",
    "            'playlist_idx': playlist_idx,\n",
    "            'track_idx': track_id,\n",
    "            'diversity_score': float(1 - cos_similarities[i]),  # 1 - cosine similarity for diversity\n",
    "        })\n",
    "\n",
    "# Convert results to a DataFrame\n",
    "results_df = pd.DataFrame(results)\n",
    "\n",
    "# Rename columns to lowercase with underscores instead of spaces\n",
    "results_df.columns = [col.replace(' ', '_').lower() for col in results_df.columns]\n",
    "\n",
    "# Group by playlist_idx and calculate the average diversity_score\n",
    "playlist_sentiment_avg_similarity = results_df.groupby('playlist_idx')['diversity_score'].mean().reset_index()\n",
    "\n",
    "# Rename the column to indicate it's the average diversity score\n",
    "playlist_sentiment_avg_similarity.columns = ['playlist_idx', 'avg_diversity_score']\n",
    "\n",
    "# Output the result\n",
    "print(playlist_sentiment_avg_similarity.head())\n",
    "\n",
    "playlist_sentiment_centroids_df = pd.DataFrame(playlist_sentiment_centroids)\n",
    "playlist_recco = pd.merge(playlist_recco, playlist_sentiment_centroids_df, on='playlist_idx', how='left')"
   ]
  },
  {
   "cell_type": "markdown",
   "metadata": {},
   "source": [
    "**Version 2: Find Euclidean Distance to the Centroid Vector**\n",
    "\n",
    "Higher score means higher diversity <br><br>\n",
    "Lower score means lower divesity"
   ]
  },
  {
   "cell_type": "code",
   "execution_count": 167,
   "metadata": {},
   "outputs": [
    {
     "name": "stdout",
     "output_type": "stream",
     "text": [
      "   playlist_idx  avg_diversity_score\n",
      "0             0             0.102637\n",
      "1             1             0.127156\n",
      "2             2             0.152231\n",
      "3             3             0.197187\n",
      "4             4             0.193841\n"
     ]
    }
   ],
   "source": [
    "# Define the sentiment columns\n",
    "SENTIMENT_COLUMNS = [\"joy\", \"calm\", \"sadness\", \"fear\", \"energizing\", \"dreamy\"]\n",
    "\n",
    "# Prepare result storage\n",
    "results = []\n",
    "\n",
    "# Assuming track_sentiment is a DataFrame with track_idx and sentiment feature columns\n",
    "# Convert track_sentiment DataFrame to dictionary mapping track_idx to sentiment features\n",
    "track_sentiment_dict = {str(track_sentiment['track_idx'].iloc[i]): track_sentiment.iloc[i, 1:].values for i in range(len(track_sentiment))}\n",
    "\n",
    "# Iterate through each playlist in playlist_final\n",
    "for _, row in playlist_final.iterrows():\n",
    "    playlist_idx = row['playlist_idx']\n",
    "\n",
    "    # Ensure track_idx_list is a list of track ids\n",
    "    if isinstance(row['track_idx_list'], (list, np.ndarray)):\n",
    "        track_ids = [str(idx).strip() for idx in row['track_idx_list']]\n",
    "    else:\n",
    "        print(f\"Skipping Playlist {playlist_idx}: track_idx_list format not recognized.\")\n",
    "        continue\n",
    "\n",
    "    # Convert track_idx to integer and filter None values\n",
    "    track_ids_int = [int(idx) for idx in track_ids]\n",
    "    \n",
    "    # Extract sentiment feature vectors for tracks in the playlist (skip None values)\n",
    "    playlist_vectors = np.array([track_sentiment_dict.get(str(idx)) for idx in track_ids_int if track_sentiment_dict.get(str(idx)) is not None])\n",
    "\n",
    "    # Skip if no valid vectors found\n",
    "    if playlist_vectors.size == 0:\n",
    "        print(f\"Skipping Playlist {playlist_idx} (No valid vectors found)\")\n",
    "        continue  \n",
    "\n",
    "    # Compute the centroid (mean vector across sentiment feature space)\n",
    "    centroid = np.mean(playlist_vectors, axis=0)\n",
    "\n",
    "    # Calculate Euclidean distance from each track vector to the centroid\n",
    "    for i, track_id in enumerate(track_ids_int):\n",
    "        vector = playlist_vectors[i]\n",
    "        distance = np.linalg.norm(vector - centroid)  # Euclidean distance\n",
    "\n",
    "        results.append({\n",
    "            'playlist_idx': playlist_idx,\n",
    "            'track_idx': track_id,\n",
    "            'diversity_score': float(distance),  # Higher distance → more diverse\n",
    "        })\n",
    "\n",
    "# Convert results to a DataFrame\n",
    "playlist_sentiment_avg_distance = pd.DataFrame(results)\n",
    "\n",
    "# Rename columns to lowercase with underscores instead of spaces\n",
    "playlist_sentiment_avg_distance.columns = [col.replace(' ', '_').lower() for col in playlist_sentiment_avg_distance.columns]\n",
    "\n",
    "# Group by playlist_idx and calculate the average diversity_score\n",
    "playlist_sentiment_avg_distance = playlist_sentiment_avg_distance.groupby('playlist_idx')['diversity_score'].mean().reset_index()\n",
    "\n",
    "# Rename the column to indicate it's the average diversity score\n",
    "playlist_sentiment_avg_distance.columns = ['playlist_idx', 'avg_diversity_score']\n",
    "\n",
    "# Output the result\n",
    "print(playlist_sentiment_avg_distance.head())"
   ]
  },
  {
   "cell_type": "markdown",
   "metadata": {},
   "source": [
    "Compare whether there is a significant difference in the 2 versions"
   ]
  },
  {
   "cell_type": "code",
   "execution_count": 168,
   "metadata": {},
   "outputs": [
    {
     "name": "stdout",
     "output_type": "stream",
     "text": [
      "Spearman Correlation: 0.9868 (p-value: 0.0000)\n",
      "Pearson Correlation: 0.9868 (p-value: 0.0000)\n"
     ]
    },
    {
     "data": {
      "image/png": "[encoded data removed]",
      "text/plain": [
       "<Figure size 800x600 with 1 Axes>"
      ]
     },
     "metadata": {},
     "output_type": "display_data"
    }
   ],
   "source": [
    "# Merge the two DataFrames on 'playlist_idx'\n",
    "comparison_df = playlist_sentiment_avg_similarity.merge(\n",
    "    playlist_sentiment_avg_distance, on='playlist_idx', suffixes=('_cosine', '_euclidean')\n",
    ")\n",
    "\n",
    "# Sort by both metrics to compare rankings\n",
    "comparison_df = comparison_df.sort_values(by='avg_diversity_score_cosine', ascending=False)\n",
    "\n",
    "# Assign ranks based on both metrics\n",
    "comparison_df['rank_cosine'] = comparison_df['avg_diversity_score_cosine'].rank(ascending=False)\n",
    "comparison_df['rank_euclidean'] = comparison_df['avg_diversity_score_euclidean'].rank(ascending=False)\n",
    "\n",
    "# Compute Spearman correlation (for ranked data)\n",
    "spearman_corr, spearman_pval = spearmanr(comparison_df['rank_cosine'], comparison_df['rank_euclidean'])\n",
    "\n",
    "# Compute Pearson correlation (for linear relationship)\n",
    "pearson_corr, pearson_pval = pearsonr(comparison_df['rank_cosine'], comparison_df['rank_euclidean'])\n",
    "\n",
    "# Print correlation results\n",
    "print(f\"Spearman Correlation: {spearman_corr:.4f} (p-value: {spearman_pval:.4f})\")\n",
    "print(f\"Pearson Correlation: {pearson_corr:.4f} (p-value: {pearson_pval:.4f})\")\n",
    "\n",
    "# Scatter plot\n",
    "plt.figure(figsize=(8, 6))\n",
    "sns.scatterplot(x=comparison_df['rank_cosine'], y=comparison_df['rank_euclidean'], alpha=0.7)\n",
    "\n",
    "# Plot identity line (y = x) for reference\n",
    "plt.plot([comparison_df['rank_cosine'].min(), comparison_df['rank_cosine'].max()], \n",
    "         [comparison_df['rank_cosine'].min(), comparison_df['rank_cosine'].max()], \n",
    "         linestyle='dashed', color='red', label='y = x')\n",
    "\n",
    "# Labels and title\n",
    "plt.xlabel('Rank (Cosine Similarity)')\n",
    "plt.ylabel('Rank (Euclidean Distance)')\n",
    "plt.title(f\"Rank Comparison Scatterplot\\n(Spearman: {spearman_corr:.4f}, Pearson: {pearson_corr:.4f})\")\n",
    "plt.legend()\n",
    "plt.grid(True)\n",
    "plt.show()"
   ]
  },
  {
   "cell_type": "markdown",
   "metadata": {},
   "source": [
    "This shows that it is fine to use either version 1 or version 2."
   ]
  },
  {
   "cell_type": "markdown",
   "metadata": {},
   "source": [
    "# Combine Datasets"
   ]
  },
  {
   "cell_type": "markdown",
   "metadata": {},
   "source": [
    "Version 1 (Using Cosine Similarity)"
   ]
  },
  {
   "cell_type": "code",
   "execution_count": 169,
   "metadata": {},
   "outputs": [
    {
     "data": {
      "application/vnd.microsoft.datawrangler.viewer.v0+json": {
       "columns": [
        {
         "name": "index",
         "rawType": "int64",
         "type": "integer"
        },
        {
         "name": "playlist_idx",
         "rawType": "int64",
         "type": "integer"
        },
        {
         "name": "popularity_diversity",
         "rawType": "float64",
         "type": "float"
        },
        {
         "name": "artist_diversity",
         "rawType": "float64",
         "type": "float"
        },
        {
         "name": "length_diversity",
         "rawType": "float64",
         "type": "float"
        },
        {
         "name": "era_diversity",
         "rawType": "float64",
         "type": "float"
        },
        {
         "name": "sentiment_diversity",
         "rawType": "float64",
         "type": "float"
        },
        {
         "name": "genre_diversity",
         "rawType": "float64",
         "type": "float"
        }
       ],
       "conversionMethod": "pd.DataFrame",
       "ref": "73b4be1d-0ace-44f0-bdb8-533e4ae9f3a4",
       "rows": [
        [
         "0",
         "0",
         "658.67",
         "2.1280852788913944",
         "0.9852281360342631",
         "4.618527782440651e-14",
         "0.023824931300002714",
         "0.3550831632920423"
        ],
        [
         "1",
         "1",
         "834.42",
         "5.136248672727249",
         "1.1254908068679137",
         "4.618527782440651e-14",
         "0.044908136226294595",
         "0.448292030045529"
        ],
        [
         "2",
         "2",
         "300.85",
         "4.321928094887363",
         "1.5128876215181604",
         "1.85771746913016",
         "0.060603061537685875",
         "0.38325852159718954"
        ],
        [
         "3",
         "3",
         "776.5",
         "5.760647923290099",
         "1.483120215737592",
         "1.6631347745724447",
         "0.0910256190855822",
         "0.4204124982802748"
        ],
        [
         "4",
         "4",
         "365.06",
         "5.004920556037501",
         "0.9090221560878264",
         "0.35678001438397794",
         "0.07780655768940757",
         "0.456590356058361"
        ]
       ],
       "shape": {
        "columns": 7,
        "rows": 5
       }
      },
      "text/html": [
       "<div>\n",
       "<style scoped>\n",
       "    .dataframe tbody tr th:only-of-type {\n",
       "        vertical-align: middle;\n",
       "    }\n",
       "\n",
       "    .dataframe tbody tr th {\n",
       "        vertical-align: top;\n",
       "    }\n",
       "\n",
       "    .dataframe thead th {\n",
       "        text-align: right;\n",
       "    }\n",
       "</style>\n",
       "<table border=\"1\" class=\"dataframe\">\n",
       "  <thead>\n",
       "    <tr style=\"text-align: right;\">\n",
       "      <th></th>\n",
       "      <th>playlist_idx</th>\n",
       "      <th>popularity_diversity</th>\n",
       "      <th>artist_diversity</th>\n",
       "      <th>length_diversity</th>\n",
       "      <th>era_diversity</th>\n",
       "      <th>sentiment_diversity</th>\n",
       "      <th>genre_diversity</th>\n",
       "    </tr>\n",
       "  </thead>\n",
       "  <tbody>\n",
       "    <tr>\n",
       "      <th>0</th>\n",
       "      <td>0</td>\n",
       "      <td>658.67</td>\n",
       "      <td>2.128085</td>\n",
       "      <td>0.985228</td>\n",
       "      <td>4.618528e-14</td>\n",
       "      <td>0.023825</td>\n",
       "      <td>0.355083</td>\n",
       "    </tr>\n",
       "    <tr>\n",
       "      <th>1</th>\n",
       "      <td>1</td>\n",
       "      <td>834.42</td>\n",
       "      <td>5.136249</td>\n",
       "      <td>1.125491</td>\n",
       "      <td>4.618528e-14</td>\n",
       "      <td>0.044908</td>\n",
       "      <td>0.448292</td>\n",
       "    </tr>\n",
       "    <tr>\n",
       "      <th>2</th>\n",
       "      <td>2</td>\n",
       "      <td>300.85</td>\n",
       "      <td>4.321928</td>\n",
       "      <td>1.512888</td>\n",
       "      <td>1.857717e+00</td>\n",
       "      <td>0.060603</td>\n",
       "      <td>0.383259</td>\n",
       "    </tr>\n",
       "    <tr>\n",
       "      <th>3</th>\n",
       "      <td>3</td>\n",
       "      <td>776.50</td>\n",
       "      <td>5.760648</td>\n",
       "      <td>1.483120</td>\n",
       "      <td>1.663135e+00</td>\n",
       "      <td>0.091026</td>\n",
       "      <td>0.420412</td>\n",
       "    </tr>\n",
       "    <tr>\n",
       "      <th>4</th>\n",
       "      <td>4</td>\n",
       "      <td>365.06</td>\n",
       "      <td>5.004921</td>\n",
       "      <td>0.909022</td>\n",
       "      <td>3.567800e-01</td>\n",
       "      <td>0.077807</td>\n",
       "      <td>0.456590</td>\n",
       "    </tr>\n",
       "  </tbody>\n",
       "</table>\n",
       "</div>"
      ],
      "text/plain": [
       "   playlist_idx  popularity_diversity  artist_diversity  length_diversity  \\\n",
       "0             0                658.67          2.128085          0.985228   \n",
       "1             1                834.42          5.136249          1.125491   \n",
       "2             2                300.85          4.321928          1.512888   \n",
       "3             3                776.50          5.760648          1.483120   \n",
       "4             4                365.06          5.004921          0.909022   \n",
       "\n",
       "   era_diversity  sentiment_diversity  genre_diversity  \n",
       "0   4.618528e-14             0.023825         0.355083  \n",
       "1   4.618528e-14             0.044908         0.448292  \n",
       "2   1.857717e+00             0.060603         0.383259  \n",
       "3   1.663135e+00             0.091026         0.420412  \n",
       "4   3.567800e-01             0.077807         0.456590  "
      ]
     },
     "execution_count": 169,
     "metadata": {},
     "output_type": "execute_result"
    }
   ],
   "source": [
    "# Merge playlist_final with playlist_sentiment_avg_similarity on playlist_idx\n",
    "merged_playlist_sentiment_v1 = playlist_final.merge(playlist_sentiment_avg_similarity, on='playlist_idx', how='left')\n",
    "\n",
    "# Rename the column, e.g., 'avg_diversity_score' to 'sentiment_avg_diversity_score'\n",
    "merged_playlist_sentiment_v1 = merged_playlist_sentiment_v1.rename(columns={\n",
    "    'avg_diversity_score': 'sentiment_diversity'\n",
    "})\n",
    "\n",
    "# Merge the result with playlist_genre_avg_similarity on playlist_idx\n",
    "playlist_for_testing_version1_cosine_similarity = merged_playlist_sentiment_v1.merge(playlist_genre_avg_similarity, on='playlist_idx', how='left')\n",
    "\n",
    "playlist_for_testing_version1_cosine_similarity = playlist_for_testing_version1_cosine_similarity.rename(columns={\n",
    "    'popularity_var': 'popularity_diversity',\n",
    "    'duration_var': 'length_diversity',\n",
    "    'era_var' : 'era_diversity',\n",
    "    'avg_diversity_score': 'genre_diversity'\n",
    "})\n",
    "\n",
    "playlist_for_testing_version1_cosine_similarity = playlist_for_testing_version1_cosine_similarity.drop(columns=['track_idx_list'])\n",
    "\n",
    "# Output the first few rows of the merged dataframe\n",
    "playlist_for_testing_version1_cosine_similarity.head()"
   ]
  },
  {
   "cell_type": "markdown",
   "metadata": {},
   "source": [
    "Version 2 (Using Euclidean Distance)"
   ]
  },
  {
   "cell_type": "code",
   "execution_count": 170,
   "metadata": {},
   "outputs": [
    {
     "data": {
      "application/vnd.microsoft.datawrangler.viewer.v0+json": {
       "columns": [
        {
         "name": "index",
         "rawType": "int64",
         "type": "integer"
        },
        {
         "name": "playlist_idx",
         "rawType": "int64",
         "type": "integer"
        },
        {
         "name": "popularity_diversity",
         "rawType": "float64",
         "type": "float"
        },
        {
         "name": "artist_diversity",
         "rawType": "float64",
         "type": "float"
        },
        {
         "name": "length_diversity",
         "rawType": "float64",
         "type": "float"
        },
        {
         "name": "era_diversity",
         "rawType": "float64",
         "type": "float"
        },
        {
         "name": "sentiment_diversity",
         "rawType": "float64",
         "type": "float"
        },
        {
         "name": "genre_diversity",
         "rawType": "float64",
         "type": "float"
        }
       ],
       "conversionMethod": "pd.DataFrame",
       "ref": "7418e52c-1075-4366-b0a9-c0e09d86db22",
       "rows": [
        [
         "0",
         "0",
         "658.67",
         "2.1280852788913944",
         "0.9852281360342631",
         "4.618527782440651e-14",
         "0.10263689989796212",
         "0.578383590937931"
        ],
        [
         "1",
         "1",
         "834.42",
         "5.136248672727249",
         "1.1254908068679137",
         "4.618527782440651e-14",
         "0.12715641036503478",
         "0.6533671567498347"
        ],
        [
         "2",
         "2",
         "300.85",
         "4.321928094887363",
         "1.5128876215181604",
         "1.85771746913016",
         "0.15223134632521834",
         "0.598666865130849"
        ],
        [
         "3",
         "3",
         "776.5",
         "5.760647923290099",
         "1.483120215737592",
         "1.6631347745724447",
         "0.19718705959678418",
         "0.6183256420520934"
        ],
        [
         "4",
         "4",
         "365.06",
         "5.004920556037501",
         "0.9090221560878264",
         "0.35678001438397794",
         "0.19384135804110955",
         "0.6562736199697308"
        ]
       ],
       "shape": {
        "columns": 7,
        "rows": 5
       }
      },
      "text/html": [
       "<div>\n",
       "<style scoped>\n",
       "    .dataframe tbody tr th:only-of-type {\n",
       "        vertical-align: middle;\n",
       "    }\n",
       "\n",
       "    .dataframe tbody tr th {\n",
       "        vertical-align: top;\n",
       "    }\n",
       "\n",
       "    .dataframe thead th {\n",
       "        text-align: right;\n",
       "    }\n",
       "</style>\n",
       "<table border=\"1\" class=\"dataframe\">\n",
       "  <thead>\n",
       "    <tr style=\"text-align: right;\">\n",
       "      <th></th>\n",
       "      <th>playlist_idx</th>\n",
       "      <th>popularity_diversity</th>\n",
       "      <th>artist_diversity</th>\n",
       "      <th>length_diversity</th>\n",
       "      <th>era_diversity</th>\n",
       "      <th>sentiment_diversity</th>\n",
       "      <th>genre_diversity</th>\n",
       "    </tr>\n",
       "  </thead>\n",
       "  <tbody>\n",
       "    <tr>\n",
       "      <th>0</th>\n",
       "      <td>0</td>\n",
       "      <td>658.67</td>\n",
       "      <td>2.128085</td>\n",
       "      <td>0.985228</td>\n",
       "      <td>4.618528e-14</td>\n",
       "      <td>0.102637</td>\n",
       "      <td>0.578384</td>\n",
       "    </tr>\n",
       "    <tr>\n",
       "      <th>1</th>\n",
       "      <td>1</td>\n",
       "      <td>834.42</td>\n",
       "      <td>5.136249</td>\n",
       "      <td>1.125491</td>\n",
       "      <td>4.618528e-14</td>\n",
       "      <td>0.127156</td>\n",
       "      <td>0.653367</td>\n",
       "    </tr>\n",
       "    <tr>\n",
       "      <th>2</th>\n",
       "      <td>2</td>\n",
       "      <td>300.85</td>\n",
       "      <td>4.321928</td>\n",
       "      <td>1.512888</td>\n",
       "      <td>1.857717e+00</td>\n",
       "      <td>0.152231</td>\n",
       "      <td>0.598667</td>\n",
       "    </tr>\n",
       "    <tr>\n",
       "      <th>3</th>\n",
       "      <td>3</td>\n",
       "      <td>776.50</td>\n",
       "      <td>5.760648</td>\n",
       "      <td>1.483120</td>\n",
       "      <td>1.663135e+00</td>\n",
       "      <td>0.197187</td>\n",
       "      <td>0.618326</td>\n",
       "    </tr>\n",
       "    <tr>\n",
       "      <th>4</th>\n",
       "      <td>4</td>\n",
       "      <td>365.06</td>\n",
       "      <td>5.004921</td>\n",
       "      <td>0.909022</td>\n",
       "      <td>3.567800e-01</td>\n",
       "      <td>0.193841</td>\n",
       "      <td>0.656274</td>\n",
       "    </tr>\n",
       "  </tbody>\n",
       "</table>\n",
       "</div>"
      ],
      "text/plain": [
       "   playlist_idx  popularity_diversity  artist_diversity  length_diversity  \\\n",
       "0             0                658.67          2.128085          0.985228   \n",
       "1             1                834.42          5.136249          1.125491   \n",
       "2             2                300.85          4.321928          1.512888   \n",
       "3             3                776.50          5.760648          1.483120   \n",
       "4             4                365.06          5.004921          0.909022   \n",
       "\n",
       "   era_diversity  sentiment_diversity  genre_diversity  \n",
       "0   4.618528e-14             0.102637         0.578384  \n",
       "1   4.618528e-14             0.127156         0.653367  \n",
       "2   1.857717e+00             0.152231         0.598667  \n",
       "3   1.663135e+00             0.197187         0.618326  \n",
       "4   3.567800e-01             0.193841         0.656274  "
      ]
     },
     "execution_count": 170,
     "metadata": {},
     "output_type": "execute_result"
    }
   ],
   "source": [
    "# Merge playlist_final with playlist_sentiment_avg_similarity on playlist_idx\n",
    "merged_playlist_sentiment_v2 = playlist_final.merge(playlist_sentiment_avg_distance, on='playlist_idx', how='left')\n",
    "\n",
    "# Rename the column, e.g., 'avg_diversity_score' to 'sentiment_avg_diversity_score'\n",
    "merged_playlist_sentiment_v2 = merged_playlist_sentiment_v2.rename(columns={\n",
    "    'avg_diversity_score': 'sentiment_diversity'\n",
    "})\n",
    "\n",
    "# Merge the result with playlist_genre_avg_similarity on playlist_idx\n",
    "playlist_for_testing_version2_euclidean_distance = merged_playlist_sentiment_v2.merge(playlist_genre_avg_distance, on='playlist_idx', how='left')\n",
    "\n",
    "playlist_for_testing_version2_euclidean_distance = playlist_for_testing_version2_euclidean_distance.rename(columns={\n",
    "    'popularity_var': 'popularity_diversity',\n",
    "    'duration_var': 'length_diversity',\n",
    "    'era_var' : 'era_diversity',\n",
    "    'avg_diversity_score': 'genre_diversity'\n",
    "})\n",
    "\n",
    "playlist_for_testing_version2_euclidean_distance = playlist_for_testing_version2_euclidean_distance.drop(columns=['track_idx_list'])\n",
    "\n",
    "# Output the first few rows of the merged dataframe\n",
    "playlist_for_testing_version2_euclidean_distance.head()"
   ]
  },
  {
   "cell_type": "markdown",
   "metadata": {},
   "source": [
    "Save Datasets for Recommendation Testing"
   ]
  },
  {
   "cell_type": "code",
   "execution_count": 172,
   "metadata": {},
   "outputs": [],
   "source": [
    "playlist_recco.to_parquet(\"for_recco_test/playlist_full.parquet\", index=False)\n",
    "track_final.to_parquet(\"for_recco_test/track_full.parquet\", index=False)"
   ]
  }
 ],
 "metadata": {
  "kernelspec": {
   "display_name": "myenv",
   "language": "python",
   "name": "python3"
  },
  "language_info": {
   "codemirror_mode": {
    "name": "ipython",
    "version": 3
   },
   "file_extension": ".py",
   "mimetype": "text/x-python",
   "name": "python",
   "nbconvert_exporter": "python",
   "pygments_lexer": "ipython3",
   "version": "3.10.15"
  }
 },
 "nbformat": 4,
 "nbformat_minor": 2
}
